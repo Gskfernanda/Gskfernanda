{
  "cells": [
    {
      "cell_type": "markdown",
      "metadata": {
        "id": "Cs9E_R5yD48u"
      },
      "source": [
        "# **Assignment \\#2**: Machine Learning MC886/MO444\n",
        "University of Campinas (UNICAMP), Institute of Computing (IC)\n",
        "\n",
        "Prof. Sandra Avila, 2022s2\n",
        "\n"
      ]
    },
    {
      "cell_type": "code",
      "execution_count": null,
      "metadata": {
        "id": "tFS9Oum_RJX9"
      },
      "outputs": [],
      "source": [
        "# TODO: RA & Name"
      ]
    },
    {
      "cell_type": "markdown",
      "metadata": {
        "id": "IVGH2s7fD_03"
      },
      "source": [
        "## Objective\n",
        "\n",
        "Explore **linear regression** and **logistic regression** alternatives and come up with the best possible model for the problems, avoiding overfitting. In particular, predict the performance of students from public schools in the state of São Paulo based on socioeconomic data from SARESP (School Performance Assessment System of the State of São Paulo, or Sistema de Avaliação de Rendimento Escolar do Estado de São Paulo) 2021."
      ]
    },
    {
      "cell_type": "markdown",
      "metadata": {
        "id": "r3XDZRGqEwsk"
      },
      "source": [
        "### Dataset\n",
        "\n",
        "These data were aggregated from [Open Data Platform of the Secretary of Education of the State of São Paulo](https://dados.educacao.sp.gov.br/) (*Portal de Dados Abertos da Secretaria da Educação do Estado de São Paulo*). The dataset is based on two data sources: [SARESP questionnaire](https://dados.educacao.sp.gov.br/dataset/question%C3%A1rios-saresp) and [SARESP test](https://dados.educacao.sp.gov.br/dataset/profici%C3%AAncia-do-sistema-de-avalia%C3%A7%C3%A3o-de-rendimento-escolar-do-estado-de-s%C3%A3o-paulo-saresp-por), conducted in 2021 with students from the 5th and 9th year of Primary School and 3rd year of Highschool. The questionnaire comprehends 63 socio-economical questions, and it is available at the [link](https://dados.educacao.sp.gov.br/sites/default/files/Saresp_Quest_2021_Perguntas_Alunos.pdf ) ([English version](https://docs.google.com/document/d/1GUax3wwYxA43d3iNOiyCRImeCHgx8vUJrHlSzzYIXA4/edit?usp=sharing)), and the test is composed of questions of Portuguese, Mathematics, and Natural Sciences.\n",
        "\n",
        "\n",
        "**Data Dictionary**:\n",
        "\n",
        "- **CD_ALUNO**: Student ID;\n",
        "\n",
        "- **CODESC**: School ID;\n",
        "\n",
        "- **NOMESC**: School Name;\n",
        "\n",
        "- **RegiaoMetropolitana**: Metropolitan region;\n",
        "\n",
        "- **DE**: Name of the Education Board;\n",
        "\n",
        "- **CODMUN**: City ID;\n",
        "\n",
        "- **MUN**: City name;\n",
        "\n",
        "- **SERIE_ANO**: Scholar year;\n",
        "\n",
        "- **TURMA**: Class;\n",
        "\n",
        "- **TP_SEXO**: Sex (Female/Male);\n",
        "\n",
        "- **DT_NASCIMENTO**: Birth date;\n",
        "\n",
        "- **PERIODO**: Period of study (morning, afternoon, evening);\n",
        "\n",
        "- **Tem_Nec**: Whether student has any special needs (1 = yes, 0 = no);\n",
        "\n",
        "- **NEC_ESP_1** - **NEC_ESP_5**: Student disabilities;\n",
        "\n",
        "- **Tipo_PROVA**: Exam type (A = Enlarged, B = Braile, C = Common);\n",
        "\n",
        "- **QN**: Student answer to the question N (N= 1, ... , 63), see  questions in [questionnaire](https://dados.educacao.sp.gov.br/sites/default/files/Saresp_Quest_2021_Perguntas_Alunos.pdf ) ([English version](https://docs.google.com/document/d/1GUax3wwYxA43d3iNOiyCRImeCHgx8vUJrHlSzzYIXA4/edit?usp=sharing));\n",
        "\n",
        "- **porc_ACERT_lp**: Percentage of correct answers in the Portuguese test;\n",
        "\n",
        "- **porc_ACERT_MAT**: Percentage of correct answers in the Mathematics test;\n",
        "\n",
        "- **porc_ACERT_CIE**: Percentage of correct answers in the Natural Sciences test;\n",
        "\n",
        "- **nivel_profic_lp**: Proficiency level in the Portuguese test;\n",
        "\n",
        "- **nivel_profic_mat**: Proficiency level in the Mathematics test;\n",
        "\n",
        "- **nivel_profic_cie**:  Proficiency level in the Natural Sciences test.\n",
        "\n",
        "\n",
        "---\n",
        "\n",
        "\n",
        "\n",
        "You must respect the following training/test split:\n",
        "- SARESP_train.csv\n",
        "- SARESP_test.csv"
      ]
    },
    {
      "cell_type": "markdown",
      "metadata": {
        "id": "5FAA8hsZUseO"
      },
      "source": [
        "## Linear Regression\n",
        "\n",
        "This part of the assignment aims to predict students' performance on Portuguese, Mathematics, and Natural Sciences tests (target values: `porc_ACERT_lp`, `porc_ACERT_MAT`, and  `porc_ACERT_CIE`) based on their socioeconomic data. Then, at this point, you have to **drop the columns `nivel_profic_lp`, `nivel_profic_mat`** and **`nivel_profic_cie`**."
      ]
    },
    {
      "cell_type": "markdown",
      "metadata": {
        "id": "5d495CmpCltx"
      },
      "source": [
        "### Activities\n",
        "\n",
        "1. (3.5 points) Perform Linear Regression. You should implement your solution and compare it with ```sklearn.linear_model.SGDRegressor``` (linear model fitted by minimizing a regularized empirical loss with SGD, http://scikit-learn.org). Keep in mind that friends don't let friends use testing data for training :-)\n",
        "\n",
        "Note: Before we start an ML project, we always conduct a brief exploratory analysis :D \n",
        "\n",
        "Some factors to consider: Are there any outliers? Are there missing values? How will you handle categorical variables? Are there any features with low correlation with the target variables? What happens if you drop them?\n",
        "\n",
        "\n"
      ]
    },
    {
      "cell_type": "markdown",
      "metadata": {
        "id": "N2d0xHXdXK4z"
      },
      "source": [
        "\n",
        "#*Questão 1*#\n"
      ]
    },
    {
      "cell_type": "markdown",
      "metadata": {
        "id": "4bMsCpRpIN5y"
      },
      "source": [
        "# <h3> 1. Importando os dados#\n",
        "\n",
        "---\n",
        "\n"
      ]
    },
    {
      "cell_type": "code",
      "execution_count": null,
      "metadata": {
        "colab": {
          "base_uri": "https://localhost:8080/",
          "height": 328
        },
        "id": "_eB1ZND58Nmk",
        "outputId": "229d1706-a1e7-4f13-e857-a88c7d4059be"
      },
      "outputs": [
        {
          "output_type": "error",
          "ename": "MessageError",
          "evalue": "ignored",
          "traceback": [
            "\u001b[0;31m---------------------------------------------------------------------------\u001b[0m",
            "\u001b[0;31mMessageError\u001b[0m                              Traceback (most recent call last)",
            "\u001b[0;32m<ipython-input-2-d5df0069828e>\u001b[0m in \u001b[0;36m<cell line: 2>\u001b[0;34m()\u001b[0m\n\u001b[1;32m      1\u001b[0m \u001b[0;32mfrom\u001b[0m \u001b[0mgoogle\u001b[0m\u001b[0;34m.\u001b[0m\u001b[0mcolab\u001b[0m \u001b[0;32mimport\u001b[0m \u001b[0mdrive\u001b[0m\u001b[0;34m\u001b[0m\u001b[0;34m\u001b[0m\u001b[0m\n\u001b[0;32m----> 2\u001b[0;31m \u001b[0mdrive\u001b[0m\u001b[0;34m.\u001b[0m\u001b[0mmount\u001b[0m\u001b[0;34m(\u001b[0m\u001b[0;34m'/content/drive'\u001b[0m\u001b[0;34m)\u001b[0m\u001b[0;34m\u001b[0m\u001b[0;34m\u001b[0m\u001b[0m\n\u001b[0m",
            "\u001b[0;32m/usr/local/lib/python3.10/dist-packages/google/colab/drive.py\u001b[0m in \u001b[0;36mmount\u001b[0;34m(mountpoint, force_remount, timeout_ms, readonly)\u001b[0m\n\u001b[1;32m    101\u001b[0m \u001b[0;32mdef\u001b[0m \u001b[0mmount\u001b[0m\u001b[0;34m(\u001b[0m\u001b[0mmountpoint\u001b[0m\u001b[0;34m,\u001b[0m \u001b[0mforce_remount\u001b[0m\u001b[0;34m=\u001b[0m\u001b[0;32mFalse\u001b[0m\u001b[0;34m,\u001b[0m \u001b[0mtimeout_ms\u001b[0m\u001b[0;34m=\u001b[0m\u001b[0;36m120000\u001b[0m\u001b[0;34m,\u001b[0m \u001b[0mreadonly\u001b[0m\u001b[0;34m=\u001b[0m\u001b[0;32mFalse\u001b[0m\u001b[0;34m)\u001b[0m\u001b[0;34m:\u001b[0m\u001b[0;34m\u001b[0m\u001b[0;34m\u001b[0m\u001b[0m\n\u001b[1;32m    102\u001b[0m   \u001b[0;34m\"\"\"Mount your Google Drive at the specified mountpoint path.\"\"\"\u001b[0m\u001b[0;34m\u001b[0m\u001b[0;34m\u001b[0m\u001b[0m\n\u001b[0;32m--> 103\u001b[0;31m   return _mount(\n\u001b[0m\u001b[1;32m    104\u001b[0m       \u001b[0mmountpoint\u001b[0m\u001b[0;34m,\u001b[0m\u001b[0;34m\u001b[0m\u001b[0;34m\u001b[0m\u001b[0m\n\u001b[1;32m    105\u001b[0m       \u001b[0mforce_remount\u001b[0m\u001b[0;34m=\u001b[0m\u001b[0mforce_remount\u001b[0m\u001b[0;34m,\u001b[0m\u001b[0;34m\u001b[0m\u001b[0;34m\u001b[0m\u001b[0m\n",
            "\u001b[0;32m/usr/local/lib/python3.10/dist-packages/google/colab/drive.py\u001b[0m in \u001b[0;36m_mount\u001b[0;34m(mountpoint, force_remount, timeout_ms, ephemeral, readonly)\u001b[0m\n\u001b[1;32m    130\u001b[0m   )\n\u001b[1;32m    131\u001b[0m   \u001b[0;32mif\u001b[0m \u001b[0mephemeral\u001b[0m\u001b[0;34m:\u001b[0m\u001b[0;34m\u001b[0m\u001b[0;34m\u001b[0m\u001b[0m\n\u001b[0;32m--> 132\u001b[0;31m     _message.blocking_request(\n\u001b[0m\u001b[1;32m    133\u001b[0m         \u001b[0;34m'request_auth'\u001b[0m\u001b[0;34m,\u001b[0m \u001b[0mrequest\u001b[0m\u001b[0;34m=\u001b[0m\u001b[0;34m{\u001b[0m\u001b[0;34m'authType'\u001b[0m\u001b[0;34m:\u001b[0m \u001b[0;34m'dfs_ephemeral'\u001b[0m\u001b[0;34m}\u001b[0m\u001b[0;34m,\u001b[0m \u001b[0mtimeout_sec\u001b[0m\u001b[0;34m=\u001b[0m\u001b[0;32mNone\u001b[0m\u001b[0;34m\u001b[0m\u001b[0;34m\u001b[0m\u001b[0m\n\u001b[1;32m    134\u001b[0m     )\n",
            "\u001b[0;32m/usr/local/lib/python3.10/dist-packages/google/colab/_message.py\u001b[0m in \u001b[0;36mblocking_request\u001b[0;34m(request_type, request, timeout_sec, parent)\u001b[0m\n\u001b[1;32m    174\u001b[0m       \u001b[0mrequest_type\u001b[0m\u001b[0;34m,\u001b[0m \u001b[0mrequest\u001b[0m\u001b[0;34m,\u001b[0m \u001b[0mparent\u001b[0m\u001b[0;34m=\u001b[0m\u001b[0mparent\u001b[0m\u001b[0;34m,\u001b[0m \u001b[0mexpect_reply\u001b[0m\u001b[0;34m=\u001b[0m\u001b[0;32mTrue\u001b[0m\u001b[0;34m\u001b[0m\u001b[0;34m\u001b[0m\u001b[0m\n\u001b[1;32m    175\u001b[0m   )\n\u001b[0;32m--> 176\u001b[0;31m   \u001b[0;32mreturn\u001b[0m \u001b[0mread_reply_from_input\u001b[0m\u001b[0;34m(\u001b[0m\u001b[0mrequest_id\u001b[0m\u001b[0;34m,\u001b[0m \u001b[0mtimeout_sec\u001b[0m\u001b[0;34m)\u001b[0m\u001b[0;34m\u001b[0m\u001b[0;34m\u001b[0m\u001b[0m\n\u001b[0m",
            "\u001b[0;32m/usr/local/lib/python3.10/dist-packages/google/colab/_message.py\u001b[0m in \u001b[0;36mread_reply_from_input\u001b[0;34m(message_id, timeout_sec)\u001b[0m\n\u001b[1;32m    101\u001b[0m     ):\n\u001b[1;32m    102\u001b[0m       \u001b[0;32mif\u001b[0m \u001b[0;34m'error'\u001b[0m \u001b[0;32min\u001b[0m \u001b[0mreply\u001b[0m\u001b[0;34m:\u001b[0m\u001b[0;34m\u001b[0m\u001b[0;34m\u001b[0m\u001b[0m\n\u001b[0;32m--> 103\u001b[0;31m         \u001b[0;32mraise\u001b[0m \u001b[0mMessageError\u001b[0m\u001b[0;34m(\u001b[0m\u001b[0mreply\u001b[0m\u001b[0;34m[\u001b[0m\u001b[0;34m'error'\u001b[0m\u001b[0;34m]\u001b[0m\u001b[0;34m)\u001b[0m\u001b[0;34m\u001b[0m\u001b[0;34m\u001b[0m\u001b[0m\n\u001b[0m\u001b[1;32m    104\u001b[0m       \u001b[0;32mreturn\u001b[0m \u001b[0mreply\u001b[0m\u001b[0;34m.\u001b[0m\u001b[0mget\u001b[0m\u001b[0;34m(\u001b[0m\u001b[0;34m'data'\u001b[0m\u001b[0;34m,\u001b[0m \u001b[0;32mNone\u001b[0m\u001b[0;34m)\u001b[0m\u001b[0;34m\u001b[0m\u001b[0;34m\u001b[0m\u001b[0m\n\u001b[1;32m    105\u001b[0m \u001b[0;34m\u001b[0m\u001b[0m\n",
            "\u001b[0;31mMessageError\u001b[0m: Error: credential propagation was unsuccessful"
          ]
        }
      ],
      "source": [
        "from google.colab import drive\n",
        "drive.mount('/content/drive')"
      ]
    },
    {
      "cell_type": "code",
      "execution_count": null,
      "metadata": {
        "id": "3y0QxxH1KgE1"
      },
      "outputs": [],
      "source": [
        "import numpy as np\n",
        "import pandas as pd\n",
        "import matplotlib.pyplot as plt\n",
        "import seaborn as sns\n",
        "%matplotlib inline"
      ]
    },
    {
      "cell_type": "code",
      "execution_count": null,
      "metadata": {
        "id": "YyRfxiJIJkv-"
      },
      "outputs": [],
      "source": [
        "#df=pd.read_csv(\"/content/drive/MyDrive/2.trabalho-pos-2/code/train.csv\")\n",
        "df=pd.read_csv(\"/content/drive/MyDrive/17-Unicamp/mprendizado-de-maquina /2.trabalho-pos-2/code/train.csv\")"
      ]
    },
    {
      "cell_type": "code",
      "execution_count": null,
      "metadata": {
        "id": "o9eMvUTPJmRA"
      },
      "outputs": [],
      "source": [
        "df.head()"
      ]
    },
    {
      "cell_type": "markdown",
      "metadata": {
        "id": "Y83eoo5CKm09"
      },
      "source": [
        "#<h3> 2. Analizando os dados#"
      ]
    },
    {
      "cell_type": "code",
      "execution_count": null,
      "metadata": {
        "colab": {
          "base_uri": "https://localhost:8080/"
        },
        "id": "rKIn26CZ9mwe",
        "outputId": "dd1b1fbe-94c9-4b5e-82f8-395f7f854287"
      },
      "outputs": [
        {
          "name": "stdout",
          "output_type": "stream",
          "text": [
            "<class 'pandas.core.frame.DataFrame'>\n",
            "RangeIndex: 120596 entries, 0 to 120595\n",
            "Data columns (total 88 columns):\n",
            " #   Column               Non-Null Count   Dtype  \n",
            "---  ------               --------------   -----  \n",
            " 0   CD_ALUNO             120596 non-null  int64  \n",
            " 1   NOMESC               120596 non-null  object \n",
            " 2   Q1                   120596 non-null  object \n",
            " 3   Q2                   120596 non-null  object \n",
            " 4   Q3                   120596 non-null  object \n",
            " 5   Q4                   120596 non-null  object \n",
            " 6   Q5                   120596 non-null  object \n",
            " 7   Q6                   120596 non-null  object \n",
            " 8   Q7                   120596 non-null  object \n",
            " 9   Q8                   120596 non-null  object \n",
            " 10  Q9                   120596 non-null  object \n",
            " 11  Q10                  120596 non-null  object \n",
            " 12  Q11                  120596 non-null  object \n",
            " 13  Q12                  120596 non-null  object \n",
            " 14  Q13                  120596 non-null  object \n",
            " 15  Q14                  120596 non-null  object \n",
            " 16  Q15                  120596 non-null  object \n",
            " 17  Q16                  120596 non-null  object \n",
            " 18  Q17                  120596 non-null  object \n",
            " 19  Q18                  120596 non-null  object \n",
            " 20  Q19                  120596 non-null  object \n",
            " 21  Q20                  120596 non-null  object \n",
            " 22  Q21                  120596 non-null  object \n",
            " 23  Q22                  120596 non-null  object \n",
            " 24  Q23                  120596 non-null  object \n",
            " 25  Q24                  120596 non-null  object \n",
            " 26  Q25                  120596 non-null  object \n",
            " 27  Q26                  120596 non-null  object \n",
            " 28  Q27                  120596 non-null  object \n",
            " 29  Q28                  120596 non-null  object \n",
            " 30  Q29                  120596 non-null  object \n",
            " 31  Q30                  120596 non-null  object \n",
            " 32  Q31                  120596 non-null  object \n",
            " 33  Q32                  120596 non-null  object \n",
            " 34  Q33                  120596 non-null  object \n",
            " 35  Q34                  120596 non-null  object \n",
            " 36  Q35                  120596 non-null  object \n",
            " 37  Q36                  120596 non-null  object \n",
            " 38  Q37                  120596 non-null  object \n",
            " 39  Q38                  120596 non-null  object \n",
            " 40  Q39                  120596 non-null  object \n",
            " 41  Q40                  120596 non-null  object \n",
            " 42  Q41                  120596 non-null  object \n",
            " 43  Q42                  120596 non-null  object \n",
            " 44  Q43                  120596 non-null  object \n",
            " 45  Q44                  120596 non-null  object \n",
            " 46  Q45                  120596 non-null  object \n",
            " 47  Q46                  120596 non-null  object \n",
            " 48  Q47                  120596 non-null  object \n",
            " 49  Q48                  120596 non-null  object \n",
            " 50  Q49                  120596 non-null  object \n",
            " 51  Q50                  120596 non-null  object \n",
            " 52  Q51                  120596 non-null  object \n",
            " 53  Q52                  120596 non-null  object \n",
            " 54  Q53                  120596 non-null  object \n",
            " 55  Q54                  120596 non-null  object \n",
            " 56  Q55                  120596 non-null  object \n",
            " 57  Q56                  120596 non-null  object \n",
            " 58  Q57                  120596 non-null  object \n",
            " 59  Q58                  120596 non-null  object \n",
            " 60  Q59                  120596 non-null  object \n",
            " 61  Q60                  120596 non-null  object \n",
            " 62  Q61                  120596 non-null  object \n",
            " 63  Q62                  120596 non-null  object \n",
            " 64  Q63                  120596 non-null  object \n",
            " 65  RegiaoMetropolitana  120596 non-null  object \n",
            " 66  DE                   120596 non-null  object \n",
            " 67  CODMUN               120596 non-null  int64  \n",
            " 68  MUN                  120596 non-null  object \n",
            " 69  CODESC               120596 non-null  int64  \n",
            " 70  SERIE_ANO            120596 non-null  object \n",
            " 71  TURMA                120596 non-null  object \n",
            " 72  TP_SEXO              120596 non-null  object \n",
            " 73  DT_NASCIMENTO        120596 non-null  object \n",
            " 74  PERIODO              120596 non-null  object \n",
            " 75  NEC_ESP_1            2390 non-null    object \n",
            " 76  NEC_ESP_2            107 non-null     object \n",
            " 77  NEC_ESP_3            76 non-null      object \n",
            " 78  NEC_ESP_4            1 non-null       object \n",
            " 79  NEC_ESP_5            0 non-null       float64\n",
            " 80  Tipo_PROVA           120596 non-null  object \n",
            " 81  Tem_Nec              120596 non-null  int64  \n",
            " 82  porc_ACERT_lp        120596 non-null  float64\n",
            " 83  porc_ACERT_MAT       120596 non-null  float64\n",
            " 84  porc_ACERT_CIE       120596 non-null  float64\n",
            " 85  nivel_profic_lp      120596 non-null  object \n",
            " 86  nivel_profic_mat     120596 non-null  object \n",
            " 87  nivel_profic_cie     120596 non-null  object \n",
            "dtypes: float64(4), int64(4), object(80)\n",
            "memory usage: 81.0+ MB\n"
          ]
        }
      ],
      "source": [
        "df.info()"
      ]
    },
    {
      "cell_type": "markdown",
      "metadata": {
        "id": "bXSxlOaFLbOo"
      },
      "source": [
        "<h5> 2.1 Verificando campos nulos "
      ]
    },
    {
      "cell_type": "code",
      "execution_count": null,
      "metadata": {
        "colab": {
          "base_uri": "https://localhost:8080/"
        },
        "id": "_1f70YhlF8mQ",
        "outputId": "4fe48de5-fe20-4fb2-b721-ba6d4aff80ab"
      },
      "outputs": [
        {
          "data": {
            "text/plain": [
              "0"
            ]
          },
          "execution_count": 8,
          "metadata": {},
          "output_type": "execute_result"
        }
      ],
      "source": [
        "df.isna().sum().head(60)\n",
        "df.isna().sum().tail(60)\n",
        "df[\"porc_ACERT_lp\"].isna().sum()\n",
        "df[\"porc_ACERT_MAT\"].isna().sum()\n",
        "df[\"porc_ACERT_CIE\"].isna().sum()"
      ]
    },
    {
      "cell_type": "markdown",
      "metadata": {
        "id": "OfXx6ySUPIah"
      },
      "source": [
        "<h5> 2.2 Analisando a importância das variáveis para previsão \n",
        "porcentagem de acerto em português"
      ]
    },
    {
      "cell_type": "code",
      "execution_count": null,
      "metadata": {
        "id": "4LBqLPAXM-LN"
      },
      "outputs": [],
      "source": [
        "#Fazendo uma cópia do dataset para manter íntegro o original\n",
        "df_analise = df.copy()"
      ]
    },
    {
      "cell_type": "code",
      "execution_count": null,
      "metadata": {
        "colab": {
          "base_uri": "https://localhost:8080/"
        },
        "id": "JUsRn6FFRXzk",
        "outputId": "33963f9b-f04d-4eec-fe6c-bb44923bfe6f"
      },
      "outputs": [
        {
          "data": {
            "text/plain": [
              "porc_ACERT_lp     1.000000\n",
              "porc_ACERT_CIE    0.649702\n",
              "porc_ACERT_MAT    0.629972\n",
              "CD_ALUNO          0.165753\n",
              "CODESC           -0.009205\n",
              "PERIODO          -0.011091\n",
              "CODMUN           -0.045933\n",
              "Tem_Nec          -0.128617\n",
              "NEC_ESP_5              NaN\n",
              "Name: porc_ACERT_lp, dtype: float64"
            ]
          },
          "execution_count": 25,
          "metadata": {},
          "output_type": "execute_result"
        }
      ],
      "source": [
        "#Começar analisando as features que tem baixa correlação , ou seja o valor esteja muito próximo de 0\n",
        "corr_matrix = df_analise.corr()\n",
        "corr_matrix['porc_ACERT_lp'].sort_values(ascending=False)"
      ]
    },
    {
      "cell_type": "code",
      "execution_count": null,
      "metadata": {
        "colab": {
          "base_uri": "https://localhost:8080/"
        },
        "id": "P8V36roRQ0j1",
        "outputId": "ce329603-7905-43a1-e329-666dff3242ba"
      },
      "outputs": [
        {
          "data": {
            "text/html": [
              "\n",
              "  <div id=\"df-ad32cd09-2c47-47da-a8ee-a9361de86410\">\n",
              "    <div class=\"colab-df-container\">\n",
              "      <div>\n",
              "<style scoped>\n",
              "    .dataframe tbody tr th:only-of-type {\n",
              "        vertical-align: middle;\n",
              "    }\n",
              "\n",
              "    .dataframe tbody tr th {\n",
              "        vertical-align: top;\n",
              "    }\n",
              "\n",
              "    .dataframe thead th {\n",
              "        text-align: right;\n",
              "    }\n",
              "</style>\n",
              "<table border=\"1\" class=\"dataframe\">\n",
              "  <thead>\n",
              "    <tr style=\"text-align: right;\">\n",
              "      <th></th>\n",
              "      <th>PERIODO</th>\n",
              "      <th>count</th>\n",
              "      <th>mean</th>\n",
              "      <th>std</th>\n",
              "      <th>min</th>\n",
              "      <th>25%</th>\n",
              "      <th>50%</th>\n",
              "      <th>75%</th>\n",
              "      <th>max</th>\n",
              "    </tr>\n",
              "  </thead>\n",
              "  <tbody>\n",
              "    <tr>\n",
              "      <th>2</th>\n",
              "      <td>TARDE</td>\n",
              "      <td>25021.0</td>\n",
              "      <td>61.935602</td>\n",
              "      <td>21.589086</td>\n",
              "      <td>0.0</td>\n",
              "      <td>45.8</td>\n",
              "      <td>62.5</td>\n",
              "      <td>79.2</td>\n",
              "      <td>100.0</td>\n",
              "    </tr>\n",
              "    <tr>\n",
              "      <th>0</th>\n",
              "      <td>MANHÃ</td>\n",
              "      <td>82289.0</td>\n",
              "      <td>60.981667</td>\n",
              "      <td>21.417846</td>\n",
              "      <td>0.0</td>\n",
              "      <td>45.8</td>\n",
              "      <td>62.5</td>\n",
              "      <td>79.2</td>\n",
              "      <td>100.0</td>\n",
              "    </tr>\n",
              "    <tr>\n",
              "      <th>1</th>\n",
              "      <td>NOITE</td>\n",
              "      <td>13286.0</td>\n",
              "      <td>51.647193</td>\n",
              "      <td>22.020896</td>\n",
              "      <td>0.0</td>\n",
              "      <td>33.3</td>\n",
              "      <td>50.0</td>\n",
              "      <td>70.8</td>\n",
              "      <td>100.0</td>\n",
              "    </tr>\n",
              "  </tbody>\n",
              "</table>\n",
              "</div>\n",
              "      <button class=\"colab-df-convert\" onclick=\"convertToInteractive('df-ad32cd09-2c47-47da-a8ee-a9361de86410')\"\n",
              "              title=\"Convert this dataframe to an interactive table.\"\n",
              "              style=\"display:none;\">\n",
              "        \n",
              "  <svg xmlns=\"http://www.w3.org/2000/svg\" height=\"24px\"viewBox=\"0 0 24 24\"\n",
              "       width=\"24px\">\n",
              "    <path d=\"M0 0h24v24H0V0z\" fill=\"none\"/>\n",
              "    <path d=\"M18.56 5.44l.94 2.06.94-2.06 2.06-.94-2.06-.94-.94-2.06-.94 2.06-2.06.94zm-11 1L8.5 8.5l.94-2.06 2.06-.94-2.06-.94L8.5 2.5l-.94 2.06-2.06.94zm10 10l.94 2.06.94-2.06 2.06-.94-2.06-.94-.94-2.06-.94 2.06-2.06.94z\"/><path d=\"M17.41 7.96l-1.37-1.37c-.4-.4-.92-.59-1.43-.59-.52 0-1.04.2-1.43.59L10.3 9.45l-7.72 7.72c-.78.78-.78 2.05 0 2.83L4 21.41c.39.39.9.59 1.41.59.51 0 1.02-.2 1.41-.59l7.78-7.78 2.81-2.81c.8-.78.8-2.07 0-2.86zM5.41 20L4 18.59l7.72-7.72 1.47 1.35L5.41 20z\"/>\n",
              "  </svg>\n",
              "      </button>\n",
              "      \n",
              "  <style>\n",
              "    .colab-df-container {\n",
              "      display:flex;\n",
              "      flex-wrap:wrap;\n",
              "      gap: 12px;\n",
              "    }\n",
              "\n",
              "    .colab-df-convert {\n",
              "      background-color: #E8F0FE;\n",
              "      border: none;\n",
              "      border-radius: 50%;\n",
              "      cursor: pointer;\n",
              "      display: none;\n",
              "      fill: #1967D2;\n",
              "      height: 32px;\n",
              "      padding: 0 0 0 0;\n",
              "      width: 32px;\n",
              "    }\n",
              "\n",
              "    .colab-df-convert:hover {\n",
              "      background-color: #E2EBFA;\n",
              "      box-shadow: 0px 1px 2px rgba(60, 64, 67, 0.3), 0px 1px 3px 1px rgba(60, 64, 67, 0.15);\n",
              "      fill: #174EA6;\n",
              "    }\n",
              "\n",
              "    [theme=dark] .colab-df-convert {\n",
              "      background-color: #3B4455;\n",
              "      fill: #D2E3FC;\n",
              "    }\n",
              "\n",
              "    [theme=dark] .colab-df-convert:hover {\n",
              "      background-color: #434B5C;\n",
              "      box-shadow: 0px 1px 3px 1px rgba(0, 0, 0, 0.15);\n",
              "      filter: drop-shadow(0px 1px 2px rgba(0, 0, 0, 0.3));\n",
              "      fill: #FFFFFF;\n",
              "    }\n",
              "  </style>\n",
              "\n",
              "      <script>\n",
              "        const buttonEl =\n",
              "          document.querySelector('#df-ad32cd09-2c47-47da-a8ee-a9361de86410 button.colab-df-convert');\n",
              "        buttonEl.style.display =\n",
              "          google.colab.kernel.accessAllowed ? 'block' : 'none';\n",
              "\n",
              "        async function convertToInteractive(key) {\n",
              "          const element = document.querySelector('#df-ad32cd09-2c47-47da-a8ee-a9361de86410');\n",
              "          const dataTable =\n",
              "            await google.colab.kernel.invokeFunction('convertToInteractive',\n",
              "                                                     [key], {});\n",
              "          if (!dataTable) return;\n",
              "\n",
              "          const docLinkHtml = 'Like what you see? Visit the ' +\n",
              "            '<a target=\"_blank\" href=https://colab.research.google.com/notebooks/data_table.ipynb>data table notebook</a>'\n",
              "            + ' to learn more about interactive tables.';\n",
              "          element.innerHTML = '';\n",
              "          dataTable['output_type'] = 'display_data';\n",
              "          await google.colab.output.renderOutput(dataTable, element);\n",
              "          const docLink = document.createElement('div');\n",
              "          docLink.innerHTML = docLinkHtml;\n",
              "          element.appendChild(docLink);\n",
              "        }\n",
              "      </script>\n",
              "    </div>\n",
              "  </div>\n",
              "  "
            ],
            "text/plain": [
              "  PERIODO    count       mean        std  min   25%   50%   75%    max\n",
              "2   TARDE  25021.0  61.935602  21.589086  0.0  45.8  62.5  79.2  100.0\n",
              "0   MANHÃ  82289.0  60.981667  21.417846  0.0  45.8  62.5  79.2  100.0\n",
              "1   NOITE  13286.0  51.647193  22.020896  0.0  33.3  50.0  70.8  100.0"
            ]
          },
          "execution_count": 16,
          "metadata": {},
          "output_type": "execute_result"
        }
      ],
      "source": [
        "df_analise.groupby('PERIODO')[\"porc_ACERT_lp\"].describe().reset_index().sort_values(by=['mean'], ascending=False)"
      ]
    },
    {
      "cell_type": "code",
      "execution_count": null,
      "metadata": {
        "colab": {
          "base_uri": "https://localhost:8080/"
        },
        "id": "dmuhPCv8N82_",
        "outputId": "d8161d6e-0caf-4277-c350-b329844f0ce2"
      },
      "outputs": [
        {
          "data": {
            "text/plain": [
              "0    MANHÃ\n",
              "6    NOITE\n",
              "8    TARDE\n",
              "Name: PERIODO, dtype: object"
            ]
          },
          "execution_count": 17,
          "metadata": {},
          "output_type": "execute_result"
        }
      ],
      "source": [
        "# Identificando os valores unicos para a feature PERIODO\n",
        "df_analise['PERIODO'].drop_duplicates()"
      ]
    },
    {
      "cell_type": "code",
      "execution_count": null,
      "metadata": {
        "id": "w6WD84bdRXSl"
      },
      "outputs": [],
      "source": [
        "# Fazendo um tratamento da variável período para verificar a correlação com a target(porc_ACERT_lp)\n",
        "df_analise['PERIODO'].replace(['MANHÃ', 'NOITE', 'TARDE'], [0,1,2], inplace=True)"
      ]
    },
    {
      "cell_type": "code",
      "execution_count": null,
      "metadata": {
        "colab": {
          "base_uri": "https://localhost:8080/"
        },
        "id": "4M3QWyFHRf4m",
        "outputId": "215317d1-43ad-4574-93e3-b36ec6d1e7cf"
      },
      "outputs": [
        {
          "data": {
            "text/plain": [
              "porc_ACERT_lp    1.000000\n",
              "PERIODO         -0.011091\n",
              "Name: porc_ACERT_lp, dtype: float64"
            ]
          },
          "execution_count": 19,
          "metadata": {},
          "output_type": "execute_result"
        }
      ],
      "source": [
        "# Criando a matrix de correlação entre a porcentagem de acerto em portugues com o perído\n",
        "corr_matrix = df_analise[['porc_ACERT_lp', 'PERIODO']].corr()\n",
        "corr_matrix['porc_ACERT_lp'].sort_values(ascending=False)"
      ]
    },
    {
      "cell_type": "code",
      "execution_count": null,
      "metadata": {
        "colab": {
          "base_uri": "https://localhost:8080/"
        },
        "id": "IS-kWiVzOWln",
        "outputId": "30c105fd-ca23-4adc-f4a0-6746b7858204"
      },
      "outputs": [
        {
          "data": {
            "image/png": "[encoded data removed]",
            "text/plain": [
              "<Figure size 432x288 with 1 Axes>"
            ]
          },
          "metadata": {},
          "output_type": "display_data"
        }
      ],
      "source": [
        "df_analise['PERIODO'].hist(bins=10)\n",
        "plt.show()"
      ]
    },
    {
      "cell_type": "markdown",
      "metadata": {
        "id": "T9_ZdEapPDFF"
      },
      "source": [
        "> Podemos perceber quando olhamos para a matrix de correlação que a feature <br> PERIODO não tem muito peso de relação com a variável target.\n",
        "\n",
        "> Analisando o histograma também conseguimos identificar 3 categorias e que existe um desbalanceamento entre elas "
      ]
    },
    {
      "cell_type": "code",
      "execution_count": null,
      "metadata": {
        "colab": {
          "base_uri": "https://localhost:8080/"
        },
        "id": "ye7FcknMPYrJ",
        "outputId": "36b8a360-d5f6-4a17-db81-dc3df1a00a7a"
      },
      "outputs": [
        {
          "data": {
            "text/html": [
              "\n",
              "  <div id=\"df-7c2ec770-22ce-42e9-9cbc-b53b33f7ded3\">\n",
              "    <div class=\"colab-df-container\">\n",
              "      <div>\n",
              "<style scoped>\n",
              "    .dataframe tbody tr th:only-of-type {\n",
              "        vertical-align: middle;\n",
              "    }\n",
              "\n",
              "    .dataframe tbody tr th {\n",
              "        vertical-align: top;\n",
              "    }\n",
              "\n",
              "    .dataframe thead th {\n",
              "        text-align: right;\n",
              "    }\n",
              "</style>\n",
              "<table border=\"1\" class=\"dataframe\">\n",
              "  <thead>\n",
              "    <tr style=\"text-align: right;\">\n",
              "      <th></th>\n",
              "      <th>Tem_Nec</th>\n",
              "      <th>count</th>\n",
              "      <th>mean</th>\n",
              "      <th>std</th>\n",
              "      <th>min</th>\n",
              "      <th>25%</th>\n",
              "      <th>50%</th>\n",
              "      <th>75%</th>\n",
              "      <th>max</th>\n",
              "    </tr>\n",
              "  </thead>\n",
              "  <tbody>\n",
              "    <tr>\n",
              "      <th>0</th>\n",
              "      <td>0</td>\n",
              "      <td>118206.0</td>\n",
              "      <td>60.548635</td>\n",
              "      <td>21.547604</td>\n",
              "      <td>0.0</td>\n",
              "      <td>45.8</td>\n",
              "      <td>62.5</td>\n",
              "      <td>79.2</td>\n",
              "      <td>100.0</td>\n",
              "    </tr>\n",
              "    <tr>\n",
              "      <th>1</th>\n",
              "      <td>1</td>\n",
              "      <td>2390.0</td>\n",
              "      <td>40.495272</td>\n",
              "      <td>21.689583</td>\n",
              "      <td>0.0</td>\n",
              "      <td>25.0</td>\n",
              "      <td>33.3</td>\n",
              "      <td>54.2</td>\n",
              "      <td>100.0</td>\n",
              "    </tr>\n",
              "  </tbody>\n",
              "</table>\n",
              "</div>\n",
              "      <button class=\"colab-df-convert\" onclick=\"convertToInteractive('df-7c2ec770-22ce-42e9-9cbc-b53b33f7ded3')\"\n",
              "              title=\"Convert this dataframe to an interactive table.\"\n",
              "              style=\"display:none;\">\n",
              "        \n",
              "  <svg xmlns=\"http://www.w3.org/2000/svg\" height=\"24px\"viewBox=\"0 0 24 24\"\n",
              "       width=\"24px\">\n",
              "    <path d=\"M0 0h24v24H0V0z\" fill=\"none\"/>\n",
              "    <path d=\"M18.56 5.44l.94 2.06.94-2.06 2.06-.94-2.06-.94-.94-2.06-.94 2.06-2.06.94zm-11 1L8.5 8.5l.94-2.06 2.06-.94-2.06-.94L8.5 2.5l-.94 2.06-2.06.94zm10 10l.94 2.06.94-2.06 2.06-.94-2.06-.94-.94-2.06-.94 2.06-2.06.94z\"/><path d=\"M17.41 7.96l-1.37-1.37c-.4-.4-.92-.59-1.43-.59-.52 0-1.04.2-1.43.59L10.3 9.45l-7.72 7.72c-.78.78-.78 2.05 0 2.83L4 21.41c.39.39.9.59 1.41.59.51 0 1.02-.2 1.41-.59l7.78-7.78 2.81-2.81c.8-.78.8-2.07 0-2.86zM5.41 20L4 18.59l7.72-7.72 1.47 1.35L5.41 20z\"/>\n",
              "  </svg>\n",
              "      </button>\n",
              "      \n",
              "  <style>\n",
              "    .colab-df-container {\n",
              "      display:flex;\n",
              "      flex-wrap:wrap;\n",
              "      gap: 12px;\n",
              "    }\n",
              "\n",
              "    .colab-df-convert {\n",
              "      background-color: #E8F0FE;\n",
              "      border: none;\n",
              "      border-radius: 50%;\n",
              "      cursor: pointer;\n",
              "      display: none;\n",
              "      fill: #1967D2;\n",
              "      height: 32px;\n",
              "      padding: 0 0 0 0;\n",
              "      width: 32px;\n",
              "    }\n",
              "\n",
              "    .colab-df-convert:hover {\n",
              "      background-color: #E2EBFA;\n",
              "      box-shadow: 0px 1px 2px rgba(60, 64, 67, 0.3), 0px 1px 3px 1px rgba(60, 64, 67, 0.15);\n",
              "      fill: #174EA6;\n",
              "    }\n",
              "\n",
              "    [theme=dark] .colab-df-convert {\n",
              "      background-color: #3B4455;\n",
              "      fill: #D2E3FC;\n",
              "    }\n",
              "\n",
              "    [theme=dark] .colab-df-convert:hover {\n",
              "      background-color: #434B5C;\n",
              "      box-shadow: 0px 1px 3px 1px rgba(0, 0, 0, 0.15);\n",
              "      filter: drop-shadow(0px 1px 2px rgba(0, 0, 0, 0.3));\n",
              "      fill: #FFFFFF;\n",
              "    }\n",
              "  </style>\n",
              "\n",
              "      <script>\n",
              "        const buttonEl =\n",
              "          document.querySelector('#df-7c2ec770-22ce-42e9-9cbc-b53b33f7ded3 button.colab-df-convert');\n",
              "        buttonEl.style.display =\n",
              "          google.colab.kernel.accessAllowed ? 'block' : 'none';\n",
              "\n",
              "        async function convertToInteractive(key) {\n",
              "          const element = document.querySelector('#df-7c2ec770-22ce-42e9-9cbc-b53b33f7ded3');\n",
              "          const dataTable =\n",
              "            await google.colab.kernel.invokeFunction('convertToInteractive',\n",
              "                                                     [key], {});\n",
              "          if (!dataTable) return;\n",
              "\n",
              "          const docLinkHtml = 'Like what you see? Visit the ' +\n",
              "            '<a target=\"_blank\" href=https://colab.research.google.com/notebooks/data_table.ipynb>data table notebook</a>'\n",
              "            + ' to learn more about interactive tables.';\n",
              "          element.innerHTML = '';\n",
              "          dataTable['output_type'] = 'display_data';\n",
              "          await google.colab.output.renderOutput(dataTable, element);\n",
              "          const docLink = document.createElement('div');\n",
              "          docLink.innerHTML = docLinkHtml;\n",
              "          element.appendChild(docLink);\n",
              "        }\n",
              "      </script>\n",
              "    </div>\n",
              "  </div>\n",
              "  "
            ],
            "text/plain": [
              "   Tem_Nec     count       mean        std  min   25%   50%   75%    max\n",
              "0        0  118206.0  60.548635  21.547604  0.0  45.8  62.5  79.2  100.0\n",
              "1        1    2390.0  40.495272  21.689583  0.0  25.0  33.3  54.2  100.0"
            ]
          },
          "execution_count": 22,
          "metadata": {},
          "output_type": "execute_result"
        }
      ],
      "source": [
        "df_analise.groupby('Tem_Nec')[\"porc_ACERT_lp\"].describe().reset_index().sort_values(by=['mean'], ascending=False)"
      ]
    },
    {
      "cell_type": "code",
      "execution_count": null,
      "metadata": {
        "id": "a0rg3OSRQrRh"
      },
      "outputs": [],
      "source": [
        "# Plotar "
      ]
    },
    {
      "cell_type": "markdown",
      "metadata": {
        "id": "PqhnQmeUSCOO"
      },
      "source": [
        "> O que podemos observar dessa feature a primeiro momento é que ela está desbalanceada "
      ]
    },
    {
      "cell_type": "code",
      "execution_count": null,
      "metadata": {
        "colab": {
          "base_uri": "https://localhost:8080/"
        },
        "id": "5ev9o3vtWZL2",
        "outputId": "5a590f40-25da-46fc-a8b2-82be79eac915"
      },
      "outputs": [
        {
          "data": {
            "text/html": [
              "\n",
              "  <div id=\"df-1686cf4b-e2d8-405c-a66c-7ea9573c7cb9\">\n",
              "    <div class=\"colab-df-container\">\n",
              "      <div>\n",
              "<style scoped>\n",
              "    .dataframe tbody tr th:only-of-type {\n",
              "        vertical-align: middle;\n",
              "    }\n",
              "\n",
              "    .dataframe tbody tr th {\n",
              "        vertical-align: top;\n",
              "    }\n",
              "\n",
              "    .dataframe thead th {\n",
              "        text-align: right;\n",
              "    }\n",
              "</style>\n",
              "<table border=\"1\" class=\"dataframe\">\n",
              "  <thead>\n",
              "    <tr style=\"text-align: right;\">\n",
              "      <th></th>\n",
              "      <th>count</th>\n",
              "      <th>mean</th>\n",
              "      <th>std</th>\n",
              "      <th>min</th>\n",
              "      <th>25%</th>\n",
              "      <th>50%</th>\n",
              "      <th>75%</th>\n",
              "      <th>max</th>\n",
              "    </tr>\n",
              "    <tr>\n",
              "      <th>CODESC</th>\n",
              "      <th></th>\n",
              "      <th></th>\n",
              "      <th></th>\n",
              "      <th></th>\n",
              "      <th></th>\n",
              "      <th></th>\n",
              "      <th></th>\n",
              "      <th></th>\n",
              "    </tr>\n",
              "  </thead>\n",
              "  <tbody>\n",
              "    <tr>\n",
              "      <th>24</th>\n",
              "      <td>6.0</td>\n",
              "      <td>49.300000</td>\n",
              "      <td>19.973482</td>\n",
              "      <td>25.0</td>\n",
              "      <td>34.350</td>\n",
              "      <td>50.00</td>\n",
              "      <td>62.500</td>\n",
              "      <td>75.0</td>\n",
              "    </tr>\n",
              "    <tr>\n",
              "      <th>36</th>\n",
              "      <td>10.0</td>\n",
              "      <td>59.180000</td>\n",
              "      <td>22.199439</td>\n",
              "      <td>16.7</td>\n",
              "      <td>50.000</td>\n",
              "      <td>58.35</td>\n",
              "      <td>71.875</td>\n",
              "      <td>91.7</td>\n",
              "    </tr>\n",
              "    <tr>\n",
              "      <th>48</th>\n",
              "      <td>18.0</td>\n",
              "      <td>60.183333</td>\n",
              "      <td>23.315565</td>\n",
              "      <td>20.8</td>\n",
              "      <td>38.550</td>\n",
              "      <td>60.40</td>\n",
              "      <td>75.000</td>\n",
              "      <td>95.8</td>\n",
              "    </tr>\n",
              "    <tr>\n",
              "      <th>59</th>\n",
              "      <td>23.0</td>\n",
              "      <td>56.156522</td>\n",
              "      <td>20.410778</td>\n",
              "      <td>25.0</td>\n",
              "      <td>39.550</td>\n",
              "      <td>62.50</td>\n",
              "      <td>64.600</td>\n",
              "      <td>100.0</td>\n",
              "    </tr>\n",
              "    <tr>\n",
              "      <th>61</th>\n",
              "      <td>52.0</td>\n",
              "      <td>67.786538</td>\n",
              "      <td>19.857384</td>\n",
              "      <td>20.8</td>\n",
              "      <td>58.300</td>\n",
              "      <td>70.80</td>\n",
              "      <td>83.300</td>\n",
              "      <td>100.0</td>\n",
              "    </tr>\n",
              "    <tr>\n",
              "      <th>...</th>\n",
              "      <td>...</td>\n",
              "      <td>...</td>\n",
              "      <td>...</td>\n",
              "      <td>...</td>\n",
              "      <td>...</td>\n",
              "      <td>...</td>\n",
              "      <td>...</td>\n",
              "      <td>...</td>\n",
              "    </tr>\n",
              "    <tr>\n",
              "      <th>925949</th>\n",
              "      <td>2.0</td>\n",
              "      <td>81.250000</td>\n",
              "      <td>2.899138</td>\n",
              "      <td>79.2</td>\n",
              "      <td>80.225</td>\n",
              "      <td>81.25</td>\n",
              "      <td>82.275</td>\n",
              "      <td>83.3</td>\n",
              "    </tr>\n",
              "    <tr>\n",
              "      <th>926024</th>\n",
              "      <td>28.0</td>\n",
              "      <td>65.317857</td>\n",
              "      <td>14.959205</td>\n",
              "      <td>29.2</td>\n",
              "      <td>64.600</td>\n",
              "      <td>70.80</td>\n",
              "      <td>71.850</td>\n",
              "      <td>95.8</td>\n",
              "    </tr>\n",
              "    <tr>\n",
              "      <th>926036</th>\n",
              "      <td>22.0</td>\n",
              "      <td>38.072727</td>\n",
              "      <td>10.937275</td>\n",
              "      <td>20.8</td>\n",
              "      <td>29.200</td>\n",
              "      <td>39.60</td>\n",
              "      <td>48.950</td>\n",
              "      <td>54.2</td>\n",
              "    </tr>\n",
              "    <tr>\n",
              "      <th>926048</th>\n",
              "      <td>189.0</td>\n",
              "      <td>58.048148</td>\n",
              "      <td>23.724235</td>\n",
              "      <td>12.5</td>\n",
              "      <td>37.500</td>\n",
              "      <td>62.50</td>\n",
              "      <td>79.200</td>\n",
              "      <td>100.0</td>\n",
              "    </tr>\n",
              "    <tr>\n",
              "      <th>926103</th>\n",
              "      <td>87.0</td>\n",
              "      <td>73.801149</td>\n",
              "      <td>20.359065</td>\n",
              "      <td>25.0</td>\n",
              "      <td>62.500</td>\n",
              "      <td>79.20</td>\n",
              "      <td>87.500</td>\n",
              "      <td>100.0</td>\n",
              "    </tr>\n",
              "  </tbody>\n",
              "</table>\n",
              "<p>2756 rows × 8 columns</p>\n",
              "</div>\n",
              "      <button class=\"colab-df-convert\" onclick=\"convertToInteractive('df-1686cf4b-e2d8-405c-a66c-7ea9573c7cb9')\"\n",
              "              title=\"Convert this dataframe to an interactive table.\"\n",
              "              style=\"display:none;\">\n",
              "        \n",
              "  <svg xmlns=\"http://www.w3.org/2000/svg\" height=\"24px\"viewBox=\"0 0 24 24\"\n",
              "       width=\"24px\">\n",
              "    <path d=\"M0 0h24v24H0V0z\" fill=\"none\"/>\n",
              "    <path d=\"M18.56 5.44l.94 2.06.94-2.06 2.06-.94-2.06-.94-.94-2.06-.94 2.06-2.06.94zm-11 1L8.5 8.5l.94-2.06 2.06-.94-2.06-.94L8.5 2.5l-.94 2.06-2.06.94zm10 10l.94 2.06.94-2.06 2.06-.94-2.06-.94-.94-2.06-.94 2.06-2.06.94z\"/><path d=\"M17.41 7.96l-1.37-1.37c-.4-.4-.92-.59-1.43-.59-.52 0-1.04.2-1.43.59L10.3 9.45l-7.72 7.72c-.78.78-.78 2.05 0 2.83L4 21.41c.39.39.9.59 1.41.59.51 0 1.02-.2 1.41-.59l7.78-7.78 2.81-2.81c.8-.78.8-2.07 0-2.86zM5.41 20L4 18.59l7.72-7.72 1.47 1.35L5.41 20z\"/>\n",
              "  </svg>\n",
              "      </button>\n",
              "      \n",
              "  <style>\n",
              "    .colab-df-container {\n",
              "      display:flex;\n",
              "      flex-wrap:wrap;\n",
              "      gap: 12px;\n",
              "    }\n",
              "\n",
              "    .colab-df-convert {\n",
              "      background-color: #E8F0FE;\n",
              "      border: none;\n",
              "      border-radius: 50%;\n",
              "      cursor: pointer;\n",
              "      display: none;\n",
              "      fill: #1967D2;\n",
              "      height: 32px;\n",
              "      padding: 0 0 0 0;\n",
              "      width: 32px;\n",
              "    }\n",
              "\n",
              "    .colab-df-convert:hover {\n",
              "      background-color: #E2EBFA;\n",
              "      box-shadow: 0px 1px 2px rgba(60, 64, 67, 0.3), 0px 1px 3px 1px rgba(60, 64, 67, 0.15);\n",
              "      fill: #174EA6;\n",
              "    }\n",
              "\n",
              "    [theme=dark] .colab-df-convert {\n",
              "      background-color: #3B4455;\n",
              "      fill: #D2E3FC;\n",
              "    }\n",
              "\n",
              "    [theme=dark] .colab-df-convert:hover {\n",
              "      background-color: #434B5C;\n",
              "      box-shadow: 0px 1px 3px 1px rgba(0, 0, 0, 0.15);\n",
              "      filter: drop-shadow(0px 1px 2px rgba(0, 0, 0, 0.3));\n",
              "      fill: #FFFFFF;\n",
              "    }\n",
              "  </style>\n",
              "\n",
              "      <script>\n",
              "        const buttonEl =\n",
              "          document.querySelector('#df-1686cf4b-e2d8-405c-a66c-7ea9573c7cb9 button.colab-df-convert');\n",
              "        buttonEl.style.display =\n",
              "          google.colab.kernel.accessAllowed ? 'block' : 'none';\n",
              "\n",
              "        async function convertToInteractive(key) {\n",
              "          const element = document.querySelector('#df-1686cf4b-e2d8-405c-a66c-7ea9573c7cb9');\n",
              "          const dataTable =\n",
              "            await google.colab.kernel.invokeFunction('convertToInteractive',\n",
              "                                                     [key], {});\n",
              "          if (!dataTable) return;\n",
              "\n",
              "          const docLinkHtml = 'Like what you see? Visit the ' +\n",
              "            '<a target=\"_blank\" href=https://colab.research.google.com/notebooks/data_table.ipynb>data table notebook</a>'\n",
              "            + ' to learn more about interactive tables.';\n",
              "          element.innerHTML = '';\n",
              "          dataTable['output_type'] = 'display_data';\n",
              "          await google.colab.output.renderOutput(dataTable, element);\n",
              "          const docLink = document.createElement('div');\n",
              "          docLink.innerHTML = docLinkHtml;\n",
              "          element.appendChild(docLink);\n",
              "        }\n",
              "      </script>\n",
              "    </div>\n",
              "  </div>\n",
              "  "
            ],
            "text/plain": [
              "        count       mean        std   min     25%    50%     75%    max\n",
              "CODESC                                                                 \n",
              "24        6.0  49.300000  19.973482  25.0  34.350  50.00  62.500   75.0\n",
              "36       10.0  59.180000  22.199439  16.7  50.000  58.35  71.875   91.7\n",
              "48       18.0  60.183333  23.315565  20.8  38.550  60.40  75.000   95.8\n",
              "59       23.0  56.156522  20.410778  25.0  39.550  62.50  64.600  100.0\n",
              "61       52.0  67.786538  19.857384  20.8  58.300  70.80  83.300  100.0\n",
              "...       ...        ...        ...   ...     ...    ...     ...    ...\n",
              "925949    2.0  81.250000   2.899138  79.2  80.225  81.25  82.275   83.3\n",
              "926024   28.0  65.317857  14.959205  29.2  64.600  70.80  71.850   95.8\n",
              "926036   22.0  38.072727  10.937275  20.8  29.200  39.60  48.950   54.2\n",
              "926048  189.0  58.048148  23.724235  12.5  37.500  62.50  79.200  100.0\n",
              "926103   87.0  73.801149  20.359065  25.0  62.500  79.20  87.500  100.0\n",
              "\n",
              "[2756 rows x 8 columns]"
            ]
          },
          "execution_count": 19,
          "metadata": {},
          "output_type": "execute_result"
        }
      ],
      "source": [
        "df_analise.groupby('CODESC')[\"porc_ACERT_lp\"].describe()"
      ]
    },
    {
      "cell_type": "code",
      "execution_count": null,
      "metadata": {
        "colab": {
          "base_uri": "https://localhost:8080/"
        },
        "id": "sH-SyQf3XZtQ",
        "outputId": "1046fa2e-50f8-4412-8fd7-1e5142e726dc"
      },
      "outputs": [
        {
          "data": {
            "text/plain": [
              "porc_ACERT_lp    1.000000\n",
              "CODESC          -0.009205\n",
              "Name: porc_ACERT_lp, dtype: float64"
            ]
          },
          "execution_count": 24,
          "metadata": {},
          "output_type": "execute_result"
        }
      ],
      "source": [
        "corr_matrix = df_analise[['porc_ACERT_lp', 'CODESC']].corr()\n",
        "corr_matrix['porc_ACERT_lp'].sort_values(ascending=False)"
      ]
    },
    {
      "cell_type": "code",
      "execution_count": null,
      "metadata": {
        "colab": {
          "base_uri": "https://localhost:8080/"
        },
        "id": "boaZrELVW5dG",
        "outputId": "b8076ea4-e6f7-4787-a8ae-a8893acee79f"
      },
      "outputs": [
        {
          "data": {
            "text/plain": [
              "<matplotlib.axes._subplots.AxesSubplot at 0x7f4eab97df90>"
            ]
          },
          "execution_count": 21,
          "metadata": {},
          "output_type": "execute_result"
        },
        {
          "data": {
            "image/png": "[encoded data removed]",
            "text/plain": [
              "<Figure size 432x288 with 1 Axes>"
            ]
          },
          "metadata": {},
          "output_type": "display_data"
        }
      ],
      "source": [
        "df_analise['CODESC'].hist()"
      ]
    },
    {
      "cell_type": "markdown",
      "metadata": {
        "id": "Pu2IlVGgX7o6"
      },
      "source": [
        "> A feature CODESC além do desbalanceamento seu correlacionamento é negativo e próximo 0, ou seja, <br>não seria muito útil utilizá--la em nosso modelo "
      ]
    },
    {
      "cell_type": "code",
      "execution_count": null,
      "metadata": {
        "colab": {
          "base_uri": "https://localhost:8080/"
        },
        "id": "tcPUCxncQcW1",
        "outputId": "f2b76927-18ec-44d8-eed0-8cf1194ea727"
      },
      "outputs": [
        {
          "data": {
            "text/html": [
              "\n",
              "  <div id=\"df-bf611bfd-6e83-425d-a1a9-1566e30969fd\">\n",
              "    <div class=\"colab-df-container\">\n",
              "      <div>\n",
              "<style scoped>\n",
              "    .dataframe tbody tr th:only-of-type {\n",
              "        vertical-align: middle;\n",
              "    }\n",
              "\n",
              "    .dataframe tbody tr th {\n",
              "        vertical-align: top;\n",
              "    }\n",
              "\n",
              "    .dataframe thead th {\n",
              "        text-align: right;\n",
              "    }\n",
              "</style>\n",
              "<table border=\"1\" class=\"dataframe\">\n",
              "  <thead>\n",
              "    <tr style=\"text-align: right;\">\n",
              "      <th></th>\n",
              "      <th>count</th>\n",
              "      <th>mean</th>\n",
              "      <th>std</th>\n",
              "      <th>min</th>\n",
              "      <th>25%</th>\n",
              "      <th>50%</th>\n",
              "      <th>75%</th>\n",
              "      <th>max</th>\n",
              "    </tr>\n",
              "    <tr>\n",
              "      <th>TP_SEXO</th>\n",
              "      <th></th>\n",
              "      <th></th>\n",
              "      <th></th>\n",
              "      <th></th>\n",
              "      <th></th>\n",
              "      <th></th>\n",
              "      <th></th>\n",
              "      <th></th>\n",
              "    </tr>\n",
              "  </thead>\n",
              "  <tbody>\n",
              "    <tr>\n",
              "      <th>F</th>\n",
              "      <td>63088.0</td>\n",
              "      <td>62.353799</td>\n",
              "      <td>20.956677</td>\n",
              "      <td>0.0</td>\n",
              "      <td>45.8</td>\n",
              "      <td>62.5</td>\n",
              "      <td>79.2</td>\n",
              "      <td>100.0</td>\n",
              "    </tr>\n",
              "    <tr>\n",
              "      <th>M</th>\n",
              "      <td>57508.0</td>\n",
              "      <td>57.734910</td>\n",
              "      <td>22.300878</td>\n",
              "      <td>0.0</td>\n",
              "      <td>41.7</td>\n",
              "      <td>58.3</td>\n",
              "      <td>75.0</td>\n",
              "      <td>100.0</td>\n",
              "    </tr>\n",
              "  </tbody>\n",
              "</table>\n",
              "</div>\n",
              "      <button class=\"colab-df-convert\" onclick=\"convertToInteractive('df-bf611bfd-6e83-425d-a1a9-1566e30969fd')\"\n",
              "              title=\"Convert this dataframe to an interactive table.\"\n",
              "              style=\"display:none;\">\n",
              "        \n",
              "  <svg xmlns=\"http://www.w3.org/2000/svg\" height=\"24px\"viewBox=\"0 0 24 24\"\n",
              "       width=\"24px\">\n",
              "    <path d=\"M0 0h24v24H0V0z\" fill=\"none\"/>\n",
              "    <path d=\"M18.56 5.44l.94 2.06.94-2.06 2.06-.94-2.06-.94-.94-2.06-.94 2.06-2.06.94zm-11 1L8.5 8.5l.94-2.06 2.06-.94-2.06-.94L8.5 2.5l-.94 2.06-2.06.94zm10 10l.94 2.06.94-2.06 2.06-.94-2.06-.94-.94-2.06-.94 2.06-2.06.94z\"/><path d=\"M17.41 7.96l-1.37-1.37c-.4-.4-.92-.59-1.43-.59-.52 0-1.04.2-1.43.59L10.3 9.45l-7.72 7.72c-.78.78-.78 2.05 0 2.83L4 21.41c.39.39.9.59 1.41.59.51 0 1.02-.2 1.41-.59l7.78-7.78 2.81-2.81c.8-.78.8-2.07 0-2.86zM5.41 20L4 18.59l7.72-7.72 1.47 1.35L5.41 20z\"/>\n",
              "  </svg>\n",
              "      </button>\n",
              "      \n",
              "  <style>\n",
              "    .colab-df-container {\n",
              "      display:flex;\n",
              "      flex-wrap:wrap;\n",
              "      gap: 12px;\n",
              "    }\n",
              "\n",
              "    .colab-df-convert {\n",
              "      background-color: #E8F0FE;\n",
              "      border: none;\n",
              "      border-radius: 50%;\n",
              "      cursor: pointer;\n",
              "      display: none;\n",
              "      fill: #1967D2;\n",
              "      height: 32px;\n",
              "      padding: 0 0 0 0;\n",
              "      width: 32px;\n",
              "    }\n",
              "\n",
              "    .colab-df-convert:hover {\n",
              "      background-color: #E2EBFA;\n",
              "      box-shadow: 0px 1px 2px rgba(60, 64, 67, 0.3), 0px 1px 3px 1px rgba(60, 64, 67, 0.15);\n",
              "      fill: #174EA6;\n",
              "    }\n",
              "\n",
              "    [theme=dark] .colab-df-convert {\n",
              "      background-color: #3B4455;\n",
              "      fill: #D2E3FC;\n",
              "    }\n",
              "\n",
              "    [theme=dark] .colab-df-convert:hover {\n",
              "      background-color: #434B5C;\n",
              "      box-shadow: 0px 1px 3px 1px rgba(0, 0, 0, 0.15);\n",
              "      filter: drop-shadow(0px 1px 2px rgba(0, 0, 0, 0.3));\n",
              "      fill: #FFFFFF;\n",
              "    }\n",
              "  </style>\n",
              "\n",
              "      <script>\n",
              "        const buttonEl =\n",
              "          document.querySelector('#df-bf611bfd-6e83-425d-a1a9-1566e30969fd button.colab-df-convert');\n",
              "        buttonEl.style.display =\n",
              "          google.colab.kernel.accessAllowed ? 'block' : 'none';\n",
              "\n",
              "        async function convertToInteractive(key) {\n",
              "          const element = document.querySelector('#df-bf611bfd-6e83-425d-a1a9-1566e30969fd');\n",
              "          const dataTable =\n",
              "            await google.colab.kernel.invokeFunction('convertToInteractive',\n",
              "                                                     [key], {});\n",
              "          if (!dataTable) return;\n",
              "\n",
              "          const docLinkHtml = 'Like what you see? Visit the ' +\n",
              "            '<a target=\"_blank\" href=https://colab.research.google.com/notebooks/data_table.ipynb>data table notebook</a>'\n",
              "            + ' to learn more about interactive tables.';\n",
              "          element.innerHTML = '';\n",
              "          dataTable['output_type'] = 'display_data';\n",
              "          await google.colab.output.renderOutput(dataTable, element);\n",
              "          const docLink = document.createElement('div');\n",
              "          docLink.innerHTML = docLinkHtml;\n",
              "          element.appendChild(docLink);\n",
              "        }\n",
              "      </script>\n",
              "    </div>\n",
              "  </div>\n",
              "  "
            ],
            "text/plain": [
              "           count       mean        std  min   25%   50%   75%    max\n",
              "TP_SEXO                                                             \n",
              "F        63088.0  62.353799  20.956677  0.0  45.8  62.5  79.2  100.0\n",
              "M        57508.0  57.734910  22.300878  0.0  41.7  58.3  75.0  100.0"
            ]
          },
          "execution_count": 10,
          "metadata": {},
          "output_type": "execute_result"
        }
      ],
      "source": [
        "df_analise.groupby('TP_SEXO')[\"porc_ACERT_lp\"].describe()"
      ]
    },
    {
      "cell_type": "code",
      "execution_count": null,
      "metadata": {
        "id": "lh-uTjLaT4Fw"
      },
      "outputs": [],
      "source": [
        "#Transformando em uma variável quantitativa para validar a correlção com a variável target\n",
        "df_analise['TP_SEXO'].replace(['F', 'M'], [0,1], inplace=True)"
      ]
    },
    {
      "cell_type": "code",
      "execution_count": null,
      "metadata": {
        "colab": {
          "base_uri": "https://localhost:8080/"
        },
        "id": "y2jgWsV6USai",
        "outputId": "61d19b5e-ac0e-4600-819f-362fd1f119ae"
      },
      "outputs": [
        {
          "data": {
            "text/plain": [
              "porc_ACERT_MAT    1.000000\n",
              "TP_SEXO           0.067498\n",
              "Name: porc_ACERT_MAT, dtype: float64"
            ]
          },
          "execution_count": 12,
          "metadata": {},
          "output_type": "execute_result"
        }
      ],
      "source": [
        "#Criando a matrix de correlação \n",
        "corr_matrix = df_analise[['porc_ACERT_MAT','TP_SEXO' ]].corr()\n",
        "corr_matrix['porc_ACERT_MAT'].sort_values(ascending=False)"
      ]
    },
    {
      "cell_type": "code",
      "execution_count": null,
      "metadata": {
        "colab": {
          "base_uri": "https://localhost:8080/"
        },
        "id": "7UHskFCzV3Fl",
        "outputId": "5fe1b43e-a7fa-4816-9082-0d52cb2f7b0a"
      },
      "outputs": [
        {
          "data": {
            "text/plain": [
              "<function matplotlib.pyplot.show(*args, **kw)>"
            ]
          },
          "execution_count": 13,
          "metadata": {},
          "output_type": "execute_result"
        },
        {
          "data": {
            "image/png": "[encoded data removed]",
            "text/plain": [
              "<Figure size 432x288 with 1 Axes>"
            ]
          },
          "metadata": {},
          "output_type": "display_data"
        }
      ],
      "source": [
        "df_analise['TP_SEXO'].hist()\n",
        "plt.show"
      ]
    },
    {
      "cell_type": "markdown",
      "metadata": {
        "id": "1_4GD7VdWJ1z"
      },
      "source": [
        ">  Apesar da média entre as variáveis categóricas implicarem que o gênero feminino<br> tem chances de irem melhor que o genêro masculino, quando olhamos a matrix de correlação <br>ela nos informa que, talvez ,essa informação não seja tão relevante para o modelo."
      ]
    },
    {
      "cell_type": "code",
      "execution_count": null,
      "metadata": {
        "id": "wyWGLaIBZsv9"
      },
      "outputs": [],
      "source": [
        "#Analizando  a feature de turma que possui uma correlação negativa próxima de zero"
      ]
    },
    {
      "cell_type": "code",
      "execution_count": null,
      "metadata": {
        "id": "81IvW-VkZ3f2"
      },
      "outputs": [],
      "source": [
        "# Obter a quantidade de 'tipos' de turma \n",
        "amount = df_analise['TURMA'].drop_duplicates().count()"
      ]
    },
    {
      "cell_type": "code",
      "execution_count": null,
      "metadata": {
        "id": "WPJafyJPaknv"
      },
      "outputs": [],
      "source": [
        "# Criando um dataset para obter a correlação\n",
        "df_turma = df[['TURMA', 'porc_ACERT_lp']]"
      ]
    },
    {
      "cell_type": "code",
      "execution_count": null,
      "metadata": {
        "id": "tS46C776bNM2"
      },
      "outputs": [],
      "source": [
        "# Obtendo os labels \n",
        "type_t = []\n",
        "for line in df['TURMA'].drop_duplicates():\n",
        "    type_t.append(line)"
      ]
    },
    {
      "cell_type": "code",
      "execution_count": null,
      "metadata": {
        "colab": {
          "base_uri": "https://localhost:8080/"
        },
        "id": "6H6GVcTFbSVR",
        "outputId": "16e845b1-020d-45e7-f8d9-e0b763324a28"
      },
      "outputs": [
        {
          "name": "stderr",
          "output_type": "stream",
          "text": [
            "/usr/local/lib/python3.7/dist-packages/pandas/core/frame.py:5244: SettingWithCopyWarning: \n",
            "A value is trying to be set on a copy of a slice from a DataFrame\n",
            "\n",
            "See the caveats in the documentation: https://pandas.pydata.org/pandas-docs/stable/user_guide/indexing.html#returning-a-view-versus-a-copy\n",
            "  method=method,\n"
          ]
        }
      ],
      "source": [
        "# Transformando a variável para variável quantitativa\n",
        "df_turma.replace(type_t, range(amount), inplace=True)"
      ]
    },
    {
      "cell_type": "code",
      "execution_count": null,
      "metadata": {
        "colab": {
          "base_uri": "https://localhost:8080/"
        },
        "id": "Tg3UmoDKbUwF",
        "outputId": "09d1b1b2-a701-400d-f1c8-cf503d152305"
      },
      "outputs": [
        {
          "data": {
            "text/plain": [
              "porc_ACERT_lp    1.000000\n",
              "TURMA           -0.011558\n",
              "Name: porc_ACERT_lp, dtype: float64"
            ]
          },
          "execution_count": 31,
          "metadata": {},
          "output_type": "execute_result"
        }
      ],
      "source": [
        "corr_matrix = df_turma.corr()\n",
        "corr_matrix['porc_ACERT_lp'].sort_values(ascending=False)"
      ]
    },
    {
      "cell_type": "markdown",
      "metadata": {
        "id": "n8vovVXldGhs"
      },
      "source": [
        "> A feature TURMA possui uma correlação negativa com nossa target muito próxima de zero, o que nos leva a descartá-la, a primeiro momento do nosso treinamento"
      ]
    },
    {
      "cell_type": "code",
      "execution_count": null,
      "metadata": {
        "colab": {
          "base_uri": "https://localhost:8080/"
        },
        "id": "LjgGIxdWRu0r",
        "outputId": "0d307919-c1b2-4b14-f60c-bee191f4d7d7"
      },
      "outputs": [
        {
          "data": {
            "text/plain": [
              "count    120596.000000\n",
              "mean         60.151213\n",
              "std          21.730825\n",
              "min           0.000000\n",
              "25%          41.700000\n",
              "50%          62.500000\n",
              "75%          79.200000\n",
              "max         100.000000\n",
              "Name: porc_ACERT_lp, dtype: float64"
            ]
          },
          "execution_count": 82,
          "metadata": {},
          "output_type": "execute_result"
        }
      ],
      "source": [
        "df_analise[\"porc_ACERT_lp\"].describe()"
      ]
    },
    {
      "cell_type": "markdown",
      "metadata": {
        "id": "evLcB3-1dgM_"
      },
      "source": [
        "Utilizano o mesmo raciocinio com outras variáveis"
      ]
    },
    {
      "cell_type": "code",
      "execution_count": null,
      "metadata": {
        "colab": {
          "base_uri": "https://localhost:8080/"
        },
        "id": "lT1zipEcd46s",
        "outputId": "28a3c7fb-5edb-4cd2-869b-34b7742e2574"
      },
      "outputs": [
        {
          "data": {
            "image/png": "[encoded data removed]",
            "text/plain": [
              "<Figure size 1440x1080 with 9 Axes>"
            ]
          },
          "metadata": {},
          "output_type": "display_data"
        }
      ],
      "source": [
        "df_analise.hist(bins=50, figsize=(20,15))\n",
        "plt.show()"
      ]
    },
    {
      "cell_type": "markdown",
      "metadata": {
        "id": "fZ8xil7Lfrvn"
      },
      "source": [
        "As variáveis mais correlacionadas a porc_ACERT_lp são: porc_ACERT_MAT, porc_ACERT_CIE"
      ]
    },
    {
      "cell_type": "code",
      "execution_count": null,
      "metadata": {
        "id": "zGgz3OYsd_c1"
      },
      "outputs": [],
      "source": [
        "# Criando um dataset para obter a correlação\n",
        "df_corr= df[['porc_ACERT_MAT', 'porc_ACERT_lp', 'porc_ACERT_CIE']]"
      ]
    },
    {
      "cell_type": "code",
      "execution_count": null,
      "metadata": {
        "colab": {
          "base_uri": "https://localhost:8080/"
        },
        "id": "lwuUxBumgG8n",
        "outputId": "cab628eb-fc42-4098-fb4c-66a4891ea077"
      },
      "outputs": [
        {
          "data": {
            "text/plain": [
              "porc_ACERT_lp     1.000000\n",
              "porc_ACERT_CIE    0.649702\n",
              "porc_ACERT_MAT    0.629972\n",
              "Name: porc_ACERT_lp, dtype: float64"
            ]
          },
          "execution_count": 34,
          "metadata": {},
          "output_type": "execute_result"
        }
      ],
      "source": [
        "corr_matrix = df_corr.corr()\n",
        "corr_matrix['porc_ACERT_lp'].sort_values(ascending=False)"
      ]
    },
    {
      "cell_type": "markdown",
      "metadata": {
        "id": "h-WbF5lXg3I3"
      },
      "source": [
        "> Temos variáveis nulas e variável sem nenhum valor, que iremos retirar, a primeiro momento do treinamento"
      ]
    },
    {
      "cell_type": "markdown",
      "metadata": {
        "id": "tk0-9SPegrHM"
      },
      "source": [
        "#<h3> 3. Limpeza dos dados para inicio do treinamento#\n",
        "\n",
        "> Bloco com recuo\n",
        "\n"
      ]
    },
    {
      "cell_type": "code",
      "execution_count": null,
      "metadata": {
        "id": "6AFiqWV0iIWG"
      },
      "outputs": [],
      "source": [
        "from datetime import datetime\n",
        "\n",
        "def clean_data(df, drop=True):\n",
        "  \"\"\"\n",
        "    Função para tratar e limpar os dados \n",
        "  \"\"\"\n",
        "\n",
        "\n",
        "  original_df = df.copy()\n",
        "\n",
        "  delete_cols = ['NEC_ESP_4','NEC_ESP_5', 'CODMUN', 'CODESC', 'Tem_Nec', \n",
        "               'RegiaoMetropolitana', 'DE', 'CODMUN', 'MUN','Tipo_PROVA', 'CD_ALUNO',\n",
        "               'SERIE_ANO','Q50','Q51','Q52','Q53','Q54', 'Q58','Q59', 'Q60', \n",
        "               'Q61', 'Q62', 'Q63', 'TURMA', 'NOMESC', 'PERIODO', 'NEC_ESP_3', 'NEC_ESP_2', 'NEC_ESP_1']\n",
        "\n",
        "  original_df.drop(delete_cols, axis=1, inplace=True)\n",
        "  original_df['TP_SEXO'].replace(['F', 'M'], [0,1], inplace=True)\n",
        "\n",
        "  #Criamos uma nova feature chamada idade com base na coluna data de nascimento \n",
        "  original_df['IDADE'] = datetime.today().year - pd.DatetimeIndex(pd.to_datetime(original_df['DT_NASCIMENTO'], format=\"%m/%d/%Y\")).year\n",
        "\n",
        "  original_df.drop('DT_NASCIMENTO', axis=1, inplace=True)\n",
        "\n",
        "  cols = original_df.select_dtypes('object').columns\n",
        "\n",
        "  for i in range(len(cols)):\n",
        "      original_df[cols[i]].replace(['A', 'B', 'C', 'D', 'E'], [0,1,2,3,4], inplace=True)\n",
        "\n",
        "  return original_df"
      ]
    },
    {
      "cell_type": "markdown",
      "metadata": {
        "id": "j6ZWdfpZjcVd"
      },
      "source": [
        "#<h3> 4. Modelos#"
      ]
    },
    {
      "cell_type": "markdown",
      "metadata": {
        "id": "ju6T-KCujwgT"
      },
      "source": [
        "<h3> Modelo Gradient Decent"
      ]
    },
    {
      "cell_type": "markdown",
      "metadata": {
        "id": "xlWOw3jHj9om"
      },
      "source": [
        "-----"
      ]
    },
    {
      "cell_type": "code",
      "execution_count": null,
      "metadata": {
        "id": "AJ4YuYaEhvB7"
      },
      "outputs": [],
      "source": [
        "def gradient_descent(param, b, data, y, lr):\n",
        "\n",
        "    \"\"\"\n",
        "      Retorna os parâmetros do modelo atualizado\n",
        "\n",
        "      :parm param : list -> Parâmetros iniciais do modelo\n",
        "      :parm b : float ->\n",
        "    \"\"\"\n",
        "    \n",
        "    #Quantidade de registros\n",
        "    size = data.shape[0]\n",
        "    \n",
        "    #Quantidade de parâmetros\n",
        "    n_parm = data.shape[1]\n",
        "    \n",
        "    m_grad = 0\n",
        "    b_grad = 0\n",
        "    updated_parameters = []\n",
        "\n",
        "    for i in range(n_parm):\n",
        "        for j in range(size):\n",
        "            x = data[j][i]\n",
        "            \n",
        "            theta = param[i]\n",
        "           \n",
        "            #Derivada parcial do theta\n",
        "            d_theta = -((2/size) * x * (y[j] - (theta * x + b)))\n",
        "            \n",
        "            #Derivada parcial do bias\n",
        "            d_bias = - ((2/size) * (y[j] - (theta * x + b)))\n",
        "       \n",
        "            #Update gradient\n",
        "            m_grad = m_grad + d_theta\n",
        "            b_grad = b_grad + d_bias\n",
        "        \n",
        "        #Lista de parâmeros atualizados\n",
        "        updated_parameters.append(theta - lr * m_grad)\n",
        "        \n",
        "        #Bias atualizado\n",
        "        b_updated = b - lr * b_grad\n",
        "\n",
        "    \n",
        "    return updated_parameters, b_updated"
      ]
    },
    {
      "cell_type": "code",
      "execution_count": null,
      "metadata": {
        "id": "3VqHeQ2rC2qP"
      },
      "outputs": [],
      "source": [
        "def cost_function(theta, bias, X, y, pred):\n",
        "    \"\"\"\n",
        "      Realiza a operação da função quadrática\n",
        "    \"\"\"\n",
        "    size = len(X)\n",
        "    return (1/2*size) * np.sum(np.square(pred-y))"
      ]
    },
    {
      "cell_type": "code",
      "execution_count": null,
      "metadata": {
        "id": "JZj5QGtfCz5u"
      },
      "outputs": [],
      "source": [
        "def calc_error(m, b, data, y):\n",
        "    \"\"\"\n",
        "      Calcula o erro gerado pelo modelo\n",
        "    \"\"\"\n",
        "    total_error=0.0\n",
        "    \n",
        "    for i in range(data.shape[1]):\n",
        "        for j in range(data.shape[0]):\n",
        "            prev = m[i] * data[j,i] + b\n",
        "        \n",
        "            error = cost_function(m[i], b, data, y[j], prev)\n",
        "            total_error += error\n",
        "    return total_error"
      ]
    },
    {
      "cell_type": "code",
      "execution_count": null,
      "metadata": {
        "id": "x0ebdp4hhxXa"
      },
      "outputs": [],
      "source": [
        "def prevision(feature, parameters , b):\n",
        "    \"\"\"\n",
        "      Prevê qual será a saída do modelo \n",
        "      :parm feature : arrayNumpy -> Dados de entrada para o modelo (var explanatórias)\n",
        "      :parm parameters: list -> Lista dos parâmetros do modelo \n",
        "      :parm b: float Parâmetro do modelo\n",
        "    \"\"\"\n",
        "    prev = 0\n",
        "    targets = []\n",
        "    for i in range(feature.shape[1]):\n",
        "        for j in range(feature.shape[0]):\n",
        "            prev += feature[j][i] * parameters[i]\n",
        "        prev += b\n",
        "    targets.append(prev)\n",
        "    \n",
        "    return targets"
      ]
    },
    {
      "cell_type": "code",
      "execution_count": null,
      "metadata": {
        "id": "8pore46kh0KK"
      },
      "outputs": [],
      "source": [
        "def r2_evaluation(pred, real):\n",
        "  \"\"\"\n",
        "    Função para avaliação do modelo utilizando a métrica R2\n",
        "  \"\"\"\n",
        "  sse = sum(np.power(np.subtract(real, pred),2))\n",
        "  tse = (len(real) - 1) * np.var(real, ddof=1)\n",
        "\n",
        "  r2_score = 1 - np.divide(sse , tse)\n",
        "  \n",
        "  return r2_score"
      ]
    },
    {
      "cell_type": "code",
      "execution_count": null,
      "metadata": {
        "id": "P2rEWbvEh59C"
      },
      "outputs": [],
      "source": [
        "def mse_evaluation(pred, target):\n",
        "    \"\"\"\n",
        "      Função para avaliação do modelo utilizando a métrica mean square error\n",
        "    \"\"\"\n",
        "    error=abs(pred-target)\n",
        "    total_error = np.dot(error,error)\n",
        "\n",
        "    return np.sqrt(total_error/len(error))\n",
        "  "
      ]
    },
    {
      "cell_type": "code",
      "execution_count": null,
      "metadata": {
        "id": "FSaiTNkzp6Wj"
      },
      "outputs": [],
      "source": [
        "def split_data(df):\n",
        "  \"\"\"\n",
        "    Separar o modelo em treino e validação\n",
        "  \"\"\"\n",
        "  return  df.sample(frac=1, random_state=1).reset_index(drop=True)"
      ]
    },
    {
      "cell_type": "code",
      "execution_count": null,
      "metadata": {
        "id": "azTUkYt6Hi4Y"
      },
      "outputs": [],
      "source": [
        "def print_best_model(params, bias):\n",
        "\n",
        "  function = \"\"\n",
        "\n",
        "  for i in range(len(params)):\n",
        "      function += f'{params[i]:.2f} * x{i} + '\n",
        "\n",
        "  return function + str(bias)"
      ]
    },
    {
      "cell_type": "markdown",
      "metadata": {
        "id": "54_dn6jwmUcY"
      },
      "source": [
        "<h5> Realizando o treinamento do modelo utilizando o Gradient Decent"
      ]
    },
    {
      "cell_type": "code",
      "execution_count": null,
      "metadata": {
        "id": "YWA881HHgL4m"
      },
      "outputs": [],
      "source": [
        "from sklearn.model_selection import train_test_split\n",
        "\n",
        "df_aux = clean_data(df)\n",
        "df_aux.drop(['nivel_profic_lp', 'nivel_profic_mat', 'nivel_profic_cie'], axis=1, inplace=True)\n",
        "\n",
        "feature_lp = df_aux.drop(['porc_ACERT_lp'], axis=1 )\n",
        "feature_mat = df_aux.drop(['porc_ACERT_MAT'], axis=1 )\n",
        "feature_cie = df_aux.drop(['porc_ACERT_CIE'], axis=1 )\n",
        "\n",
        "y_lp = df_aux['porc_ACERT_lp']\n",
        "y_mat = df_aux['porc_ACERT_MAT']\n",
        "y_cie = df_aux['porc_ACERT_CIE']\n",
        "\n",
        "X_train_lp, X_test_lp, y_train_lp, y_test_lp = train_test_split(feature_lp, y_lp, test_size=0.2)\n",
        "X_train_mat, X_test_mat, y_train_mat, y_test_mat = train_test_split(feature_mat, y_mat, test_size=0.2)\n",
        "X_train_cie, X_test_cie, y_train_cie, y_test_cie = train_test_split(feature_cie, y_cie, test_size=0.2)"
      ]
    },
    {
      "cell_type": "markdown",
      "metadata": {
        "id": "_O3gUNO4TIly"
      },
      "source": [
        "MODELO PARA PREVISÃO DE LINGUA PORTUGUESA"
      ]
    },
    {
      "cell_type": "code",
      "execution_count": null,
      "metadata": {
        "colab": {
          "base_uri": "https://localhost:8080/"
        },
        "id": "wVKl34NNDjqI",
        "outputId": "fc3dee46-a019-48bc-d1e7-7895ea5eee5c"
      },
      "outputs": [
        {
          "output_type": "stream",
          "name": "stdout",
          "text": [
            "Melhor modelo: -29696956099925530412531717480305064400160529372643159136491349357641670034466300477046784.00 * x0 + -147677380931073607419077541508649203234559905287196206516221838032782825782121407377833984.00 * x1 + -267941278819850457495797355797736686044678181804688004752315200521889976753067475618234368.00 * x2 + -376031776752618920886871760555675771297098315326372761292226805482334048507585647402287104.00 * x3 + -487999451535857125487860606326860806744738315433252032972606427390754337067042314355998720.00 * x4 + -594416164533921356939287031460449369028546702641183039180583431038763113936629650295881728.00 * x5 + -707758890581953612373957121489051843277884075750773218191622419918153248609656276359577600.00 * x6 + -803456748245851335310150642545737949644819084802143933581144959553093868678939886116405248.00 * x7 + -820216258480621732461311662223303937620846917144550945244328084493199434655971149638270976.00 * x8 + -825043619207494064451947034366411943739415979410430333253741522989748592406935236870406144.00 * x9 + -847408658507364347400479957480853505925560865511981989960471998039454311336895203694870528.00 * x10 + -855720754099678794011649453765871289373284923666843887310773538486982857527094957395935232.00 * x11 + -889397763412014047231051655886745293995685398295670568083780980681831787608828881406001152.00 * x12 + -897370652517741859769984044849919169932574804649841603735501968855969018142632081516134400.00 * x13 + -921580633827743836524427587919312833578030115006799664353232903620437866858150213047025664.00 * x14 + -962388754409253042478254445309267243567771774092076376321652491637865076259699516120236032.00 * x15 + -979441212427522099567720676417744943959875892246250801278230877562256082463627640834097152.00 * x16 + -1007165940326344576871969768035906964837901396104750800891733684300033006212469131235557376.00 * x17 + -1018506735430333015322476647774793987096114859904464913303652263301967833238030552513118208.00 * x18 + -1041066327091496296949069722826314937009597695594001840309340290683264330190484008417099776.00 * x19 + -1053031646836858853864683479539339220447812136038085225928874512159445130550216352562413568.00 * x20 + -1066390072729226691163204568503504621549569001443273375012428397167272032255446013441998848.00 * x21 + -1090399975451490658353320744950145791302446512353904094337369435759143498987979668816134144.00 * x22 + -1098098117883649000177952261280825338435613751659769813647359843959560087297184005487591424.00 * x23 + -1119810811754742967786510127387218815643522510205437554474044357357194449192696820099186688.00 * x24 + -1182210080614862971335714096698619828835257234649523298954814929841119501868965512588820480.00 * x25 + -1239262936037523821378303973239643346139869226282225626895205228501150820023225144854970368.00 * x26 + -1273428065294904713858002729165115668168462199324079796560611996268773326755469825333526528.00 * x27 + -1321901343086628198093855755108838444701382491025407630018506702713303850905653277878124544.00 * x28 + -1353989287751367762233444353486711910566579022044535579558017988535402234945822288930406400.00 * x29 + -1406840657100360238457257320330280584279598504572741313495317576119637589702426670565163008.00 * x30 + -1451851282812640639020976792637888715637224507575902664516263201141888383193395130678640640.00 * x31 + -1499265540986326866726709017359151669762245888229688185322374287287139299243838343758217216.00 * x32 + -1526636115214170414848083308808487953313381666165417877661387363112932521432709973663547392.00 * x33 + -1586843904712653474475035603481116258155678228538723015655944251862324841459250286267727872.00 * x34 + -1656431158225998072363128475695169396400574778861679881350138614736473004541757774054293504.00 * x35 + -1719606940551851795094197269218311104737830961936539112161730271761617620825599501559398400.00 * x36 + -1782368835191886237080280559857892697345944813121289807639686033782709930664209473016430592.00 * x37 + -1851362110791599330820587689169758743614314308404072976670984519958876975699986910178967552.00 * x38 + -1921719684617011185325199819475869106667949301517385006683691091845334575799231114960175104.00 * x39 + -1986676896610173164456715736775006115809367999953442763119125587839335538815973254378815488.00 * x40 + -2037997048624464340912134008641856926457981980843048083812845553409254792023580721740251136.00 * x41 + -2106847652514272198594458157824859969888008045909900684453024799813730174175371550592598016.00 * x42 + -2172108977525212048454431719966112037715560522715387943867039581867262612132295444287979520.00 * x43 + -2250060654318102795893885494633061328255216732938424650077772047790040234050671361786904576.00 * x44 + -2327205516836830059040608224017682567735367262205114175548442396223234851463505639760723968.00 * x45 + -2392903914880064827680244074666253188757140943488273013028884944785821197144118065836851200.00 * x46 + -2465427014102231333097889348754784197650832102136332424676426792529851065446403307879792640.00 * x47 + -2546081314814047646881435498619497766430313306442443979933933663311371727699601404542844928.00 * x48 + -2581564663312413280875666692361383720064692329554067076914314185626144628106265180147548160.00 * x49 + -2596808119349035500757180791705101064398001887812219712389642970791637577618619389939023872.00 * x50 + -2707854190337064503848460703035065815804727197282629901140994583099268712616273807549661184.00 * x51 + -2725840284897753387084025601935203366680379983116565039101055896467268865744282458586611712.00 * x52 + -40622380375617180679624072471296221284712685653863852987262895084615649072126906851332718592.00 * x53 + -6335344949768182091662038882310261035762025263911669127434175172530884340402340954802852200448.00 * x54 + -6833881433834169605093677646191058220954835082076248459421945223427512377347717855158219046912.00 * x55 + -1.3310013193392917e+92\n",
            "Função custo: 7.264954317762345e+200\n"
          ]
        }
      ],
      "source": [
        "import numpy as np\n",
        "import random\n",
        "\n",
        "np_X_train_lp = np.array(X_train_lp)\n",
        "np_y_train_lp = np.array(y_train_lp)\n",
        "\n",
        "#Inicialização randômica dos parâmetros da função\n",
        "parameters = []\n",
        "parameters = [random.random() for i in range(np_X_train_lp.shape[1])]\n",
        "\n",
        "#Inicialização do parâmetro bias\n",
        "bias = 0\n",
        "\n",
        "#Hiperparametros\n",
        "epochs = 50\n",
        "lr = 0.01\n",
        "\n",
        "#Treinamento para encontrar o melhor modelo para LP\n",
        "for i in range(epochs):\n",
        "    \n",
        "    #Ajustando os parâmetros\n",
        "    parameters, bias = gradient_descent(parameters, bias, np_X_train_lp, np_y_train_lp, lr)\n",
        "\n",
        "    #Calculando o erro por iteração\n",
        "    loss = calc_error(parameters, bias, np_X_train_lp, np_y_train_lp)\n",
        "\n",
        "print(f'Melhor modelo: {print_best_model(parameters, bias)}\\nFunção custo: {loss}' )"
      ]
    },
    {
      "cell_type": "markdown",
      "metadata": {
        "id": "tKwNm7RtTSir"
      },
      "source": [
        "MODELO PARA PREVISÃO DE MATEMÁTICA"
      ]
    },
    {
      "cell_type": "code",
      "execution_count": null,
      "metadata": {
        "colab": {
          "base_uri": "https://localhost:8080/"
        },
        "id": "HxI8VnOGSbbe",
        "outputId": "8d3fb575-ba97-4a11-971c-f66426abc284"
      },
      "outputs": [
        {
          "output_type": "stream",
          "name": "stdout",
          "text": [
            "Melhor modelo: -280598840220499.88 * x0 + -1395178540986285.75 * x1 + -2531258973221396.00 * x2 + -3552059414513786.00 * x3 + -4607876023085633.00 * x4 + -5610954796726910.00 * x5 + -6678798424962608.00 * x6 + -7580154688256440.00 * x7 + -7738166812813997.00 * x8 + -7783605881460763.00 * x9 + -7994275731561360.00 * x10 + -8073038840010085.00 * x11 + -8391245300910570.00 * x12 + -8467113391036266.00 * x13 + -8695980555918457.00 * x14 + -9080966524878598.00 * x15 + -9241872102626344.00 * x16 + -9504143102489050.00 * x17 + -9611220814192302.00 * x18 + -9824719115585030.00 * x19 + -9937407944865690.00 * x20 + -10063769044794920.00 * x21 + -10289350952408714.00 * x22 + -10361839377921940.00 * x23 + -10566010105241010.00 * x24 + -11154327053974106.00 * x25 + -11692693583005354.00 * x26 + -12015611059990814.00 * x27 + -12473303622804018.00 * x28 + -12776130163943550.00 * x29 + -13274616715854526.00 * x30 + -13698852613894164.00 * x31 + -14145097813152676.00 * x32 + -14403500007299570.00 * x33 + -14970259301283248.00 * x34 + -15625283913313194.00 * x35 + -16220027366022688.00 * x36 + -16810659037883848.00 * x37 + -17460077270934720.00 * x38 + -18121714020044508.00 * x39 + -18733046123724352.00 * x40 + -19214868511789976.00 * x41 + -19862349729893980.00 * x42 + -20476415883557648.00 * x43 + -21208897329677444.00 * x44 + -21933632750808748.00 * x45 + -22551053751391256.00 * x46 + -23232398962683160.00 * x47 + -23989423842861292.00 * x48 + -24322528006771088.00 * x49 + -24467005540002912.00 * x50 + -25505898039373752.00 * x51 + -25675081683943668.00 * x52 + -12656047002117394432.00 * x53 + -75657155141178195968.00 * x54 + -80572808081958535168.00 * x55 + -1.5059827213140242e+18\n",
            "Perda: 1.0646684970123465e+53\n"
          ]
        }
      ],
      "source": [
        "import numpy as np\n",
        "import random\n",
        "\n",
        "np_X_train_mat = np.array(X_train_mat)\n",
        "np_y_train_mat = np.array(y_train_mat)\n",
        "\n",
        "#Inicialização randômica dos parâmetros da função\n",
        "parameters_mat = []\n",
        "parameters_mat = [random.random() for i in range(np_X_train_mat.shape[1])]\n",
        "\n",
        "#Inicialização do parâmetro bias\n",
        "bias_mat = 0\n",
        "\n",
        "#Hiperparametros\n",
        "epochs = 10\n",
        "lr = 0.01\n",
        "\n",
        "\n",
        "#Treinamento para encontrar o melhor modelo para MAT\n",
        "for i in range(epochs):\n",
        "    \n",
        "    #Ajustando os parâmetros\n",
        "    parameters_mat, bias_mat = gradient_descent(parameters_mat, bias_mat, np_X_train_mat, np_y_train_mat, lr)\n",
        "\n",
        "    #Calculando o erro por iteração\n",
        "    loss = calc_error(parameters_mat, bias_mat, np_X_train_mat, np_y_train_mat)\n",
        "\n",
        "print(f'Melhor modelo: {print_best_model(parameters_mat, bias_mat)}\\nPerda: {loss}' )"
      ]
    },
    {
      "cell_type": "markdown",
      "metadata": {
        "id": "2dsmb_IaTXDI"
      },
      "source": [
        "MODELO PARA PREVISÃO DE CIÊNCIAS"
      ]
    },
    {
      "cell_type": "code",
      "execution_count": null,
      "metadata": {
        "colab": {
          "base_uri": "https://localhost:8080/"
        },
        "id": "do7N1ZQNSdUP",
        "outputId": "3356aec2-41cb-4dd6-85f4-da8dbdd8adad"
      },
      "outputs": [
        {
          "output_type": "stream",
          "name": "stdout",
          "text": [
            "Melhor modelo: -240748620760353.84 * x0 + -1199702529489624.50 * x1 + -2176699837677367.50 * x2 + -3055340796759224.50 * x3 + -3962988690050718.00 * x4 + -4825600236049319.00 * x5 + -5744230801981069.00 * x6 + -6519617776649317.00 * x7 + -6655608135269150.00 * x8 + -6694676941093642.00 * x9 + -6876234160831529.00 * x10 + -6943651365316770.00 * x11 + -7217306857948155.00 * x12 + -7282209789834711.00 * x13 + -7478724907461234.00 * x14 + -7809530701617447.00 * x15 + -7948237928706493.00 * x16 + -8173719701209791.00 * x17 + -8266274951461664.00 * x18 + -8449603015355992.00 * x19 + -8546509027985407.00 * x20 + -8654901378005333.00 * x21 + -8849365999562471.00 * x22 + -8911721393698814.00 * x23 + -9088230108295836.00 * x24 + -9594393288282890.00 * x25 + -10057142593255594.00 * x26 + -10334512114329266.00 * x27 + -10727827154849440.00 * x28 + -10988535333479434.00 * x29 + -11417093133124952.00 * x30 + -11781446576929574.00 * x31 + -12165926296958974.00 * x32 + -12388131882342006.00 * x33 + -12875944454700092.00 * x34 + -13439549712211534.00 * x35 + -13951014019075126.00 * x36 + -14458929920095104.00 * x37 + -15017423495650328.00 * x38 + -15586692486947440.00 * x39 + -16112711860045600.00 * x40 + -16528221696810838.00 * x41 + -17086047973622226.00 * x42 + -17614150986351158.00 * x43 + -18244577105453832.00 * x44 + -18868751543116880.00 * x45 + -19400696923729500.00 * x46 + -19987242335319424.00 * x47 + -20638978788441536.00 * x48 + -20925611166835112.00 * x49 + -21049379340005836.00 * x50 + -21943966813331056.00 * x51 + -22089891644536152.00 * x52 + -15032727464085329920.00 * x53 + -62040573089915305984.00 * x54 + -66185349974398255104.00 * x55 + -1.262064395422213e+18\n",
            "Perda: 6.662107487078746e+52\n"
          ]
        }
      ],
      "source": [
        "import numpy as np\n",
        "import random\n",
        "\n",
        "np_X_train_cie = np.array(X_train_cie)\n",
        "np_y_train_cie = np.array(y_train_cie)\n",
        "\n",
        "#Inicialização randômica dos parâmetros da função\n",
        "parameters_cie = []\n",
        "parameters_cie = [random.random() for i in range(np_X_train_cie.shape[1])]\n",
        "\n",
        "#Inicialização do parâmetro bias\n",
        "bias_cie = 0\n",
        "\n",
        "#Hiperparametros\n",
        "epochs = 10\n",
        "lr = 0.01\n",
        "\n",
        "\n",
        "#Treinamento para encontrar o melhor modelo para CIE\n",
        "for i in range(epochs):\n",
        "    \n",
        "    #Ajustando os parâmetros\n",
        "    parameters_cie, bias_cie = gradient_descent(parameters_cie, bias_cie, np_X_train_cie, np_y_train_cie, lr)\n",
        "\n",
        "    #Calculando o erro por iteração\n",
        "    loss = calc_error(parameters_cie, bias, np_X_train_cie, np_y_train_cie)\n",
        "\n",
        "print(f'Melhor modelo: {print_best_model(parameters_cie, bias_cie)}\\nPerda: {loss}' )"
      ]
    },
    {
      "cell_type": "markdown",
      "metadata": {
        "id": "0Rr41165mlxL"
      },
      "source": [
        "<h5> Realizando a predição dos modelos"
      ]
    },
    {
      "cell_type": "code",
      "execution_count": null,
      "metadata": {
        "id": "5nkvhppUwbEK"
      },
      "outputs": [],
      "source": [
        "np_X_test_lp = np.array(X_test_lp)\n",
        "np_y_test_lp = np.array(y_test_lp)\n",
        "np_X_test_mat = np.array(X_test_mat)\n",
        "np_y_test_mat = np.array(y_test_mat)\n",
        "np_X_test_cie = np.array(X_test_cie)\n",
        "np_y_test_cie = np.array(y_test_cie)"
      ]
    },
    {
      "cell_type": "code",
      "execution_count": null,
      "metadata": {
        "colab": {
          "base_uri": "https://localhost:8080/"
        },
        "id": "q2evJivlnO6X",
        "outputId": "8ec38da5-7897-4aba-c68e-4890c7371554"
      },
      "outputs": [
        {
          "output_type": "execute_result",
          "data": {
            "text/plain": [
              "[-7.219699662264868e+25]"
            ]
          },
          "metadata": {},
          "execution_count": 20
        }
      ],
      "source": [
        "lp_pred = prevision(np_X_test_lp, parameters, bias)\n",
        "lp_pred"
      ]
    },
    {
      "cell_type": "code",
      "execution_count": null,
      "metadata": {
        "colab": {
          "base_uri": "https://localhost:8080/"
        },
        "id": "9JXF3Ou8nZal",
        "outputId": "f7f6d4f9-611a-4557-d223-0ccfdd8e102b"
      },
      "outputs": [
        {
          "output_type": "execute_result",
          "data": {
            "text/plain": [
              "[-1.534080898696528e+26]"
            ]
          },
          "metadata": {},
          "execution_count": 21
        }
      ],
      "source": [
        "mat_pred = prevision(np_X_test_mat, parameters_mat, bias_mat)\n",
        "mat_pred"
      ]
    },
    {
      "cell_type": "code",
      "execution_count": null,
      "metadata": {
        "colab": {
          "base_uri": "https://localhost:8080/"
        },
        "id": "gXucYvBEQpOW",
        "outputId": "61c1d11c-7950-4aae-b1eb-4928ce006244"
      },
      "outputs": [
        {
          "output_type": "execute_result",
          "data": {
            "text/plain": [
              "[-1.2564909260829912e+26]"
            ]
          },
          "metadata": {},
          "execution_count": 22
        }
      ],
      "source": [
        "cie_pred = prevision(np_X_test_cie, parameters_cie, bias_cie)\n",
        "cie_pred"
      ]
    },
    {
      "cell_type": "markdown",
      "metadata": {
        "id": "GnHMwrhpm5UC"
      },
      "source": [
        "<h5> Realizando a Avaliação do modelo "
      ]
    },
    {
      "cell_type": "code",
      "execution_count": null,
      "metadata": {
        "colab": {
          "base_uri": "https://localhost:8080/"
        },
        "id": "Ue5NyAFlm8DM",
        "outputId": "d8c50bc7-5a62-4683-f1e7-ed98a71b1e22"
      },
      "outputs": [
        {
          "output_type": "stream",
          "name": "stdout",
          "text": [
            " Modelo LP (r2):  -5.037614092962512e+49\n",
            " Modelo MAT (r2): -5.17759875763258e+49\n",
            " Modelo CIE (r2): -4.666245004213234e+49\n"
          ]
        }
      ],
      "source": [
        "print(f' Modelo LP (r2):  {r2_evaluation(mat_pred, np_y_test_lp)}')\n",
        "print(f' Modelo MAT (r2): {r2_evaluation(mat_pred, y_test_mat)}')\n",
        "print(f' Modelo CIE (r2): {r2_evaluation(cie_pred, y_test_cie)}')"
      ]
    },
    {
      "cell_type": "code",
      "execution_count": null,
      "metadata": {
        "id": "JFijH_9WojaM"
      },
      "outputs": [],
      "source": [
        "f' Modelo LP (mse): {mse_evaluation(lp_pred, y_test_lp)}'"
      ]
    },
    {
      "cell_type": "code",
      "execution_count": null,
      "metadata": {
        "id": "Wt0Rfnzkojlu"
      },
      "outputs": [],
      "source": [
        "f' Modelo MAT (mse): {mse_evaluation(mat_pred, y_test_mat)}'"
      ]
    },
    {
      "cell_type": "code",
      "execution_count": null,
      "metadata": {
        "id": "zVCCgJtXojvI"
      },
      "outputs": [],
      "source": [
        "f' Modelo CIE (mse): {mse_evaluation(cie_pred, y_test_cie)}'"
      ]
    },
    {
      "cell_type": "markdown",
      "metadata": {
        "id": "X75rZbVepots"
      },
      "source": [
        "<h3> Modelo Regressão Linear - Implementada sem uso de sklearn model"
      ]
    },
    {
      "cell_type": "markdown",
      "metadata": {
        "id": "dMuxhoPgqaCC"
      },
      "source": [
        "---"
      ]
    },
    {
      "cell_type": "code",
      "execution_count": null,
      "metadata": {
        "id": "fJ9J0IGnqNqL"
      },
      "outputs": [],
      "source": [
        "from sklearn.model_selection import train_test_split\n",
        "\n",
        "df_aux = clean_data(df)\n",
        "df_aux.drop(['nivel_profic_lp', 'nivel_profic_mat', 'nivel_profic_cie'], axis=1, inplace=True)\n",
        "\n",
        "feature_lp = df_aux.drop(['porc_ACERT_lp'], axis=1 )\n",
        "feature_mat = df_aux.drop(['porc_ACERT_MAT'], axis=1 )\n",
        "feature_cie = df_aux.drop(['porc_ACERT_CIE'], axis=1 )\n",
        "\n",
        "y_lp = df_aux['porc_ACERT_lp']\n",
        "y_mat = df_aux['porc_ACERT_MAT']\n",
        "y_cie = df_aux['porc_ACERT_CIE']\n",
        "\n",
        "X_train_lp, X_test_lp, y_train_lp, y_test_lp = train_test_split(feature_lp, y_lp, test_size=0.2)\n",
        "X_train_mat, X_test_mat, y_train_mat, y_test_mat = train_test_split(feature_mat, y_mat, test_size=0.2)\n",
        "X_train_cie, X_test_cie, y_train_cie, y_test_cie = train_test_split(feature_cie, y_cie, test_size=0.2)"
      ]
    },
    {
      "cell_type": "markdown",
      "metadata": {
        "id": "rYOJqyEAuJhW"
      },
      "source": [
        "<h5> 2. Criando o modelo de regressão"
      ]
    },
    {
      "cell_type": "code",
      "execution_count": null,
      "metadata": {
        "colab": {
          "base_uri": "https://localhost:8080/"
        },
        "id": "6pYgxvgeuZCP",
        "outputId": "76f09dac-8176-4d84-fe56-4950f6d3781e"
      },
      "outputs": [
        {
          "data": {
            "text/plain": [
              "LinearRegression()"
            ]
          },
          "execution_count": 82,
          "metadata": {},
          "output_type": "execute_result"
        }
      ],
      "source": [
        "from sklearn.linear_model import LinearRegression\n",
        "\n",
        "model_lp  = LinearRegression()\n",
        "model_mat = LinearRegression()\n",
        "model_cie = LinearRegression()\n",
        "\n",
        "\n",
        "#Realizando treinamento\n",
        "model_lp.fit(X_train_lp, y_train_lp)\n",
        "model_mat.fit(X_train_mat, y_train_mat)\n",
        "model_cie.fit(X_train_cie, y_train_cie)"
      ]
    },
    {
      "cell_type": "code",
      "execution_count": null,
      "metadata": {
        "colab": {
          "base_uri": "https://localhost:8080/",
          "height": 806
        },
        "id": "HoazrQPBvM6S",
        "outputId": "8170bc95-476d-48f4-eda1-b4318d50cfca"
      },
      "outputs": [
        {
          "data": {
            "image/png": "[encoded data removed]",
            "text/plain": [
              "<Figure size 432x288 with 1 Axes>"
            ]
          },
          "metadata": {},
          "output_type": "display_data"
        },
        {
          "data": {
            "image/png": "[encoded data removed]",
            "text/plain": [
              "<Figure size 432x288 with 1 Axes>"
            ]
          },
          "metadata": {},
          "output_type": "display_data"
        },
        {
          "data": {
            "image/png": "[encoded data removed]",
            "text/plain": [
              "<Figure size 432x288 with 1 Axes>"
            ]
          },
          "metadata": {},
          "output_type": "display_data"
        }
      ],
      "source": [
        "plt.scatter(model_lp.predict(X_train_lp), y_train_lp)\n",
        "plt.xlabel('y_pred')\n",
        "plt.ylabel('y_true')\n",
        "plt.show()\n",
        "\n",
        "plt.scatter(model_mat.predict(X_train_mat), y_train_mat)\n",
        "plt.xlabel('y_pred')\n",
        "plt.ylabel('y_true')\n",
        "plt.show()\n",
        "\n",
        "plt.scatter(model_cie.predict(X_train_cie), y_train_cie)\n",
        "plt.xlabel('y_pred')\n",
        "plt.ylabel('y_true')\n",
        "plt.show()"
      ]
    },
    {
      "cell_type": "markdown",
      "metadata": {
        "id": "VC-1aZb3ug7h"
      },
      "source": [
        "<h5> 3. Fazendo as previsões"
      ]
    },
    {
      "cell_type": "code",
      "execution_count": null,
      "metadata": {
        "id": "EtgtBDzUulf9"
      },
      "outputs": [],
      "source": [
        "y_pred_lp = model_lp.predict(X_test_lp)\n",
        "y_pred_mat = model_mat.predict(X_test_mat)\n",
        "y_pred_cie = model_cie.predict(X_test_cie)"
      ]
    },
    {
      "cell_type": "markdown",
      "metadata": {
        "id": "lUEi49I1ut2j"
      },
      "source": [
        "<h5> 4. Realizando a avalização do modelo"
      ]
    },
    {
      "cell_type": "code",
      "execution_count": null,
      "metadata": {
        "id": "MxgTt4lFx74x"
      },
      "outputs": [],
      "source": [
        "from sklearn.metrics import r2_score, mean_absolute_error"
      ]
    },
    {
      "cell_type": "code",
      "execution_count": null,
      "metadata": {
        "colab": {
          "base_uri": "https://localhost:8080/"
        },
        "id": "-spt3U4auyGt",
        "outputId": "552af98c-2d3e-48a0-f0e8-3cefce7ada66"
      },
      "outputs": [
        {
          "name": "stdout",
          "output_type": "stream",
          "text": [
            " Modelo LP (r2):  0.558955322493184\n",
            " Modelo MAT (r2):  0.5493492381228227\n",
            " Modelo CIE (r2):  0.5097094019661196\n"
          ]
        }
      ],
      "source": [
        "print(' Modelo LP (r2): ', r2_score(y_test_lp, y_pred_lp))\n",
        "print(' Modelo MAT (r2): ', r2_score(y_test_mat, y_pred_mat))\n",
        "print(' Modelo CIE (r2): ', r2_score(y_test_cie, y_pred_cie))"
      ]
    },
    {
      "cell_type": "code",
      "execution_count": null,
      "metadata": {
        "colab": {
          "base_uri": "https://localhost:8080/"
        },
        "id": "hQnlZToTwtYC",
        "outputId": "2e9d3560-ec32-48ce-a6fc-1e1e665bac7a"
      },
      "outputs": [
        {
          "name": "stdout",
          "output_type": "stream",
          "text": [
            " Modelo LP (mse):  11.400077335111424\n",
            " Modelo MAT (mse):  11.445365424146193\n",
            " Modelo CIE (mse):  10.352235444978861\n"
          ]
        }
      ],
      "source": [
        "print(' Modelo LP (mse): ', mean_absolute_error(y_test_lp, y_pred_lp))\n",
        "print(' Modelo MAT (mse): ', mean_absolute_error(y_test_mat, y_pred_mat))\n",
        "print(' Modelo CIE (mse): ', mean_absolute_error(y_test_cie, y_pred_cie))"
      ]
    },
    {
      "cell_type": "markdown",
      "metadata": {
        "id": "zBNZQNImKQeo"
      },
      "source": [
        "\n",
        "> What are the conclusions? (1-2 paragraphs)\n",
        "\n",
        "No modelo de regressão linear simples, utilizando o sklearn, o nosso r2 ficou em torno de 50%, ou seja, as nossas variáveis explicativas estão explicando aproximadamente 50% da variável resposta. Isso pode indicar que nosso problema não é tão simple e não pode ser resolvido apenas como uma reta.\n",
        "\n",
        "\n"
      ]
    },
    {
      "cell_type": "markdown",
      "metadata": {
        "id": "-FwKnXtXhUgs"
      },
      "source": [
        "\n",
        "#*Questão 2*#\n"
      ]
    },
    {
      "cell_type": "markdown",
      "metadata": {
        "id": "ADxPBRhuK_Vq"
      },
      "source": [
        "2. (1 point) Use different Gradient Descent (GD) learning rates when optimizing. Compare the GD-based solutions with Normal Equation. What are the conclusions?\n"
      ]
    },
    {
      "cell_type": "markdown",
      "metadata": {
        "id": "bckOeldtc584"
      },
      "source": [
        "**Regressão Linear com SGD Regressor**"
      ]
    },
    {
      "cell_type": "code",
      "execution_count": null,
      "metadata": {
        "id": "FcDJIB0q4DoS"
      },
      "outputs": [],
      "source": [
        "from sklearn.model_selection import train_test_split\n",
        "\n",
        "df_aux = clean_data(df)\n",
        "df_aux.drop(['nivel_profic_lp', 'nivel_profic_mat', 'nivel_profic_cie'], axis=1, inplace=True)\n",
        "\n",
        "feature_lp = df_aux.drop(['porc_ACERT_lp'], axis=1 )\n",
        "feature_mat = df_aux.drop(['porc_ACERT_MAT'], axis=1 )\n",
        "feature_cie = df_aux.drop(['porc_ACERT_CIE'], axis=1 )\n",
        "\n",
        "y_lp = df_aux['porc_ACERT_lp']\n",
        "y_mat = df_aux['porc_ACERT_MAT']\n",
        "y_cie = df_aux['porc_ACERT_CIE']\n",
        "\n",
        "X_train_lp, X_test_lp, y_train_lp, y_test_lp = train_test_split(feature_lp, y_lp, test_size=0.2)\n",
        "X_train_mat, X_test_mat, y_train_mat, y_test_mat = train_test_split(feature_mat, y_mat, test_size=0.2)\n",
        "X_train_cie, X_test_cie, y_train_cie, y_test_cie = train_test_split(feature_cie, y_cie, test_size=0.2)"
      ]
    },
    {
      "cell_type": "code",
      "execution_count": null,
      "metadata": {
        "id": "QeJ2xFFC50XC"
      },
      "outputs": [],
      "source": [
        "import numpy as np\n",
        "from sklearn.linear_model import SGDRegressor\n",
        "from random import random\n",
        "import matplotlib.pyplot as plt\n",
        "import itertools\n",
        "\n",
        "\n",
        "sgdreg_lp = SGDRegressor(max_iter=300, eta0=0.00001, power_t=0.15,penalty = 'l2')\n",
        "sgdreg_lp.fit(X_train_lp, y_train_lp)\n",
        "y_pred_lp = sgdreg_lp.predict(X_test_lp)\n",
        "\n",
        "sgdreg_mat = SGDRegressor(max_iter=300, eta0=0.00001, power_t=0.15, penalty = 'l2')\n",
        "sgdreg_mat.fit(X_train_mat, y_train_mat)\n",
        "y_pred_mat = sgdreg_mat.predict(X_test_mat)\n",
        "\n",
        "sgdreg_cie = SGDRegressor(max_iter=300, eta0=0.00001, power_t=0.15, penalty = 'l2')\n",
        "sgdreg_cie.fit(X_train_cie, y_train_cie)\n",
        "y_pred_cie = sgdreg_cie.predict(X_test_cie)\n"
      ]
    },
    {
      "cell_type": "code",
      "execution_count": null,
      "metadata": {
        "id": "gU2A8Xk5GwMD"
      },
      "outputs": [],
      "source": [
        "y_cie = (((y_test_cie - y_pred_cie)**2).sum())"
      ]
    },
    {
      "cell_type": "code",
      "execution_count": null,
      "metadata": {
        "colab": {
          "base_uri": "https://localhost:8080/"
        },
        "id": "Nc0yWXzdGxpg",
        "outputId": "2918ef80-c3df-4c88-cafd-4fd5d87de8af"
      },
      "outputs": [
        {
          "data": {
            "text/plain": [
              "4084240.7455267943"
            ]
          },
          "execution_count": 29,
          "metadata": {},
          "output_type": "execute_result"
        }
      ],
      "source": [
        "y_cie"
      ]
    },
    {
      "cell_type": "code",
      "execution_count": null,
      "metadata": {
        "colab": {
          "base_uri": "https://localhost:8080/"
        },
        "id": "raSrjaKXFOwp",
        "outputId": "ddf30cf3-ec4b-4a96-d9bf-9b261604dfd8"
      },
      "outputs": [
        {
          "name": "stdout",
          "output_type": "stream",
          "text": [
            " Modelo LP (r2):  0.5544474098351846\n",
            " Modelo MAT (r2):  0.5346492178724527\n",
            " Modelo CIE (r2):  0.498815561742991\n",
            " Modelo LP (mse):  11.473299127996096\n",
            " Modelo MAT (mse):  11.571970075376939\n",
            " Modelo CIE (mse):  10.400202412840846\n"
          ]
        }
      ],
      "source": [
        "from sklearn.metrics import r2_score, mean_absolute_error\n",
        "print(' Modelo LP (r2): ', r2_score(y_test_lp, y_pred_lp))\n",
        "print(' Modelo MAT (r2): ', r2_score(y_test_mat, y_pred_mat))\n",
        "print(' Modelo CIE (r2): ', r2_score(y_test_cie, y_pred_cie))\n",
        "\n",
        "print(' Modelo LP (mse): ', mean_absolute_error(y_test_lp, y_pred_lp))\n",
        "print(' Modelo MAT (mse): ', mean_absolute_error(y_test_mat, y_pred_mat))\n",
        "print(' Modelo CIE (mse): ', mean_absolute_error(y_test_cie, y_pred_cie))"
      ]
    },
    {
      "cell_type": "markdown",
      "metadata": {
        "id": "j3IqooteQmGN"
      },
      "source": [
        "\"\"\"COMENTAR\"\"\""
      ]
    },
    {
      "cell_type": "markdown",
      "metadata": {
        "id": "SAIXuHqUzQTn"
      },
      "source": [
        "\n",
        "#*Questão 3*#\n"
      ]
    },
    {
      "cell_type": "markdown",
      "metadata": {
        "id": "H8TykN3aXF5m"
      },
      "source": [
        "**Criando modelo polinomial**"
      ]
    },
    {
      "cell_type": "markdown",
      "metadata": {
        "id": "XrPl7jKgJPW6"
      },
      "source": [
        "\n",
        "3. (0.75 point) Sometimes, we need some more complex function to make good prediction. Devise and evaluate a Polynomial Linear Regression model. \n"
      ]
    },
    {
      "cell_type": "code",
      "execution_count": null,
      "metadata": {
        "id": "GjGbg41PMHR9"
      },
      "outputs": [],
      "source": [
        "# TODO: Complex model. You can use scikit-learn libraries.\n",
        "from sklearn.preprocessing import PolynomialFeatures\n",
        "from sklearn import linear_model"
      ]
    },
    {
      "cell_type": "code",
      "execution_count": null,
      "metadata": {
        "id": "E5VjzjYgXNAc"
      },
      "outputs": [],
      "source": [
        "#Modelo\n",
        "poly = PolynomialFeatures(degree=2,include_bias=False)\n",
        "X_train_poly_lp = poly.fit_transform(X_train_lp)\n",
        "X_train_poly_mat = poly.fit_transform(X_train_mat)\n",
        "X_train_poly_cie = poly.fit_transform(X_train_cie)"
      ]
    },
    {
      "cell_type": "code",
      "execution_count": null,
      "metadata": {
        "id": "26uoMv-kYBqi"
      },
      "outputs": [],
      "source": [
        "#Criando o modelo Linear\n",
        "clf_lp = linear_model.LinearRegression()\n",
        "clf_mat = linear_model.LinearRegression()\n",
        "clf_cie = linear_model.LinearRegression()"
      ]
    },
    {
      "cell_type": "code",
      "execution_count": null,
      "metadata": {
        "colab": {
          "base_uri": "https://localhost:8080/"
        },
        "id": "3edc2US0YnaB",
        "outputId": "087a7ecb-00b9-4b82-8c12-80c25dc31a6d"
      },
      "outputs": [
        {
          "data": {
            "text/plain": [
              "LinearRegression()"
            ]
          },
          "execution_count": 20,
          "metadata": {},
          "output_type": "execute_result"
        }
      ],
      "source": [
        "#Treinando o modelo linear com a saida do treinamento do modelo polinomial \n",
        "clf_lp.fit(X_train_poly_lp, y_train_lp)\n",
        "clf_mat.fit(X_train_poly_mat, y_train_mat)\n",
        "clf_cie.fit(X_train_poly_cie, y_train_cie)"
      ]
    },
    {
      "cell_type": "code",
      "execution_count": null,
      "metadata": {
        "id": "d3jHjGIq1wgh"
      },
      "outputs": [],
      "source": [
        "from sklearn.metrics import r2_score\n",
        "test_x_poly_lp = poly.fit_transform(X_test_lp)\n",
        "test_y_lp = clf_lp.predict(test_x_poly_lp)\n",
        "\n",
        "test_x_poly_mat = poly.fit_transform(X_test_mat)\n",
        "test_y_mat = clf_mat.predict(test_x_poly_mat)\n",
        "\n",
        "test_x_poly_cie = poly.fit_transform(X_test_cie)\n",
        "test_y_cie = clf_cie.predict(test_x_poly_cie)"
      ]
    },
    {
      "cell_type": "code",
      "execution_count": null,
      "metadata": {
        "colab": {
          "base_uri": "https://localhost:8080/"
        },
        "id": "RShPe33rztil",
        "outputId": "29c7b57f-eea8-4b0e-ede3-e8b68d401c8c"
      },
      "outputs": [
        {
          "name": "stdout",
          "output_type": "stream",
          "text": [
            "R2-score de validação lp: 0.57\n",
            "mean_squared_absolute_error de validação lp: 11.24\n",
            "R2-score de validação lp: 0.57\n",
            "mean_squared_absolute_error de validação lp: 11.08\n",
            "R2-score de validação lp: 0.54\n",
            "mean_squared_absolute_error de validação lp: 9.89\n"
          ]
        }
      ],
      "source": [
        "from sklearn.metrics import r2_score, mean_squared_error\n",
        "print(\"R2-score de validação lp: %.2f\" % r2_score(y_test_lp, test_y_lp))\n",
        "print(\"mean_squared_absolute_error de validação lp: %.2f\" % mean_absolute_error(y_test_lp, test_y_lp))\n",
        "\n",
        "print(\"R2-score de validação lp: %.2f\" % r2_score(y_test_mat, test_y_mat))\n",
        "print(\"mean_squared_absolute_error de validação lp: %.2f\" % mean_absolute_error(y_test_mat, test_y_mat))\n",
        "\n",
        "print(\"R2-score de validação lp: %.2f\" % r2_score(y_test_cie, test_y_cie))\n",
        "print(\"mean_squared_absolute_error de validação lp: %.2f\" % mean_absolute_error(y_test_cie, test_y_cie))\n"
      ]
    },
    {
      "cell_type": "markdown",
      "metadata": {
        "id": "rBLKtosaLaCw"
      },
      "source": [
        "*texto em itálico*\n",
        " > What are the conclusions? What are the actions after such analyses? (1-2 paragraphs)\n",
        "\n",
        " \n"
      ]
    },
    {
      "cell_type": "markdown",
      "metadata": {
        "id": "deP7KtqjCOkS"
      },
      "source": [
        "Tentamos executar um modelo mais complexo com 2 graus e tivemos uma melhora pequena no R2. Ao elevar o grau do polinomio para 3 a GPU não conseguiu executar, sendo assim, procuramos informações a respeito e entendemos que  para graus maiores é recomendável executar um PCA para reduzir a dimensionalidade. Outra solução seria executar uma árvore de decisão para encontrar a participação das variáveis e ajudar a reduzir a quantia de features do nosso modelo"
      ]
    },
    {
      "cell_type": "markdown",
      "metadata": {
        "id": "ldSh1vtWK5Zk"
      },
      "source": [
        "4. (0.5) Plot the cost function vs. number of epochs in the training/validation set and analyze the model. "
      ]
    },
    {
      "cell_type": "code",
      "execution_count": null,
      "metadata": {
        "id": "mg7aNkl_LG4P"
      },
      "outputs": [],
      "source": [
        "# TODO: Plot the cost function vs. number of iterations in the training set."
      ]
    },
    {
      "cell_type": "code",
      "execution_count": null,
      "metadata": {
        "colab": {
          "base_uri": "https://localhost:8080/"
        },
        "id": "SXjqxu57EtUk",
        "outputId": "712d5dc0-9c7d-4645-951e-8413994aa518"
      },
      "outputs": [
        {
          "name": "stderr",
          "output_type": "stream",
          "text": [
            "/usr/local/lib/python3.7/dist-packages/sklearn/linear_model/_stochastic_gradient.py:1507: ConvergenceWarning: Maximum number of iteration reached before convergence. Consider increasing max_iter to improve the fit.\n",
            "  ConvergenceWarning,\n",
            "/usr/local/lib/python3.7/dist-packages/sklearn/linear_model/_stochastic_gradient.py:1507: ConvergenceWarning: Maximum number of iteration reached before convergence. Consider increasing max_iter to improve the fit.\n",
            "  ConvergenceWarning,\n",
            "/usr/local/lib/python3.7/dist-packages/sklearn/linear_model/_stochastic_gradient.py:1507: ConvergenceWarning: Maximum number of iteration reached before convergence. Consider increasing max_iter to improve the fit.\n",
            "  ConvergenceWarning,\n"
          ]
        },
        {
          "name": "stdout",
          "output_type": "stream",
          "text": [
            "5\n"
          ]
        },
        {
          "name": "stderr",
          "output_type": "stream",
          "text": [
            "/usr/local/lib/python3.7/dist-packages/sklearn/linear_model/_stochastic_gradient.py:1507: ConvergenceWarning: Maximum number of iteration reached before convergence. Consider increasing max_iter to improve the fit.\n",
            "  ConvergenceWarning,\n"
          ]
        },
        {
          "name": "stdout",
          "output_type": "stream",
          "text": [
            "100\n",
            "200\n",
            "300\n",
            "400\n",
            "500\n",
            "600\n",
            "700\n",
            "800\n",
            "900\n",
            "1000\n"
          ]
        }
      ],
      "source": [
        "import numpy as np\n",
        "from sklearn.linear_model import SGDRegressor\n",
        "from random import random\n",
        "import matplotlib.pyplot as plt\n",
        "import itertools\n",
        "\n",
        "a_lp = []\n",
        "b_lp = []\n",
        "a_mat = []\n",
        "b_mat = []\n",
        "a_cie = []\n",
        "b_cie = []\n",
        "\n",
        "for iteration in [5, 100, 200, 300, 400, 500, 600, 700, 800, 900, 1000]:\n",
        "  sgdreg_lp = SGDRegressor(max_iter=iteration, eta0=0.00001, power_t=0.15)\n",
        "  sgdreg_lp.fit(X_train_lp, y_train_lp)\n",
        "  y_pred_lp = sgdreg_lp.predict(X_test_lp)\n",
        "  x_lp = iteration\n",
        "  y_lp = mean_absolute_error(y_test_lp, y_pred_lp)\n",
        "  a_lp.append(y_lp)\n",
        "  b_lp.append(x_lp)\n",
        "\n",
        "  sgdreg_mat = SGDRegressor(max_iter=iteration, eta0=0.00001, power_t=0.15)\n",
        "  sgdreg_mat.fit(X_train_mat, y_train_mat)\n",
        "  y_pred_mat = sgdreg_mat.predict(X_test_mat)\n",
        "  x_mat = iteration\n",
        "  y_mat = mean_absolute_error(y_test_mat, y_pred_mat)\n",
        "  a_mat.append(y_mat)\n",
        "  b_mat.append(x_mat)\n",
        "\n",
        "  sgdreg_cie = SGDRegressor(max_iter=iteration, eta0=0.00001, power_t=0.15)\n",
        "  sgdreg_cie.fit(X_train_cie, y_train_cie)\n",
        "  y_pred_cie = sgdreg_cie.predict(X_test_cie)\n",
        "  x_cie = iteration\n",
        "  y_cie = mean_absolute_error(y_test_cie, y_pred_cie)\n",
        "  a_cie.append(y_cie)\n",
        "  b_cie.append(x_cie)\n",
        "  \n",
        "  print(iteration)"
      ]
    },
    {
      "cell_type": "code",
      "execution_count": null,
      "metadata": {
        "colab": {
          "base_uri": "https://localhost:8080/",
          "height": 265
        },
        "id": "csmToXV-ESVS",
        "outputId": "f65ec9a4-f1d1-403a-c4e9-84b424a152cb"
      },
      "outputs": [
        {
          "data": {
            "image/png": "[encoded data removed]",
            "text/plain": [
              "<Figure size 432x288 with 1 Axes>"
            ]
          },
          "metadata": {},
          "output_type": "display_data"
        }
      ],
      "source": [
        "##Vamos utilizar a saida do SGD regressor para calcular a função de custo\n",
        "import matplotlib.pyplot as plt\n",
        "import numpy as np\n",
        "\n",
        "plt.plot(b_lp, a_lp, color='black');\n",
        "plt.plot(b_mat, a_mat, color='blue');\n",
        "plt.plot(b_cie, a_cie, color='red');\n"
      ]
    },
    {
      "cell_type": "markdown",
      "metadata": {
        "id": "Ib1FXbumdQva"
      },
      "source": [
        "*texto em itálico*\n",
        " > What are the conclusions? What are the actions after such analyses? (1-2 paragraphs)\n",
        "\n",
        "O erro começa a cair a partir de 100 interações e apartir de entao converge para o erro que estamos encontrando na equação normal. Mesmo aumentando mais as interações o erro não diminui mais, oque nos leva a pensar que o modelo linear é o ideal"
      ]
    },
    {
      "cell_type": "markdown",
      "metadata": {
        "id": "8Xij-E5UUseS"
      },
      "source": [
        "5. (0.25 point) Pick **your best model**, based on your validation set, and predict the target values for the test set."
      ]
    },
    {
      "cell_type": "code",
      "execution_count": null,
      "metadata": {
        "id": "pyccW7R4Jk9w"
      },
      "outputs": [],
      "source": [
        "##Nosso melhor modelo foi o modelo ponimial com Grau 2, vamos executá-lo no nosso dataframe de test:"
      ]
    },
    {
      "cell_type": "code",
      "execution_count": null,
      "metadata": {
        "id": "2Uq_SFBY62sz"
      },
      "outputs": [],
      "source": [
        "teste=pd.read_csv(\"/content/drive/MyDrive/2.trabalho-pos-2/code/test.csv\")"
      ]
    },
    {
      "cell_type": "code",
      "execution_count": null,
      "metadata": {
        "colab": {
          "base_uri": "https://localhost:8080/"
        },
        "id": "S1rREMMoKUdt",
        "outputId": "00917f75-db1e-4cc6-e148-e152f5796717"
      },
      "outputs": [
        {
          "name": "stdout",
          "output_type": "stream",
          "text": [
            "<class 'pandas.core.frame.DataFrame'>\n",
            "RangeIndex: 1000 entries, 0 to 999\n",
            "Data columns (total 87 columns):\n",
            " #   Column               Non-Null Count  Dtype  \n",
            "---  ------               --------------  -----  \n",
            " 0   CD_ALUNO             1000 non-null   int64  \n",
            " 1   NOMESC               1000 non-null   object \n",
            " 2   Q1                   1000 non-null   object \n",
            " 3   Q2                   1000 non-null   object \n",
            " 4   Q3                   1000 non-null   object \n",
            " 5   Q4                   1000 non-null   object \n",
            " 6   Q5                   1000 non-null   object \n",
            " 7   Q6                   1000 non-null   object \n",
            " 8   Q7                   1000 non-null   object \n",
            " 9   Q8                   1000 non-null   object \n",
            " 10  Q9                   1000 non-null   object \n",
            " 11  Q10                  1000 non-null   object \n",
            " 12  Q11                  1000 non-null   object \n",
            " 13  Q12                  1000 non-null   object \n",
            " 14  Q13                  1000 non-null   object \n",
            " 15  Q14                  1000 non-null   object \n",
            " 16  Q15                  1000 non-null   object \n",
            " 17  Q16                  1000 non-null   object \n",
            " 18  Q17                  1000 non-null   object \n",
            " 19  Q18                  1000 non-null   object \n",
            " 20  Q19                  1000 non-null   object \n",
            " 21  Q20                  1000 non-null   object \n",
            " 22  Q21                  1000 non-null   object \n",
            " 23  Q22                  1000 non-null   object \n",
            " 24  Q23                  1000 non-null   object \n",
            " 25  Q24                  1000 non-null   object \n",
            " 26  Q25                  1000 non-null   object \n",
            " 27  Q26                  1000 non-null   object \n",
            " 28  Q27                  1000 non-null   object \n",
            " 29  Q28                  1000 non-null   object \n",
            " 30  Q29                  1000 non-null   object \n",
            " 31  Q30                  1000 non-null   object \n",
            " 32  Q31                  1000 non-null   object \n",
            " 33  Q32                  1000 non-null   object \n",
            " 34  Q33                  1000 non-null   object \n",
            " 35  Q34                  1000 non-null   object \n",
            " 36  Q35                  1000 non-null   object \n",
            " 37  Q36                  1000 non-null   object \n",
            " 38  Q37                  1000 non-null   object \n",
            " 39  Q38                  1000 non-null   object \n",
            " 40  Q39                  1000 non-null   object \n",
            " 41  Q40                  1000 non-null   object \n",
            " 42  Q41                  1000 non-null   object \n",
            " 43  Q42                  1000 non-null   object \n",
            " 44  Q43                  1000 non-null   object \n",
            " 45  Q44                  1000 non-null   object \n",
            " 46  Q45                  1000 non-null   object \n",
            " 47  Q46                  1000 non-null   object \n",
            " 48  Q47                  1000 non-null   object \n",
            " 49  Q48                  1000 non-null   object \n",
            " 50  Q49                  1000 non-null   object \n",
            " 51  Q50                  1000 non-null   object \n",
            " 52  Q51                  1000 non-null   object \n",
            " 53  Q52                  1000 non-null   object \n",
            " 54  Q53                  1000 non-null   object \n",
            " 55  Q54                  1000 non-null   object \n",
            " 56  Q55                  1000 non-null   object \n",
            " 57  Q56                  1000 non-null   object \n",
            " 58  Q57                  1000 non-null   object \n",
            " 59  Q58                  1000 non-null   object \n",
            " 60  Q59                  1000 non-null   object \n",
            " 61  Q60                  1000 non-null   object \n",
            " 62  Q61                  1000 non-null   object \n",
            " 63  Q62                  1000 non-null   object \n",
            " 64  Q63                  1000 non-null   object \n",
            " 65  RegiaoMetropolitana  1000 non-null   object \n",
            " 66  DE                   1000 non-null   object \n",
            " 67  CODMUN               1000 non-null   int64  \n",
            " 68  MUN                  1000 non-null   object \n",
            " 69  CODESC               1000 non-null   int64  \n",
            " 70  SERIE_ANO            1000 non-null   object \n",
            " 71  TURMA                1000 non-null   object \n",
            " 72  TP_SEXO              1000 non-null   object \n",
            " 73  DT_NASCIMENTO        1000 non-null   object \n",
            " 74  PERIODO              1000 non-null   object \n",
            " 75  NEC_ESP_1            20 non-null     object \n",
            " 76  NEC_ESP_2            1 non-null      object \n",
            " 77  NEC_ESP_3            0 non-null      float64\n",
            " 78  NEC_ESP_4            0 non-null      float64\n",
            " 79  NEC_ESP_5            0 non-null      float64\n",
            " 80  Tipo_PROVA           1000 non-null   object \n",
            " 81  Tem_Nec              1000 non-null   int64  \n",
            " 82  porc_ACERT_lp        1000 non-null   float64\n",
            " 83  porc_ACERT_MAT       1000 non-null   float64\n",
            " 84  porc_ACERT_CIE       1000 non-null   float64\n",
            " 85  nivel_profic_mat     1000 non-null   object \n",
            " 86  nivel_profic_cie     1000 non-null   object \n",
            "dtypes: float64(6), int64(4), object(77)\n",
            "memory usage: 679.8+ KB\n"
          ]
        }
      ],
      "source": [
        "teste.info()"
      ]
    },
    {
      "cell_type": "code",
      "execution_count": null,
      "metadata": {
        "id": "mf4XL-u8JvoE"
      },
      "outputs": [],
      "source": [
        "teste_aux = clean_data(teste)\n",
        "target_lp = teste_aux['porc_ACERT_lp']\n",
        "target_mat = teste_aux['porc_ACERT_MAT']\n",
        "target_cie = teste_aux['porc_ACERT_CIE']\n",
        "\n",
        "feature_target_lp = teste_aux.drop(['porc_ACERT_lp', 'nivel_profic_cie','nivel_profic_mat'], axis = 1)\n",
        "feature_target_mat = teste_aux.drop(['porc_ACERT_MAT', 'nivel_profic_cie','nivel_profic_mat'], axis = 1)\n",
        "feature_target_cie = teste_aux.drop(['porc_ACERT_CIE', 'nivel_profic_cie','nivel_profic_mat'], axis = 1)"
      ]
    },
    {
      "cell_type": "code",
      "execution_count": null,
      "metadata": {
        "id": "v1zLVHyeLPNG"
      },
      "outputs": [],
      "source": [
        "test_x_poly_lp = poly.fit_transform(feature_target_lp)\n",
        "test_y_lp = clf_lp.predict(test_x_poly_lp)\n",
        "\n",
        "test_x_poly_mat = poly.fit_transform(feature_target_mat)\n",
        "test_y_mat = clf_mat.predict(test_x_poly_mat)\n",
        "\n",
        "test_x_poly_cie = poly.fit_transform(feature_target_cie)\n",
        "test_y_cie = clf_cie.predict(test_x_poly_cie)"
      ]
    },
    {
      "cell_type": "code",
      "execution_count": null,
      "metadata": {
        "colab": {
          "base_uri": "https://localhost:8080/"
        },
        "id": "vXmx1W7JKrh9",
        "outputId": "23132a21-44bc-4d2f-aedb-36ee932db1ef"
      },
      "outputs": [
        {
          "name": "stdout",
          "output_type": "stream",
          "text": [
            "R2-score de validação lp: 0.62\n",
            "mean_squared_absolute_error de validação lp: 10.95\n",
            "R2-score de validação mat: 0.61\n",
            "mean_squared_absolute_error de validação mat: 10.84\n",
            "R2-score de validação cie: 0.58\n",
            "mean_squared_absolute_error de validação cie: 9.49\n"
          ]
        }
      ],
      "source": [
        "from sklearn.metrics import r2_score, mean_squared_error\n",
        "print(\"R2-score de validação lp: %.2f\" % r2_score(target_lp, test_y_lp))\n",
        "print(\"mean_squared_absolute_error de validação lp: %.2f\" % mean_absolute_error(target_lp, test_y_lp))\n",
        "\n",
        "print(\"R2-score de validação mat: %.2f\" % r2_score(target_mat, test_y_mat))\n",
        "print(\"mean_squared_absolute_error de validação mat: %.2f\" % mean_absolute_error(target_mat, test_y_mat))\n",
        "\n",
        "print(\"R2-score de validação cie: %.2f\" % r2_score(target_cie, test_y_cie))\n",
        "print(\"mean_squared_absolute_error de validação cie: %.2f\" % mean_absolute_error(target_cie, test_y_cie))"
      ]
    },
    {
      "cell_type": "markdown",
      "metadata": {
        "id": "h_PobUahUseS"
      },
      "source": [
        "## Logistic Regression"
      ]
    },
    {
      "cell_type": "markdown",
      "metadata": {
        "id": "SCJuwjrAUseS"
      },
      "source": [
        "Now, this part of the assignment aims to predict students' proeficiency level on Portuguese, Mathematics, and Natural Sciences (target values: `nivel_profic_lp`, `nivel_profic_mat` and `nivel_profic_cie`) based on their socioeconomic data. Then, you have to **drop the columns `porc_ACERT_lp`,  `porc_ACERT_MAT`** and  **`porc_ACERT_CIE`**."
      ]
    },
    {
      "cell_type": "code",
      "execution_count": null,
      "metadata": {
        "id": "IdGHT1EiUp3c"
      },
      "outputs": [],
      "source": [
        "#TODO: Load and preprocess your dataset.\n",
        "\n",
        "import numpy as np\n",
        "import pandas as pd\n",
        "import matplotlib.pyplot as plt\n",
        "import seaborn as sns\n",
        "from datetime import datetime, date\n",
        "from sklearn import preprocessing\n",
        "%matplotlib inline\n",
        "\n",
        "df_aux = clean_data(df)\n",
        "df_aux.drop(['porc_ACERT_lp','porc_ACERT_MAT', 'porc_ACERT_CIE'], axis = 1,inplace=True)"
      ]
    },
    {
      "cell_type": "code",
      "execution_count": null,
      "metadata": {
        "id": "EtFLe2alTTzU"
      },
      "outputs": [],
      "source": [
        "##Processing\n",
        "aux = df_aux.select_dtypes('object')\n",
        "encoded = preprocessing.LabelEncoder()\n",
        "aux = aux.apply(encoded.fit_transform)\n",
        "df_aux = pd.concat([df_aux.select_dtypes(['float64', 'int64']), aux], axis=1)"
      ]
    },
    {
      "cell_type": "code",
      "execution_count": null,
      "metadata": {
        "colab": {
          "base_uri": "https://localhost:8080/"
        },
        "id": "mhyuhQAkS-_V",
        "outputId": "d0f33a54-1111-4f32-a7e0-a4efc525a67e"
      },
      "outputs": [
        {
          "data": {
            "text/html": [
              "\n",
              "  <div id=\"df-f83987cc-4bd2-4888-ba3b-577af8301c45\">\n",
              "    <div class=\"colab-df-container\">\n",
              "      <div>\n",
              "<style scoped>\n",
              "    .dataframe tbody tr th:only-of-type {\n",
              "        vertical-align: middle;\n",
              "    }\n",
              "\n",
              "    .dataframe tbody tr th {\n",
              "        vertical-align: top;\n",
              "    }\n",
              "\n",
              "    .dataframe thead th {\n",
              "        text-align: right;\n",
              "    }\n",
              "</style>\n",
              "<table border=\"1\" class=\"dataframe\">\n",
              "  <thead>\n",
              "    <tr style=\"text-align: right;\">\n",
              "      <th></th>\n",
              "      <th>Q1</th>\n",
              "      <th>Q2</th>\n",
              "      <th>Q3</th>\n",
              "      <th>Q4</th>\n",
              "      <th>Q5</th>\n",
              "      <th>Q6</th>\n",
              "      <th>Q7</th>\n",
              "      <th>Q8</th>\n",
              "      <th>Q9</th>\n",
              "      <th>Q10</th>\n",
              "      <th>...</th>\n",
              "      <th>Q48</th>\n",
              "      <th>Q49</th>\n",
              "      <th>Q55</th>\n",
              "      <th>Q56</th>\n",
              "      <th>Q57</th>\n",
              "      <th>TP_SEXO</th>\n",
              "      <th>IDADE</th>\n",
              "      <th>nivel_profic_lp</th>\n",
              "      <th>nivel_profic_mat</th>\n",
              "      <th>nivel_profic_cie</th>\n",
              "    </tr>\n",
              "  </thead>\n",
              "  <tbody>\n",
              "    <tr>\n",
              "      <th>0</th>\n",
              "      <td>1</td>\n",
              "      <td>4</td>\n",
              "      <td>4</td>\n",
              "      <td>4</td>\n",
              "      <td>4</td>\n",
              "      <td>4</td>\n",
              "      <td>4</td>\n",
              "      <td>4</td>\n",
              "      <td>1</td>\n",
              "      <td>0</td>\n",
              "      <td>...</td>\n",
              "      <td>2</td>\n",
              "      <td>2</td>\n",
              "      <td>1</td>\n",
              "      <td>0</td>\n",
              "      <td>3</td>\n",
              "      <td>0</td>\n",
              "      <td>19</td>\n",
              "      <td>0</td>\n",
              "      <td>0</td>\n",
              "      <td>0</td>\n",
              "    </tr>\n",
              "    <tr>\n",
              "      <th>1</th>\n",
              "      <td>1</td>\n",
              "      <td>3</td>\n",
              "      <td>4</td>\n",
              "      <td>2</td>\n",
              "      <td>4</td>\n",
              "      <td>4</td>\n",
              "      <td>4</td>\n",
              "      <td>4</td>\n",
              "      <td>0</td>\n",
              "      <td>0</td>\n",
              "      <td>...</td>\n",
              "      <td>1</td>\n",
              "      <td>2</td>\n",
              "      <td>0</td>\n",
              "      <td>0</td>\n",
              "      <td>2</td>\n",
              "      <td>1</td>\n",
              "      <td>12</td>\n",
              "      <td>1</td>\n",
              "      <td>2</td>\n",
              "      <td>1</td>\n",
              "    </tr>\n",
              "    <tr>\n",
              "      <th>2</th>\n",
              "      <td>1</td>\n",
              "      <td>4</td>\n",
              "      <td>1</td>\n",
              "      <td>3</td>\n",
              "      <td>4</td>\n",
              "      <td>1</td>\n",
              "      <td>3</td>\n",
              "      <td>2</td>\n",
              "      <td>0</td>\n",
              "      <td>0</td>\n",
              "      <td>...</td>\n",
              "      <td>1</td>\n",
              "      <td>2</td>\n",
              "      <td>1</td>\n",
              "      <td>0</td>\n",
              "      <td>4</td>\n",
              "      <td>0</td>\n",
              "      <td>16</td>\n",
              "      <td>3</td>\n",
              "      <td>3</td>\n",
              "      <td>3</td>\n",
              "    </tr>\n",
              "    <tr>\n",
              "      <th>3</th>\n",
              "      <td>1</td>\n",
              "      <td>3</td>\n",
              "      <td>4</td>\n",
              "      <td>3</td>\n",
              "      <td>2</td>\n",
              "      <td>4</td>\n",
              "      <td>3</td>\n",
              "      <td>3</td>\n",
              "      <td>0</td>\n",
              "      <td>0</td>\n",
              "      <td>...</td>\n",
              "      <td>2</td>\n",
              "      <td>2</td>\n",
              "      <td>0</td>\n",
              "      <td>0</td>\n",
              "      <td>4</td>\n",
              "      <td>1</td>\n",
              "      <td>19</td>\n",
              "      <td>0</td>\n",
              "      <td>0</td>\n",
              "      <td>0</td>\n",
              "    </tr>\n",
              "    <tr>\n",
              "      <th>4</th>\n",
              "      <td>1</td>\n",
              "      <td>3</td>\n",
              "      <td>4</td>\n",
              "      <td>4</td>\n",
              "      <td>4</td>\n",
              "      <td>4</td>\n",
              "      <td>4</td>\n",
              "      <td>2</td>\n",
              "      <td>0</td>\n",
              "      <td>0</td>\n",
              "      <td>...</td>\n",
              "      <td>1</td>\n",
              "      <td>1</td>\n",
              "      <td>1</td>\n",
              "      <td>0</td>\n",
              "      <td>4</td>\n",
              "      <td>0</td>\n",
              "      <td>15</td>\n",
              "      <td>1</td>\n",
              "      <td>0</td>\n",
              "      <td>3</td>\n",
              "    </tr>\n",
              "  </tbody>\n",
              "</table>\n",
              "<p>5 rows × 57 columns</p>\n",
              "</div>\n",
              "      <button class=\"colab-df-convert\" onclick=\"convertToInteractive('df-f83987cc-4bd2-4888-ba3b-577af8301c45')\"\n",
              "              title=\"Convert this dataframe to an interactive table.\"\n",
              "              style=\"display:none;\">\n",
              "        \n",
              "  <svg xmlns=\"http://www.w3.org/2000/svg\" height=\"24px\"viewBox=\"0 0 24 24\"\n",
              "       width=\"24px\">\n",
              "    <path d=\"M0 0h24v24H0V0z\" fill=\"none\"/>\n",
              "    <path d=\"M18.56 5.44l.94 2.06.94-2.06 2.06-.94-2.06-.94-.94-2.06-.94 2.06-2.06.94zm-11 1L8.5 8.5l.94-2.06 2.06-.94-2.06-.94L8.5 2.5l-.94 2.06-2.06.94zm10 10l.94 2.06.94-2.06 2.06-.94-2.06-.94-.94-2.06-.94 2.06-2.06.94z\"/><path d=\"M17.41 7.96l-1.37-1.37c-.4-.4-.92-.59-1.43-.59-.52 0-1.04.2-1.43.59L10.3 9.45l-7.72 7.72c-.78.78-.78 2.05 0 2.83L4 21.41c.39.39.9.59 1.41.59.51 0 1.02-.2 1.41-.59l7.78-7.78 2.81-2.81c.8-.78.8-2.07 0-2.86zM5.41 20L4 18.59l7.72-7.72 1.47 1.35L5.41 20z\"/>\n",
              "  </svg>\n",
              "      </button>\n",
              "      \n",
              "  <style>\n",
              "    .colab-df-container {\n",
              "      display:flex;\n",
              "      flex-wrap:wrap;\n",
              "      gap: 12px;\n",
              "    }\n",
              "\n",
              "    .colab-df-convert {\n",
              "      background-color: #E8F0FE;\n",
              "      border: none;\n",
              "      border-radius: 50%;\n",
              "      cursor: pointer;\n",
              "      display: none;\n",
              "      fill: #1967D2;\n",
              "      height: 32px;\n",
              "      padding: 0 0 0 0;\n",
              "      width: 32px;\n",
              "    }\n",
              "\n",
              "    .colab-df-convert:hover {\n",
              "      background-color: #E2EBFA;\n",
              "      box-shadow: 0px 1px 2px rgba(60, 64, 67, 0.3), 0px 1px 3px 1px rgba(60, 64, 67, 0.15);\n",
              "      fill: #174EA6;\n",
              "    }\n",
              "\n",
              "    [theme=dark] .colab-df-convert {\n",
              "      background-color: #3B4455;\n",
              "      fill: #D2E3FC;\n",
              "    }\n",
              "\n",
              "    [theme=dark] .colab-df-convert:hover {\n",
              "      background-color: #434B5C;\n",
              "      box-shadow: 0px 1px 3px 1px rgba(0, 0, 0, 0.15);\n",
              "      filter: drop-shadow(0px 1px 2px rgba(0, 0, 0, 0.3));\n",
              "      fill: #FFFFFF;\n",
              "    }\n",
              "  </style>\n",
              "\n",
              "      <script>\n",
              "        const buttonEl =\n",
              "          document.querySelector('#df-f83987cc-4bd2-4888-ba3b-577af8301c45 button.colab-df-convert');\n",
              "        buttonEl.style.display =\n",
              "          google.colab.kernel.accessAllowed ? 'block' : 'none';\n",
              "\n",
              "        async function convertToInteractive(key) {\n",
              "          const element = document.querySelector('#df-f83987cc-4bd2-4888-ba3b-577af8301c45');\n",
              "          const dataTable =\n",
              "            await google.colab.kernel.invokeFunction('convertToInteractive',\n",
              "                                                     [key], {});\n",
              "          if (!dataTable) return;\n",
              "\n",
              "          const docLinkHtml = 'Like what you see? Visit the ' +\n",
              "            '<a target=\"_blank\" href=https://colab.research.google.com/notebooks/data_table.ipynb>data table notebook</a>'\n",
              "            + ' to learn more about interactive tables.';\n",
              "          element.innerHTML = '';\n",
              "          dataTable['output_type'] = 'display_data';\n",
              "          await google.colab.output.renderOutput(dataTable, element);\n",
              "          const docLink = document.createElement('div');\n",
              "          docLink.innerHTML = docLinkHtml;\n",
              "          element.appendChild(docLink);\n",
              "        }\n",
              "      </script>\n",
              "    </div>\n",
              "  </div>\n",
              "  "
            ],
            "text/plain": [
              "   Q1  Q2  Q3  Q4  Q5  Q6  Q7  Q8  Q9  Q10  ...  Q48  Q49  Q55  Q56  Q57  \\\n",
              "0   1   4   4   4   4   4   4   4   1    0  ...    2    2    1    0    3   \n",
              "1   1   3   4   2   4   4   4   4   0    0  ...    1    2    0    0    2   \n",
              "2   1   4   1   3   4   1   3   2   0    0  ...    1    2    1    0    4   \n",
              "3   1   3   4   3   2   4   3   3   0    0  ...    2    2    0    0    4   \n",
              "4   1   3   4   4   4   4   4   2   0    0  ...    1    1    1    0    4   \n",
              "\n",
              "   TP_SEXO  IDADE  nivel_profic_lp  nivel_profic_mat  nivel_profic_cie  \n",
              "0        0     19                0                 0                 0  \n",
              "1        1     12                1                 2                 1  \n",
              "2        0     16                3                 3                 3  \n",
              "3        1     19                0                 0                 0  \n",
              "4        0     15                1                 0                 3  \n",
              "\n",
              "[5 rows x 57 columns]"
            ]
          },
          "execution_count": 23,
          "metadata": {},
          "output_type": "execute_result"
        }
      ],
      "source": [
        "df_aux.head()"
      ]
    },
    {
      "cell_type": "markdown",
      "metadata": {
        "id": "joYtn8avUseS"
      },
      "source": [
        "### Activities\n",
        "\n",
        "1. (2.75 points) Perform Multinomial Logistic Regression (_i.e._, softmax regression). It is a generalization of Logistic Regression to the case where we want to handle multiple classes. Try different combinations of features, dropping the ones less correlated to the target variables."
      ]
    },
    {
      "cell_type": "code",
      "execution_count": null,
      "metadata": {
        "id": "-36Dt2V_UseT"
      },
      "outputs": [],
      "source": [
        "# TODO: Multinomial Logistic Regression. You can use scikit-learn libraries."
      ]
    },
    {
      "cell_type": "markdown",
      "metadata": {
        "id": "d1hbR5PF-n37"
      },
      "source": [
        "Avaliando se as classes que iremos predizer precisam ser balanceadas.\n",
        "\n",
        "Notamos que as classes estão desbalanceadas"
      ]
    },
    {
      "cell_type": "code",
      "execution_count": null,
      "metadata": {
        "colab": {
          "base_uri": "https://localhost:8080/"
        },
        "id": "021ClzHy-rMj",
        "outputId": "c3f63681-8974-482f-a74a-6ced088a952f"
      },
      "outputs": [
        {
          "name": "stdout",
          "output_type": "stream",
          "text": [
            "Básico              0.453456\n",
            "Adequado            0.264876\n",
            "Abaixo do Básico    0.227255\n",
            "Avançado            0.054413\n",
            "Name: nivel_profic_lp, dtype: float64\n",
            "Básico              0.450214\n",
            "Abaixo do Básico    0.372243\n",
            "Adequado            0.142061\n",
            "Avançado            0.035482\n",
            "Name: nivel_profic_mat, dtype: float64\n",
            "Básico              0.441399\n",
            "Abaixo do Básico    0.296511\n",
            "Adequado            0.206657\n",
            "Avançado            0.055433\n",
            "Name: nivel_profic_cie, dtype: float64\n"
          ]
        }
      ],
      "source": [
        "print(df[\"nivel_profic_lp\"].value_counts(normalize=True))\n",
        "print(df[\"nivel_profic_mat\"].value_counts(normalize=True))\n",
        "print(df[\"nivel_profic_cie\"].value_counts(normalize=True))"
      ]
    },
    {
      "cell_type": "code",
      "execution_count": null,
      "metadata": {
        "id": "6w74FUjbV26f"
      },
      "outputs": [],
      "source": [
        "##Divisão da base em treino e validação\n",
        "from sklearn.model_selection import train_test_split\n",
        "\n",
        "feature_lp = df_aux.drop(['nivel_profic_lp'], axis=1 )\n",
        "feature_mat = df_aux.drop(['nivel_profic_mat','nivel_profic_lp'], axis=1 )\n",
        "feature_cie = df_aux.drop(['nivel_profic_cie','nivel_profic_lp'], axis=1 )\n",
        "\n",
        "y_lp = df_aux['nivel_profic_lp']\n",
        "y_mat = df_aux['nivel_profic_mat']\n",
        "y_cie = df_aux['nivel_profic_cie']\n",
        "\n",
        "\n",
        "X_train_lp, X_test_lp, y_train_lp, y_test_lp = train_test_split(feature_lp, y_lp, test_size=0.2, random_state=30)\n",
        "X_train_mat, X_test_mat, y_train_mat, y_test_mat = train_test_split(feature_mat, y_mat, test_size=0.2, random_state=30)\n",
        "X_train_cie, X_test_cie, y_train_cie, y_test_cie = train_test_split(feature_cie, y_cie, test_size=0.2, random_state=30)"
      ]
    },
    {
      "cell_type": "code",
      "execution_count": null,
      "metadata": {
        "colab": {
          "base_uri": "https://localhost:8080/"
        },
        "id": "3N2ziLW4X-ZT",
        "outputId": "7fbfb5f2-acc7-4d00-8ad8-35d4a268583d"
      },
      "outputs": [
        {
          "name": "stderr",
          "output_type": "stream",
          "text": [
            "/usr/local/lib/python3.7/dist-packages/sklearn/linear_model/_logistic.py:818: ConvergenceWarning: lbfgs failed to converge (status=1):\n",
            "STOP: TOTAL NO. of ITERATIONS REACHED LIMIT.\n",
            "\n",
            "Increase the number of iterations (max_iter) or scale the data as shown in:\n",
            "    https://scikit-learn.org/stable/modules/preprocessing.html\n",
            "Please also refer to the documentation for alternative solver options:\n",
            "    https://scikit-learn.org/stable/modules/linear_model.html#logistic-regression\n",
            "  extra_warning_msg=_LOGISTIC_SOLVER_CONVERGENCE_MSG,\n"
          ]
        }
      ],
      "source": [
        "from sklearn.linear_model import LogisticRegression\n",
        "from sklearn.metrics import classification_report,plot_confusion_matrix\n",
        "from sklearn.preprocessing import MinMaxScaler\n",
        "\n",
        "model_lp = LogisticRegression(penalty ='l2', class_weight='balanced', max_iter = 10000)\n",
        "model_lp.fit(X_train_lp, y_train_lp)\n",
        "predicted_lp = model_lp.predict(X_test_lp)\n",
        "\n",
        "model_mat = LogisticRegression(penalty ='l2', class_weight='balanced', max_iter = 1000)\n",
        "model_mat.fit(X_train_mat, y_train_mat)\n",
        "predicted_mat = model_mat.predict(X_test_mat)\n",
        "\n",
        "model_cie = LogisticRegression(penalty ='l2', class_weight='balanced', max_iter = 500)\n",
        "model_cie.fit(X_train_cie, y_train_cie)\n",
        "predicted_cie = model_cie.predict(X_test_cie)"
      ]
    },
    {
      "cell_type": "code",
      "execution_count": null,
      "metadata": {
        "colab": {
          "base_uri": "https://localhost:8080/"
        },
        "id": "Osm2cwkKbYXX",
        "outputId": "e352b9e1-cf03-40b9-f8c9-294b1008490d"
      },
      "outputs": [
        {
          "name": "stdout",
          "output_type": "stream",
          "text": [
            "                  precision    recall  f1-score   support\n",
            "\n",
            "Abaixo do Básico       0.54      0.69      0.61      5486\n",
            "          Básico       0.41      0.39      0.40      6431\n",
            "        Adequado       0.20      0.69      0.31      1305\n",
            "        Avançado       0.61      0.36      0.45     10898\n",
            "\n",
            "        accuracy                           0.46     24120\n",
            "       macro avg       0.44      0.54      0.44     24120\n",
            "    weighted avg       0.52      0.46      0.47     24120\n",
            "\n",
            "                  precision    recall  f1-score   support\n",
            "\n",
            "Abaixo do Básico       0.64      0.62      0.63      9029\n",
            "          Básico       0.28      0.28      0.28      3369\n",
            "        Adequado       0.14      0.63      0.23       852\n",
            "        Avançado       0.62      0.47      0.53     10870\n",
            "\n",
            "        accuracy                           0.50     24120\n",
            "       macro avg       0.42      0.50      0.42     24120\n",
            "    weighted avg       0.56      0.50      0.52     24120\n",
            "\n",
            "                  precision    recall  f1-score   support\n",
            "\n",
            "Abaixo do Básico       0.58      0.71      0.64      7124\n",
            "          Básico       0.33      0.27      0.30      5007\n",
            "        Adequado       0.17      0.61      0.27      1327\n",
            "        Avançado       0.60      0.37      0.45     10662\n",
            "\n",
            "        accuracy                           0.46     24120\n",
            "       macro avg       0.42      0.49      0.41     24120\n",
            "    weighted avg       0.51      0.46      0.47     24120\n",
            "\n"
          ]
        }
      ],
      "source": [
        "target_names = ['Abaixo do Básico', 'Básico', 'Adequado', 'Avançado']\n",
        "print(classification_report(y_test_lp, predicted_lp, target_names=target_names))\n",
        "print(classification_report(y_test_mat, predicted_mat, target_names=target_names))\n",
        "print(classification_report(y_test_cie, predicted_cie, target_names=target_names))"
      ]
    },
    {
      "cell_type": "code",
      "execution_count": null,
      "metadata": {
        "colab": {
          "base_uri": "https://localhost:8080/"
        },
        "id": "M5OZPe9zo7LG",
        "outputId": "104745b1-f3a7-4cb2-a563-ca73c0ee0c0d"
      },
      "outputs": [
        {
          "data": {
            "text/plain": [
              "24120"
            ]
          },
          "execution_count": 34,
          "metadata": {},
          "output_type": "execute_result"
        }
      ],
      "source": [
        "y_test_lp.shape[0]"
      ]
    },
    {
      "cell_type": "code",
      "execution_count": null,
      "metadata": {
        "colab": {
          "base_uri": "https://localhost:8080/"
        },
        "id": "etTLxAAoUJyy",
        "outputId": "d332cea0-3193-410e-9432-071d08a8fa78"
      },
      "outputs": [
        {
          "name": "stderr",
          "output_type": "stream",
          "text": [
            "/usr/local/lib/python3.7/dist-packages/sklearn/utils/deprecation.py:87: FutureWarning: Function plot_confusion_matrix is deprecated; Function `plot_confusion_matrix` is deprecated in 1.0 and will be removed in 1.2. Use one of the class methods: ConfusionMatrixDisplay.from_predictions or ConfusionMatrixDisplay.from_estimator.\n",
            "  warnings.warn(msg, category=FutureWarning)\n",
            "/usr/local/lib/python3.7/dist-packages/sklearn/utils/deprecation.py:87: FutureWarning: Function plot_confusion_matrix is deprecated; Function `plot_confusion_matrix` is deprecated in 1.0 and will be removed in 1.2. Use one of the class methods: ConfusionMatrixDisplay.from_predictions or ConfusionMatrixDisplay.from_estimator.\n",
            "  warnings.warn(msg, category=FutureWarning)\n",
            "/usr/local/lib/python3.7/dist-packages/sklearn/utils/deprecation.py:87: FutureWarning: Function plot_confusion_matrix is deprecated; Function `plot_confusion_matrix` is deprecated in 1.0 and will be removed in 1.2. Use one of the class methods: ConfusionMatrixDisplay.from_predictions or ConfusionMatrixDisplay.from_estimator.\n",
            "  warnings.warn(msg, category=FutureWarning)\n"
          ]
        },
        {
          "data": {
            "text/plain": [
              "<sklearn.metrics._plot.confusion_matrix.ConfusionMatrixDisplay at 0x7fcca2ac4cd0>"
            ]
          },
          "execution_count": 32,
          "metadata": {},
          "output_type": "execute_result"
        },
        {
          "data": {
            "image/png": "[encoded data removed]",
            "text/plain": [
              "<Figure size 432x288 with 2 Axes>"
            ]
          },
          "metadata": {},
          "output_type": "display_data"
        },
        {
          "data": {
            "image/png": "[encoded data removed]",
            "text/plain": [
              "<Figure size 432x288 with 2 Axes>"
            ]
          },
          "metadata": {},
          "output_type": "display_data"
        },
        {
          "data": {
            "image/png": "[encoded data removed]",
            "text/plain": [
              "<Figure size 432x288 with 2 Axes>"
            ]
          },
          "metadata": {},
          "output_type": "display_data"
        }
      ],
      "source": [
        "plot_confusion_matrix(model_lp, X_test_lp, y_test_lp)\n",
        "plot_confusion_matrix(model_mat, X_test_mat, y_test_mat)\n",
        "plot_confusion_matrix(model_cie, X_test_cie, y_test_cie)"
      ]
    },
    {
      "cell_type": "markdown",
      "metadata": {
        "id": "WQj3oImUUseT"
      },
      "source": [
        "> What are the conclusions? (1-2 paragraphs)"
      ]
    },
    {
      "cell_type": "markdown",
      "source": [
        "> Todas as previsões teve um nível de acurácia insatisfatória, <br>seja para previsão do nívelo de português, matemática ou ciências.<br>Um padrão que pode ser notado é o fator do nível adequado ter<br>\n",
        "baixa precisão em todos os modelos. Isso poderia ser um indício de \n",
        "má distribuição de dados. Ou o modelo pode estar fazendo previsões muito aleatórias."
      ],
      "metadata": {
        "id": "XVCDCN8EdpfY"
      }
    },
    {
      "cell_type": "markdown",
      "metadata": {
        "id": "j7O5OGqxl0-T"
      },
      "source": [
        "**Língua Portuguesa**\n",
        "\n",
        "![acuracia-port.jpeg](data:image/jpeg;base64,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)\n",
        "\n",
        "> ***Accuracy:*** aproximadamente 46% de acerto \n",
        "\n",
        "\n",
        "**Matemática**\n",
        "\n",
        "![acuracia-mat.jpeg](data:image/jpeg;base64,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)\n",
        "\n",
        "> ***Accuracy:*** aproximadamente 50% de acerto  \n",
        "\n",
        "\n",
        "**Ciências**\n",
        "\n",
        "![acuracia.jpeg](data:image/jpeg;base64,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)\n",
        "\n",
        "> ***Accuracy:*** aproximadamente 46% de acerto \n",
        " "
      ]
    },
    {
      "cell_type": "markdown",
      "metadata": {
        "id": "yb1KNEqLUseT"
      },
      "source": [
        "2. (0.5 point) Plot the cost function vs. number of epochs in the training/validation set and analyze the model. "
      ]
    },
    {
      "cell_type": "code",
      "execution_count": null,
      "metadata": {
        "colab": {
          "base_uri": "https://localhost:8080/"
        },
        "id": "NlhO5KZl-5H_",
        "outputId": "279ce750-7db9-40cf-d61b-8d28a18ffc74"
      },
      "outputs": [
        {
          "name": "stderr",
          "output_type": "stream",
          "text": [
            "/usr/local/lib/python3.7/dist-packages/sklearn/linear_model/_stochastic_gradient.py:700: ConvergenceWarning: Maximum number of iteration reached before convergence. Consider increasing max_iter to improve the fit.\n",
            "  ConvergenceWarning,\n",
            "/usr/local/lib/python3.7/dist-packages/sklearn/linear_model/_stochastic_gradient.py:700: ConvergenceWarning: Maximum number of iteration reached before convergence. Consider increasing max_iter to improve the fit.\n",
            "  ConvergenceWarning,\n",
            "/usr/local/lib/python3.7/dist-packages/sklearn/linear_model/_stochastic_gradient.py:700: ConvergenceWarning: Maximum number of iteration reached before convergence. Consider increasing max_iter to improve the fit.\n",
            "  ConvergenceWarning,\n"
          ]
        }
      ],
      "source": [
        "import numpy as np\n",
        "from sklearn.linear_model import SGDClassifier\n",
        "from random import random\n",
        "import matplotlib.pyplot as plt\n",
        "import itertools\n",
        "\n",
        "a_lp = []\n",
        "b_lp = []\n",
        "a_mat = []\n",
        "b_mat = []\n",
        "a_cie = []\n",
        "b_cie = []\n",
        "\n",
        "for iteration in [5, 100, 200, 300, 400, 500, 600, 700]:\n",
        "  model_lp_sgd = SGDClassifier(max_iter=iteration,loss=\"log\",class_weight='balanced')\n",
        "  model_lp_sgd.fit(X_train_lp, y_train_lp)\n",
        "  y_lp_pred = model_lp_sgd.predict(X_test_lp)\n",
        "  x_lp = iteration\n",
        "  y_lp = model_lp_sgd.score(X_test_lp, y_test_lp)\n",
        "  a_lp.append(y_lp)\n",
        "  b_lp.append(x_lp)\n",
        "\n",
        "  model_mat_sgd = SGDClassifier(max_iter=iteration,loss=\"log\",class_weight='balanced')\n",
        "  model_mat_sgd.fit(X_train_mat, y_train_mat)\n",
        "  y_mat_pred = model_mat_sgd.predict(X_test_mat)\n",
        "  x_mat = iteration\n",
        "  y_mat = model_mat_sgd.score(X_test_mat, y_test_mat)\n",
        "  a_mat.append(y_mat)\n",
        "  b_mat.append(x_mat)\n",
        "\n",
        "  model_cie_sgd = SGDClassifier(max_iter=iteration,loss=\"log\",class_weight='balanced')\n",
        "  model_cie_sgd.fit(X_train_cie, y_train_cie)\n",
        "  y_cie_pred = model_cie_sgd.predict(X_test_cie)\n",
        "  x_cie = iteration\n",
        "  y_cie = model_cie_sgd.score(X_test_cie, y_test_cie)\n",
        "  a_cie.append(y_cie)\n",
        "  b_cie.append(x_cie)"
      ]
    },
    {
      "cell_type": "code",
      "execution_count": null,
      "metadata": {
        "id": "wfECeHi3UseT"
      },
      "outputs": [],
      "source": [
        "# TODO: Plot the cost function vs. number of iterations in the training set."
      ]
    },
    {
      "cell_type": "code",
      "execution_count": null,
      "metadata": {
        "colab": {
          "base_uri": "https://localhost:8080/",
          "height": 265
        },
        "id": "aKTZDlk9Usn5",
        "outputId": "fb1e9a71-0f9f-47de-bb75-8fdf05ef1983"
      },
      "outputs": [
        {
          "data": {
            "image/png": "[encoded data removed]",
            "text/plain": [
              "<Figure size 432x288 with 1 Axes>"
            ]
          },
          "metadata": {},
          "output_type": "display_data"
        }
      ],
      "source": [
        "##Vamos utilizar a saida do SGD classifier para calcular a função de custo\n",
        "import matplotlib.pyplot as plt\n",
        "import numpy as np\n",
        "\n",
        "plt.plot(b_lp, a_lp, color='black');\n",
        "plt.plot(b_mat, a_mat, color='blue');\n",
        "plt.plot(b_cie, a_cie, color='red');\n"
      ]
    },
    {
      "cell_type": "markdown",
      "metadata": {
        "id": "-IM4mx23UseT"
      },
      "source": [
        "> What are the conclusions? (1-2 paragraphs)\n"
      ]
    },
    {
      "cell_type": "markdown",
      "metadata": {
        "id": "Lqlv9-6OUseT"
      },
      "source": [
        "3. (0.75 point) Pick **your best model** and plot the confusion matrix in the **test set**. \n"
      ]
    },
    {
      "cell_type": "code",
      "execution_count": null,
      "metadata": {
        "id": "-jdyJuS0UseT"
      },
      "outputs": [],
      "source": [
        "# TODO: Plot the confusion matrix. You can use scikit-learn, seaborn, matplotlib libraries."
      ]
    },
    {
      "cell_type": "code",
      "execution_count": null,
      "metadata": {
        "id": "BDaICo1AYjmc"
      },
      "outputs": [],
      "source": []
    },
    {
      "cell_type": "code",
      "execution_count": null,
      "metadata": {
        "id": "FkThSPksVXPZ"
      },
      "outputs": [],
      "source": [
        "teste_aux = clean_data(teste)\n",
        "\n",
        "##Processing\n",
        "aux = teste_aux.select_dtypes('object')\n",
        "encoded = preprocessing.LabelEncoder()\n",
        "aux = aux.apply(encoded.fit_transform)\n",
        "teste_aux = pd.concat([teste_aux.select_dtypes(['float64', 'int64']), aux], axis=1)\n",
        "\n",
        "target_mat = teste_aux['nivel_profic_mat']\n",
        "target_cie = teste_aux['nivel_profic_cie']\n",
        "\n",
        "feature_target_mat = teste_aux.drop(['porc_ACERT_MAT', 'porc_ACERT_CIE','porc_ACERT_lp','nivel_profic_mat'], axis = 1)\n",
        "feature_target_cie = teste_aux.drop(['porc_ACERT_MAT', 'porc_ACERT_CIE','porc_ACERT_lp','nivel_profic_cie'], axis = 1)"
      ]
    },
    {
      "cell_type": "code",
      "execution_count": null,
      "metadata": {
        "id": "PEbRqvLDWM5R"
      },
      "outputs": [],
      "source": [
        "predicted_mat = model_mat.predict(feature_target_mat)\n",
        "predicted_cie = model_cie.predict(feature_target_cie)"
      ]
    },
    {
      "cell_type": "code",
      "execution_count": null,
      "metadata": {
        "colab": {
          "base_uri": "https://localhost:8080/"
        },
        "id": "iteEWH_6YSrU",
        "outputId": "d5bda441-5a72-4126-a450-dc198d5ba09b"
      },
      "outputs": [
        {
          "data": {
            "text/plain": [
              "1000"
            ]
          },
          "execution_count": 107,
          "metadata": {},
          "output_type": "execute_result"
        }
      ],
      "source": [
        "predicted_mat.shape[0]"
      ]
    },
    {
      "cell_type": "code",
      "execution_count": null,
      "metadata": {
        "colab": {
          "base_uri": "https://localhost:8080/"
        },
        "id": "7HeVzfrJXilA",
        "outputId": "54cd8ae9-0f71-477b-83c3-ccbd7c3f8b4a"
      },
      "outputs": [
        {
          "data": {
            "text/plain": [
              "1000"
            ]
          },
          "execution_count": 103,
          "metadata": {},
          "output_type": "execute_result"
        }
      ],
      "source": [
        "target_mat.shape[0]"
      ]
    },
    {
      "cell_type": "code",
      "execution_count": null,
      "metadata": {
        "colab": {
          "base_uri": "https://localhost:8080/"
        },
        "id": "SRLed26AWbUl",
        "outputId": "21e672bd-2950-4f49-978d-0d3b3a616b63"
      },
      "outputs": [
        {
          "name": "stdout",
          "output_type": "stream",
          "text": [
            "              precision    recall  f1-score   support\n",
            "\n",
            "     class 0       0.64      0.59      0.62       402\n",
            "     class 1       0.28      0.34      0.31       134\n",
            "     class 2       0.16      0.56      0.25        41\n",
            "     Class 3       0.54      0.41      0.47       423\n",
            "\n",
            "    accuracy                           0.48      1000\n",
            "   macro avg       0.41      0.48      0.41      1000\n",
            "weighted avg       0.53      0.48      0.50      1000\n",
            "\n",
            "              precision    recall  f1-score   support\n",
            "\n",
            "     class 0       0.58      0.73      0.64       304\n",
            "     class 1       0.29      0.22      0.25       205\n",
            "     class 2       0.17      0.58      0.26        57\n",
            "     Class 3       0.59      0.36      0.45       434\n",
            "\n",
            "    accuracy                           0.46      1000\n",
            "   macro avg       0.41      0.47      0.40      1000\n",
            "weighted avg       0.50      0.46      0.46      1000\n",
            "\n"
          ]
        }
      ],
      "source": [
        "target_names = ['class 0', 'class 1', 'class 2','Class 3']\n",
        "print(classification_report(target_mat, predicted_mat, target_names=target_names))\n",
        "print(classification_report(target_cie, predicted_cie, target_names=target_names))"
      ]
    },
    {
      "cell_type": "code",
      "execution_count": null,
      "metadata": {
        "colab": {
          "base_uri": "https://localhost:8080/",
          "height": 648
        },
        "id": "CYEFFT5wWqWk",
        "outputId": "0875490d-35f9-4a91-8b26-0d396ab0a4a3"
      },
      "outputs": [
        {
          "name": "stderr",
          "output_type": "stream",
          "text": [
            "/usr/local/lib/python3.7/dist-packages/sklearn/utils/deprecation.py:87: FutureWarning: Function plot_confusion_matrix is deprecated; Function `plot_confusion_matrix` is deprecated in 1.0 and will be removed in 1.2. Use one of the class methods: ConfusionMatrixDisplay.from_predictions or ConfusionMatrixDisplay.from_estimator.\n",
            "  warnings.warn(msg, category=FutureWarning)\n",
            "/usr/local/lib/python3.7/dist-packages/sklearn/utils/deprecation.py:87: FutureWarning: Function plot_confusion_matrix is deprecated; Function `plot_confusion_matrix` is deprecated in 1.0 and will be removed in 1.2. Use one of the class methods: ConfusionMatrixDisplay.from_predictions or ConfusionMatrixDisplay.from_estimator.\n",
            "  warnings.warn(msg, category=FutureWarning)\n"
          ]
        },
        {
          "data": {
            "text/plain": [
              "<sklearn.metrics._plot.confusion_matrix.ConfusionMatrixDisplay at 0x7f2ac3005390>"
            ]
          },
          "execution_count": 110,
          "metadata": {},
          "output_type": "execute_result"
        },
        {
          "data": {
            "image/png": "[encoded data removed]",
            "text/plain": [
              "<Figure size 432x288 with 2 Axes>"
            ]
          },
          "metadata": {},
          "output_type": "display_data"
        },
        {
          "data": {
            "image/png": "[encoded data removed]",
            "text/plain": [
              "<Figure size 432x288 with 2 Axes>"
            ]
          },
          "metadata": {},
          "output_type": "display_data"
        }
      ],
      "source": [
        "plot_confusion_matrix(model_mat, feature_target_mat, target_mat)\n",
        "plot_confusion_matrix(model_cie, feature_target_cie, target_cie)"
      ]
    },
    {
      "cell_type": "markdown",
      "metadata": {
        "id": "xAmCj0cpUseT"
      },
      "source": [
        "> What are the conclusions? (1-2 paragraphs)\n"
      ]
    },
    {
      "cell_type": "markdown",
      "source": [
        "> Todos nossos modelos tiveram uma má performance. \n",
        "\n",
        "> Quando contruímos o modelo sem a utilização de frameworks conseguimos sentir uma dificuldade com relação a processamento do modelo, no nosso caso, não foi possível rodar por mais de 50 iterações, e a implementação de muitas técnicas que já são utilizadas como padrão em frameworks , como sklearn, também fizeram com que o modelo perdesse acurácia e até mesmo apresentasse um comportamento randômico quando apresentado a novos dados. \n",
        "\n",
        ">O modelo SGDRegressor foi o pior dos modelos, dos utilizados com implementações de framework, mesmo mudando os parâmetros de learning rate, o modelo não apresentou nenhuma melhoria. \n",
        "\n",
        "\n",
        "> Conseguimos identificar que o modelo polinomial precisaria ser aplicado alguamas outras técnicas para redução de dimensionalidade pois é muito custoso, na questão de uso de recurso, para treinar um modelo com tantas features de entrada.\n",
        "\n",
        "\n",
        "> Rodamos nossos modelos com todas as features (tratadas) e tivemos uma avaliação do modelo abaixo com relação à quando retiramos alguns deles que a matriz de correlação identificou como aproximadamente 0 de relação com nossas targets. Outro ponto com relação aos dados é que dentro de uma feature que criamos a partir da data de nascimento continham outliers que também podem ter influênciado o resultado final.\n",
        "\n",
        "> As relações mais fortes apresentadas pela matriz de correlação eram entre as próprias variáveis target."
      ],
      "metadata": {
        "id": "MF0BM4GvfRIi"
      }
    },
    {
      "cell_type": "markdown",
      "metadata": {
        "id": "kdSGS4brHnAi"
      },
      "source": [
        "## Deadline\n",
        "\n",
        "Monday, September 19, 11:59 pm. \n",
        "\n",
        "Penalty policy for late submission: You are not encouraged to submit your assignment after due date. However, in case you do, your grade will be penalized as follows:\n",
        "- September 20, 11:59 pm : grade * 0.75\n",
        "- September 21, 11:59 pm : grade * 0.5\n",
        "- September 22, 11:59 pm : grade * 0.25\n"
      ]
    },
    {
      "cell_type": "markdown",
      "metadata": {
        "id": "joN9pvZJIfW5"
      },
      "source": [
        "## Submission\n",
        "\n",
        "On Google Classroom, submit your Jupyter Notebook (in Portuguese or English).\n",
        "\n",
        "**This activity is NOT individual, it must be done in pairs (two-person group).**"
      ]
    }
  ],
  "metadata": {
    "colab": {
      "collapsed_sections": [
        "Cs9E_R5yD48u",
        "IVGH2s7fD_03",
        "5FAA8hsZUseO",
        "4bMsCpRpIN5y",
        "Y83eoo5CKm09",
        "tk0-9SPegrHM",
        "-FwKnXtXhUgs"
      ],
      "provenance": []
    },
    "gpuClass": "standard",
    "kernelspec": {
      "display_name": "Python 3 (ipykernel)",
      "language": "python",
      "name": "python3"
    },
    "language_info": {
      "codemirror_mode": {
        "name": "ipython",
        "version": 3
      },
      "file_extension": ".py",
      "mimetype": "text/x-python",
      "name": "python",
      "nbconvert_exporter": "python",
      "pygments_lexer": "ipython3",
      "version": "3.9.12"
    }
  },
  "nbformat": 4,
  "nbformat_minor": 0
}