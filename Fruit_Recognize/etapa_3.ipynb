{
 "cells": [
  {
   "cell_type": "markdown",
   "id": "de89933a",
   "metadata": {},
   "source": [
    "## TESTE FINAL"
   ]
  },
  {
   "cell_type": "markdown",
   "id": "1dbd3252",
   "metadata": {},
   "source": [
    "Esquecemos de salvar o modelo no momento que treinamos, por isso iremos rodar e treinar novamente, salvar e testar com todas o nosso dataset de teste com 3200 imagens, desta vez, que pode ser encontrada em: https://data.mendeley.com/datasets/bdd69gyhv8"
   ]
  },
  {
   "cell_type": "code",
   "execution_count": 1,
   "id": "6bf75fc2",
   "metadata": {},
   "outputs": [
    {
     "name": "stderr",
     "output_type": "stream",
     "text": [
      "Using TensorFlow backend.\n"
     ]
    }
   ],
   "source": [
    "from tensorflow.keras.models import Model\n",
    "import matplotlib.pyplot as plt\n",
    "import tensorflow as tf\n",
    "from tensorflow.keras.preprocessing.image import ImageDataGenerator\n",
    "from utils import Utils\n",
    "\n",
    "import random \n",
    "import os\n",
    "from keras.preprocessing import image\n",
    "import numpy as np"
   ]
  },
  {
   "cell_type": "markdown",
   "id": "6bc1ed66",
   "metadata": {},
   "source": [
    "Como é o processador?"
   ]
  },
  {
   "cell_type": "code",
   "execution_count": 2,
   "id": "ed3cd880",
   "metadata": {},
   "outputs": [
    {
     "name": "stdout",
     "output_type": "stream",
     "text": [
      "Mon Dec 12 05:38:41 2022       \n",
      "+-----------------------------------------------------------------------------+\n",
      "| NVIDIA-SMI 497.29       Driver Version: 497.29       CUDA Version: 11.5     |\n",
      "|-------------------------------+----------------------+----------------------+\n",
      "| GPU  Name            TCC/WDDM | Bus-Id        Disp.A | Volatile Uncorr. ECC |\n",
      "| Fan  Temp  Perf  Pwr:Usage/Cap|         Memory-Usage | GPU-Util  Compute M. |\n",
      "|                               |                      |               MIG M. |\n",
      "|===============================+======================+======================|\n",
      "|   0  NVIDIA GeForce ... WDDM  | 00000000:01:00.0  On |                  N/A |\n",
      "| N/A   48C    P8     6W /  N/A |    541MiB /  6144MiB |     13%      Default |\n",
      "|                               |                      |                  N/A |\n",
      "+-------------------------------+----------------------+----------------------+\n",
      "                                                                               \n",
      "+-----------------------------------------------------------------------------+\n",
      "| Processes:                                                                  |\n",
      "|  GPU   GI   CI        PID   Type   Process name                  GPU Memory |\n",
      "|        ID   ID                                                   Usage      |\n",
      "|=============================================================================|\n",
      "|    0   N/A  N/A     82040    C+G   Insufficient Permissions        N/A      |\n",
      "|    0   N/A  N/A    149864    C+G   ...rvice\\ePowerButton_NB.exe    N/A      |\n",
      "|    0   N/A  N/A    150088    C+G   ...ser\\Application\\brave.exe    N/A      |\n",
      "+-----------------------------------------------------------------------------+\n"
     ]
    }
   ],
   "source": [
    "!nvidia-smi"
   ]
  },
  {
   "cell_type": "code",
   "execution_count": 3,
   "id": "40b6f426",
   "metadata": {},
   "outputs": [
    {
     "name": "stdout",
     "output_type": "stream",
     "text": [
      "Image shape: (1600, 1200, 3)\n"
     ]
    },
    {
     "data": {
      "text/plain": [
       "array([[[155, 158, 167],\n",
       "        [155, 158, 167],\n",
       "        [155, 158, 167],\n",
       "        ...,\n",
       "        [185, 185, 193],\n",
       "        [185, 185, 193],\n",
       "        [185, 185, 193]],\n",
       "\n",
       "       [[155, 158, 167],\n",
       "        [155, 158, 167],\n",
       "        [155, 158, 167],\n",
       "        ...,\n",
       "        [185, 185, 193],\n",
       "        [185, 185, 193],\n",
       "        [185, 185, 193]],\n",
       "\n",
       "       [[155, 158, 167],\n",
       "        [155, 158, 167],\n",
       "        [155, 158, 167],\n",
       "        ...,\n",
       "        [185, 185, 193],\n",
       "        [185, 185, 193],\n",
       "        [185, 185, 193]],\n",
       "\n",
       "       ...,\n",
       "\n",
       "       [[ 83,  80,  97],\n",
       "        [ 83,  80,  97],\n",
       "        [ 83,  80,  97],\n",
       "        ...,\n",
       "        [176, 179, 188],\n",
       "        [176, 179, 188],\n",
       "        [176, 179, 188]],\n",
       "\n",
       "       [[ 83,  80,  97],\n",
       "        [ 83,  80,  97],\n",
       "        [ 83,  80,  97],\n",
       "        ...,\n",
       "        [176, 179, 188],\n",
       "        [176, 179, 188],\n",
       "        [176, 179, 188]],\n",
       "\n",
       "       [[ 83,  80,  97],\n",
       "        [ 83,  80,  97],\n",
       "        [ 83,  80,  97],\n",
       "        ...,\n",
       "        [176, 179, 188],\n",
       "        [176, 179, 188],\n",
       "        [176, 179, 188]]], dtype=uint8)"
      ]
     },
     "execution_count": 3,
     "metadata": {},
     "output_type": "execute_result"
    },
    {
     "data": {
      "image/png": "[encoded data removed]",
      "text/plain": [
       "<Figure size 432x288 with 1 Axes>"
      ]
     },
     "metadata": {
      "needs_background": "light"
     },
     "output_type": "display_data"
    }
   ],
   "source": [
    "Utils.view_random_img(target_dir=\"data/test\", target_class=\"FreshBanana\")"
   ]
  },
  {
   "cell_type": "code",
   "execution_count": 4,
   "id": "5bf14385",
   "metadata": {},
   "outputs": [
    {
     "name": "stdout",
     "output_type": "stream",
     "text": [
      "Found 8362 images belonging to 2 classes.\n",
      "Found 2381 images belonging to 2 classes.\n",
      "32, 32\n",
      "32, 32\n",
      "Tamanho do lote: 262\n"
     ]
    }
   ],
   "source": [
    "#Definição do caminho dos diretórios\n",
    "train_dir = 'data/train/'\n",
    "val_dir = 'data/validation/'\n",
    "\n",
    "#Normalização das imagens, dividindo os valores dos pixels (0-255) por 255\n",
    "#Passamos essa informação para Parametro rescale do ImageDataGenerator\n",
    "train_datagen = ImageDataGenerator(rescale=1/255)\n",
    "val_datagen = ImageDataGenerator(rescale=1/255)\n",
    "\n",
    "\n",
    "#Carregamento das imagens e a divisão deles batches de tamanho 32, redimencionamento das imagens \n",
    "#para facilitar o treinamento para (224,224,3) e a própria biblioteca, devido a organização dos diretórios\n",
    "#também consegue categorizar nossos dados. No nosso caso teremos duas categorias: Fresca ou Podre\n",
    "train_data = train_datagen.flow_from_directory(directory=train_dir,\n",
    "                                              target_size=(224, 224),\n",
    "                                              class_mode='binary', #Type of problem we are working with. Cuold be categorical\n",
    "                                              batch_size=32)\n",
    "\n",
    "val_data = val_datagen.flow_from_directory(directory=val_dir,\n",
    "                                              target_size=(224, 224),\n",
    "                                              class_mode='binary',\n",
    "                                              batch_size=32)\n",
    "\n",
    "#Pegando um lote de imagens/target no nosso dataset de treinamento\n",
    "images, labels = train_data.next() \n",
    "print(f'{len(images)}, {len(labels)}')\n",
    "\n",
    "#Pegando um lote de imagens/target no nosso dataset de validação\n",
    "val_images, val_labels = val_data.next() \n",
    "print(f'{len(images)}, {len(labels)}')\n",
    "\n",
    "#Visualizando a quantidade de lotes\n",
    "print(f'Tamanho do lote: {len(train_data)}')"
   ]
  },
  {
   "cell_type": "code",
   "execution_count": 5,
   "id": "aec864bf",
   "metadata": {},
   "outputs": [],
   "source": [
    "class CNN(Model):\n",
    "    \n",
    "    def __init__(self):\n",
    "        super().__init__()\n",
    "\n",
    "        self.conv = tf.keras.layers.Conv2D(10,3, activation=\"relu\", padding='same')\n",
    "        self.max_pool_one = tf.keras.layers.MaxPooling2D(2,2)\n",
    "        self.conv_two = tf.keras.layers.Conv2D(16,3,activation=\"relu\",padding='same')\n",
    "        self.max_pool_two = tf.keras.layers.MaxPooling2D(2,2)\n",
    "        self.conv_three = tf.keras.layers.Conv2D(32,3,activation=\"relu\", padding='same')\n",
    "        self.max_pool_three = tf.keras.layers.MaxPooling2D(2,2)\n",
    "        self.flat_two = tf.keras.layers.Flatten()\n",
    "        self.out = tf.keras.layers.Dense(1, activation='sigmoid')\n",
    "        \n",
    "        \n",
    "    def __call__(self, inputs, training=True):\n",
    "        conv1 = self.conv(inputs)\n",
    "        poll = self.max_pool_one(conv1)\n",
    "        conv2 = self.conv_two(poll)\n",
    "        poll2 = self.max_pool_two(conv2)\n",
    "        conv3 = self.conv_three(poll2)\n",
    "        poll3 = self.max_pool_three(conv3)\n",
    "        flat2 = self.flat_two(poll3)\n",
    "\n",
    "        return self.out(flat2)\n",
    "    \n",
    "\n",
    "    def analyse_result(self, origianl_data, num_sample=10) -> None:\n",
    "        encoded_imgs = self.encoder(origianl_data).numpy()\n",
    "        decoded_imgs = self.decoder(encoded_imgs).numpy()\n",
    "\n",
    "        plt.figure(figsize=(20, 4))\n",
    "        for i in range(num_sample):\n",
    "          # display original\n",
    "          ax = plt.subplot(2, num_sample, i + 1)\n",
    "          plt.imshow(origianl_data[i])\n",
    "          plt.title(\"original\")\n",
    "          plt.gray()\n",
    "          ax.get_xaxis().set_visible(False)\n",
    "          ax.get_yaxis().set_visible(False)\n",
    "\n",
    "        for i in range(num_sample):\n",
    "          # display reconstrução\n",
    "          ax = plt.subplot(2, num_sample, i + 1 + num_sample)\n",
    "          plt.imshow(decoded_imgs[i])\n",
    "          plt.title(\"reconstructed\")\n",
    "          plt.gray()\n",
    "          ax.get_xaxis().set_visible(False)\n",
    "          ax.get_yaxis().set_visible(False)\n",
    "\n",
    "\n",
    "    def plot_train_result(self, hist) -> None:\n",
    "        plt.plot(hist.history['loss'])\n",
    "        plt.plot(hist.history['val_loss'])\n",
    "        plt.legend(['Training','Validation'])\n",
    "        plt.title(\"Training And Validation Loss\")\n",
    "        plt.xlabel(\"Epochs\")\n",
    "        \n",
    "        \n",
    "    def predict_fruit(self, target_dir, class_list) -> None:\n",
    "        #Pegndo exemplos aleatórios\n",
    "        target_class = random.sample(class_list, 1)\n",
    "        target_folder = target_dir+\"/\"+target_class[0]\n",
    "        random_image = random.sample(os.listdir(target_folder), 1)\n",
    "\n",
    "        #Preparando as images\n",
    "        test_image = image.load_img(target_folder+\"/\"+random_image[0], target_size = (224,224))\n",
    "        test_image = image.img_to_array(test_image)\n",
    "        test_image = np.expand_dims(test_image, axis = 0)\n",
    "        result = self.predict(test_image)\n",
    "\n",
    "        print(f\"Classificação real: { target_class[0] }\")\n",
    "        print(f\"Imagem classificada como: {result[0] }\")\n",
    "        print(f\"Valor associado: 0=Fresh, 1=Rotten\")"
   ]
  },
  {
   "cell_type": "code",
   "execution_count": 6,
   "id": "e820c63d",
   "metadata": {},
   "outputs": [
    {
     "name": "stdout",
     "output_type": "stream",
     "text": [
      "WARNING:tensorflow:sample_weight modes were coerced from\n",
      "  ...\n",
      "    to  \n",
      "  ['...']\n",
      "Train for 262 steps, validate for 75 steps\n",
      "Epoch 1/5\n",
      "262/262 [==============================] - 118s 452ms/step - loss: 0.4249 - auc: 0.8915 - val_loss: 0.3228 - val_auc: 0.9527\n",
      "Epoch 2/5\n",
      "262/262 [==============================] - 118s 449ms/step - loss: 0.2926 - auc: 0.9478 - val_loss: 0.2448 - val_auc: 0.9655\n",
      "Epoch 3/5\n",
      "262/262 [==============================] - 118s 450ms/step - loss: 0.2680 - auc: 0.9564 - val_loss: 0.2167 - val_auc: 0.9717\n",
      "Epoch 4/5\n",
      "262/262 [==============================] - 113s 430ms/step - loss: 0.2528 - auc: 0.9608 - val_loss: 0.2054 - val_auc: 0.9752\n",
      "Epoch 5/5\n",
      "262/262 [==============================] - 108s 412ms/step - loss: 0.2368 - auc: 0.9658 - val_loss: 0.2009 - val_auc: 0.9755\n"
     ]
    }
   ],
   "source": [
    "cnn5 = CNN()\n",
    "cnn5.compile(loss=tf.keras.losses.binary_crossentropy, optimizer=tf.keras.optimizers.SGD(learning_rate=0.01), metrics=[tf.keras.metrics.AUC()])\n",
    "cnn_hist5 = cnn5.fit(train_data, epochs=5, validation_data=val_data, validation_steps=len(val_data), shuffle=True)"
   ]
  },
  {
   "cell_type": "code",
   "execution_count": 7,
   "id": "a1b48e8c",
   "metadata": {},
   "outputs": [
    {
     "data": {
      "image/png": "[encoded data removed]",
      "text/plain": [
       "<Figure size 432x288 with 1 Axes>"
      ]
     },
     "metadata": {
      "needs_background": "light"
     },
     "output_type": "display_data"
    }
   ],
   "source": [
    "cnn5.plot_train_result(cnn_hist5)"
   ]
  },
  {
   "cell_type": "code",
   "execution_count": 8,
   "id": "bc32d8af",
   "metadata": {},
   "outputs": [
    {
     "name": "stdout",
     "output_type": "stream",
     "text": [
      "Perda: 0.6681555509567261\n",
      "Acurácia: 0.8551586866378784\n"
     ]
    }
   ],
   "source": [
    "#Realizando a validação do modelo em dados de teste\n",
    "validation_train_eval = cnn5.evaluate(images, labels, verbose=0)\n",
    "print(f'Perda: {validation_train_eval[0]}\\nAcurácia: {validation_train_eval[1]}')"
   ]
  },
  {
   "cell_type": "code",
   "execution_count": 9,
   "id": "558a1141",
   "metadata": {},
   "outputs": [],
   "source": [
    "cnn5.save_weights('classification_cnn_five.h5')"
   ]
  },
  {
   "cell_type": "markdown",
   "id": "38ca8c53",
   "metadata": {},
   "source": [
    "### Carregando o conjunto de dados de teste"
   ]
  },
  {
   "cell_type": "code",
   "execution_count": 10,
   "id": "bf643a8e",
   "metadata": {},
   "outputs": [],
   "source": [
    "test_datagen=ImageDataGenerator(rescale=1/255.0)"
   ]
  },
  {
   "cell_type": "code",
   "execution_count": 11,
   "id": "d915b3f9",
   "metadata": {},
   "outputs": [
    {
     "name": "stdout",
     "output_type": "stream",
     "text": [
      "Found 3200 images belonging to 16 classes.\n"
     ]
    }
   ],
   "source": [
    "test_data=test_datagen.flow_from_directory(\"data/test\",\n",
    "                                            target_size=(224, 224),batch_size=32,class_mode=\"binary\")"
   ]
  },
  {
   "cell_type": "code",
   "execution_count": 12,
   "id": "3548a752",
   "metadata": {},
   "outputs": [],
   "source": [
    "class_dir = test_data.class_indices"
   ]
  },
  {
   "cell_type": "code",
   "execution_count": 13,
   "id": "4fcb96d4",
   "metadata": {},
   "outputs": [],
   "source": [
    "#Pegando um lote de imagens/target no nosso dataset de treinamento\n",
    "images, labels = test_data.next() "
   ]
  },
  {
   "cell_type": "code",
   "execution_count": 14,
   "id": "792f5cc9",
   "metadata": {},
   "outputs": [
    {
     "name": "stdout",
     "output_type": "stream",
     "text": [
      "\r",
      "32/32 [==============================] - 0s 4ms/sample - loss: -4.1596 - auc: 0.3583\n"
     ]
    }
   ],
   "source": [
    "test_eval = cnn5.evaluate(images, labels, verbose=1)"
   ]
  },
  {
   "cell_type": "code",
   "execution_count": 15,
   "id": "b35e30a7",
   "metadata": {},
   "outputs": [
    {
     "data": {
      "text/plain": [
       "[-4.159624099731445, 0.35833335]"
      ]
     },
     "execution_count": 15,
     "metadata": {},
     "output_type": "execute_result"
    }
   ],
   "source": [
    "test_eval"
   ]
  },
  {
   "cell_type": "code",
   "execution_count": 16,
   "id": "1b95ac06",
   "metadata": {},
   "outputs": [
    {
     "data": {
      "text/plain": [
       "dict_keys(['FreshApple', 'FreshBanana', 'FreshGrape', 'FreshGuava', 'FreshJujube', 'FreshOrange', 'FreshPomegranate', 'FreshStrawberry', 'RottenApple', 'RottenBanana', 'RottenGrape', 'RottenGuava', 'RottenJujube', 'RottenOrange', 'RottenPomegranate', 'RottenStrawberry'])"
      ]
     },
     "execution_count": 16,
     "metadata": {},
     "output_type": "execute_result"
    }
   ],
   "source": [
    "TARGET_DIR = \"data/test\"\n",
    "REAL_CLASSES = class_dir.keys()\n",
    "\n",
    "REAL_CLASSES"
   ]
  },
  {
   "cell_type": "markdown",
   "id": "2317ef26",
   "metadata": {},
   "source": [
    "### Fazendo previsões"
   ]
  },
  {
   "cell_type": "code",
   "execution_count": 18,
   "id": "807a1bc5",
   "metadata": {},
   "outputs": [
    {
     "name": "stdout",
     "output_type": "stream",
     "text": [
      "Classificação real: FreshApple\n",
      "Imagem classificada como: [1.]\n",
      "Valor associado: 0=Fresh, 1=Rotten\n"
     ]
    }
   ],
   "source": [
    "cnn5.predict_fruit(TARGET_DIR, REAL_CLASSES)"
   ]
  },
  {
   "cell_type": "code",
   "execution_count": 19,
   "id": "673a5460",
   "metadata": {},
   "outputs": [
    {
     "name": "stdout",
     "output_type": "stream",
     "text": [
      "Classificação real: FreshPomegranate\n",
      "Imagem classificada como: [1.]\n",
      "Valor associado: 0=Fresh, 1=Rotten\n"
     ]
    }
   ],
   "source": [
    "cnn5.predict_fruit(TARGET_DIR, REAL_CLASSES)"
   ]
  },
  {
   "cell_type": "code",
   "execution_count": 20,
   "id": "b5cb3a90",
   "metadata": {},
   "outputs": [
    {
     "name": "stdout",
     "output_type": "stream",
     "text": [
      "Classificação real: FreshBanana\n",
      "Imagem classificada como: [0.]\n",
      "Valor associado: 0=Fresh, 1=Rotten\n"
     ]
    }
   ],
   "source": [
    "cnn5.predict_fruit(TARGET_DIR, REAL_CLASSES)"
   ]
  },
  {
   "cell_type": "code",
   "execution_count": 21,
   "id": "7fce271d",
   "metadata": {},
   "outputs": [
    {
     "name": "stdout",
     "output_type": "stream",
     "text": [
      "Classificação real: RottenStrawberry\n",
      "Imagem classificada como: [1.]\n",
      "Valor associado: 0=Fresh, 1=Rotten\n"
     ]
    }
   ],
   "source": [
    "cnn5.predict_fruit(TARGET_DIR, REAL_CLASSES)"
   ]
  },
  {
   "cell_type": "code",
   "execution_count": null,
   "id": "526acc66",
   "metadata": {},
   "outputs": [],
   "source": []
  },
  {
   "cell_type": "code",
   "execution_count": null,
   "id": "180fa984",
   "metadata": {},
   "outputs": [],
   "source": []
  }
 ],
 "metadata": {
  "kernelspec": {
   "display_name": "Python 3 (ipykernel)",
   "language": "python",
   "name": "python3"
  },
  "language_info": {
   "codemirror_mode": {
    "name": "ipython",
    "version": 3
   },
   "file_extension": ".py",
   "mimetype": "text/x-python",
   "name": "python",
   "nbconvert_exporter": "python",
   "pygments_lexer": "ipython3",
   "version": "3.7.0"
  },
  "vscode": {
   "interpreter": {
    "hash": "721d71e11ae50bcbcc51f95fe53bb41e8fb3553453b6f9da08bbbecb84f4d395"
   }
  }
 },
 "nbformat": 4,
 "nbformat_minor": 5
}
